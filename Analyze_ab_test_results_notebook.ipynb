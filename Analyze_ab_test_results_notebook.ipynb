{
 "cells": [
  {
   "cell_type": "markdown",
   "metadata": {},
   "source": [
    "## Analyze A/B Test Results\n",
    "\n",
    "You may either submit your notebook through the workspace here, or you may work from your local machine and submit through the next page.  Either way assure that your code passes the project [RUBRIC](https://review.udacity.com/#!/projects/37e27304-ad47-4eb0-a1ab-8c12f60e43d0/rubric).  **Please save regularly.**\n",
    "\n",
    "This project will assure you have mastered the subjects covered in the statistics lessons.  The hope is to have this project be as comprehensive of these topics as possible.  Good luck!\n",
    "\n",
    "## Table of Contents\n",
    "- [Introduction](#intro)\n",
    "- [Part I - Probability](#probability)\n",
    "- [Part II - A/B Test](#ab_test)\n",
    "- [Part III - Regression](#regression)\n",
    "\n",
    "\n",
    "<a id='intro'></a>\n",
    "### Introduction\n",
    "\n",
    "A/B tests are very commonly performed by data analysts and data scientists.  It is important that you get some practice working with the difficulties of these \n",
    "\n",
    "For this project, you will be working to understand the results of an A/B test run by an e-commerce website.  Your goal is to work through this notebook to help the company understand if they should implement the new page, keep the old page, or perhaps run the experiment longer to make their decision.\n",
    "\n",
    "**As you work through this notebook, follow along in the classroom and answer the corresponding quiz questions associated with each question.** The labels for each classroom concept are provided for each question.  This will assure you are on the right track as you work through the project, and you can feel more confident in your final submission meeting the criteria.  As a final check, assure you meet all the criteria on the [RUBRIC](https://review.udacity.com/#!/projects/37e27304-ad47-4eb0-a1ab-8c12f60e43d0/rubric).\n",
    "\n",
    "<a id='probability'></a>\n",
    "#### Part I - Probability\n",
    "\n",
    "To get started, let's import our libraries."
   ]
  },
  {
   "cell_type": "code",
   "execution_count": 1,
   "metadata": {},
   "outputs": [],
   "source": [
    "import pandas as pd\n",
    "import numpy as np\n",
    "import random\n",
    "import matplotlib.pyplot as plt\n",
    "%matplotlib inline\n",
    "#We are setting the seed to assure you get the same answers on quizzes as we set up\n",
    "random.seed(42)"
   ]
  },
  {
   "cell_type": "markdown",
   "metadata": {},
   "source": [
    "`1.` Now, read in the `ab_data.csv` data. Store it in `df`.  **Use your dataframe to answer the questions in Quiz 1 of the classroom.**\n",
    "\n",
    "a. Read in the dataset and take a look at the top few rows here:"
   ]
  },
  {
   "cell_type": "code",
   "execution_count": 2,
   "metadata": {},
   "outputs": [
    {
     "data": {
      "text/html": [
       "<div>\n",
       "<style scoped>\n",
       "    .dataframe tbody tr th:only-of-type {\n",
       "        vertical-align: middle;\n",
       "    }\n",
       "\n",
       "    .dataframe tbody tr th {\n",
       "        vertical-align: top;\n",
       "    }\n",
       "\n",
       "    .dataframe thead th {\n",
       "        text-align: right;\n",
       "    }\n",
       "</style>\n",
       "<table border=\"1\" class=\"dataframe\">\n",
       "  <thead>\n",
       "    <tr style=\"text-align: right;\">\n",
       "      <th></th>\n",
       "      <th>user_id</th>\n",
       "      <th>timestamp</th>\n",
       "      <th>group</th>\n",
       "      <th>landing_page</th>\n",
       "      <th>converted</th>\n",
       "    </tr>\n",
       "  </thead>\n",
       "  <tbody>\n",
       "    <tr>\n",
       "      <th>0</th>\n",
       "      <td>851104</td>\n",
       "      <td>2017-01-21 22:11:48.556739</td>\n",
       "      <td>control</td>\n",
       "      <td>old_page</td>\n",
       "      <td>0</td>\n",
       "    </tr>\n",
       "    <tr>\n",
       "      <th>1</th>\n",
       "      <td>804228</td>\n",
       "      <td>2017-01-12 08:01:45.159739</td>\n",
       "      <td>control</td>\n",
       "      <td>old_page</td>\n",
       "      <td>0</td>\n",
       "    </tr>\n",
       "    <tr>\n",
       "      <th>2</th>\n",
       "      <td>661590</td>\n",
       "      <td>2017-01-11 16:55:06.154213</td>\n",
       "      <td>treatment</td>\n",
       "      <td>new_page</td>\n",
       "      <td>0</td>\n",
       "    </tr>\n",
       "    <tr>\n",
       "      <th>3</th>\n",
       "      <td>853541</td>\n",
       "      <td>2017-01-08 18:28:03.143765</td>\n",
       "      <td>treatment</td>\n",
       "      <td>new_page</td>\n",
       "      <td>0</td>\n",
       "    </tr>\n",
       "    <tr>\n",
       "      <th>4</th>\n",
       "      <td>864975</td>\n",
       "      <td>2017-01-21 01:52:26.210827</td>\n",
       "      <td>control</td>\n",
       "      <td>old_page</td>\n",
       "      <td>1</td>\n",
       "    </tr>\n",
       "  </tbody>\n",
       "</table>\n",
       "</div>"
      ],
      "text/plain": [
       "   user_id                   timestamp      group landing_page  converted\n",
       "0   851104  2017-01-21 22:11:48.556739    control     old_page          0\n",
       "1   804228  2017-01-12 08:01:45.159739    control     old_page          0\n",
       "2   661590  2017-01-11 16:55:06.154213  treatment     new_page          0\n",
       "3   853541  2017-01-08 18:28:03.143765  treatment     new_page          0\n",
       "4   864975  2017-01-21 01:52:26.210827    control     old_page          1"
      ]
     },
     "execution_count": 2,
     "metadata": {},
     "output_type": "execute_result"
    }
   ],
   "source": [
    "df = pd.read_csv('ab_data.csv')\n",
    "df.head()"
   ]
  },
  {
   "cell_type": "markdown",
   "metadata": {},
   "source": [
    "b. Use the cell below to find the number of rows in the dataset."
   ]
  },
  {
   "cell_type": "code",
   "execution_count": 3,
   "metadata": {},
   "outputs": [
    {
     "data": {
      "text/plain": [
       "(294478, 5)"
      ]
     },
     "execution_count": 3,
     "metadata": {},
     "output_type": "execute_result"
    }
   ],
   "source": [
    "df.shape"
   ]
  },
  {
   "cell_type": "markdown",
   "metadata": {},
   "source": [
    "294478 rows"
   ]
  },
  {
   "cell_type": "markdown",
   "metadata": {},
   "source": [
    "c. The number of unique users in the dataset."
   ]
  },
  {
   "cell_type": "code",
   "execution_count": 4,
   "metadata": {},
   "outputs": [
    {
     "data": {
      "text/plain": [
       "290584"
      ]
     },
     "execution_count": 4,
     "metadata": {},
     "output_type": "execute_result"
    }
   ],
   "source": [
    "df.user_id.nunique()"
   ]
  },
  {
   "cell_type": "markdown",
   "metadata": {
    "collapsed": true
   },
   "source": [
    "d. The proportion of users converted."
   ]
  },
  {
   "cell_type": "code",
   "execution_count": 5,
   "metadata": {},
   "outputs": [
    {
     "data": {
      "text/plain": [
       "0.11965919355605512"
      ]
     },
     "execution_count": 5,
     "metadata": {},
     "output_type": "execute_result"
    }
   ],
   "source": [
    "df.converted.mean()"
   ]
  },
  {
   "cell_type": "markdown",
   "metadata": {},
   "source": [
    "12%"
   ]
  },
  {
   "cell_type": "markdown",
   "metadata": {
    "collapsed": true
   },
   "source": [
    "e. The number of times the `new_page` and `treatment` don't match."
   ]
  },
  {
   "cell_type": "code",
   "execution_count": 6,
   "metadata": {},
   "outputs": [
    {
     "name": "stdout",
     "output_type": "stream",
     "text": [
      "3893\n"
     ]
    }
   ],
   "source": [
    "treatment_count = len(df.query('group == \"treatment\" and landing_page != \"new_page\"'))\n",
    "newPage_count = len(df.query('group != \"treatment\" and landing_page == \"new_page\"'))\n",
    "print(treatment_count + newPage_count)"
   ]
  },
  {
   "cell_type": "markdown",
   "metadata": {},
   "source": [
    "f. Do any of the rows have missing values?"
   ]
  },
  {
   "cell_type": "code",
   "execution_count": 7,
   "metadata": {},
   "outputs": [
    {
     "data": {
      "text/plain": [
       "user_id         0\n",
       "timestamp       0\n",
       "group           0\n",
       "landing_page    0\n",
       "converted       0\n",
       "dtype: int64"
      ]
     },
     "execution_count": 7,
     "metadata": {},
     "output_type": "execute_result"
    }
   ],
   "source": [
    "df.isnull().sum()\n"
   ]
  },
  {
   "cell_type": "markdown",
   "metadata": {},
   "source": [
    "`2.` For the rows where **treatment** does not match with **new_page** or **control** does not match with **old_page**, we cannot be sure if this row truly received the new or old page.  Use **Quiz 2** in the classroom to figure out how we should handle these rows.  \n",
    "\n",
    "a. Now use the answer to the quiz to create a new dataset that meets the specifications from the quiz.  Store your new dataframe in **df2**."
   ]
  },
  {
   "cell_type": "code",
   "execution_count": 8,
   "metadata": {},
   "outputs": [],
   "source": [
    "df2 = df"
   ]
  },
  {
   "cell_type": "code",
   "execution_count": 9,
   "metadata": {},
   "outputs": [
    {
     "data": {
      "text/plain": [
       "0"
      ]
     },
     "execution_count": 9,
     "metadata": {},
     "output_type": "execute_result"
    }
   ],
   "source": [
    "# Double Check all of the correct rows were removed - this should be 0\n",
    "df2 = df2[((df2['group'] != 'treatment') != (df2['landing_page'] != 'new_page')) == False]\n",
    "df2[((df2['group'] == 'treatment') == (df2['landing_page'] == 'new_page')) == False].shape[0]"
   ]
  },
  {
   "cell_type": "markdown",
   "metadata": {},
   "source": [
    "`3.` Use **df2** and the cells below to answer questions for **Quiz3** in the classroom."
   ]
  },
  {
   "cell_type": "markdown",
   "metadata": {},
   "source": [
    "a. How many unique **user_id**s are in **df2**?"
   ]
  },
  {
   "cell_type": "code",
   "execution_count": 10,
   "metadata": {},
   "outputs": [
    {
     "data": {
      "text/plain": [
       "290584"
      ]
     },
     "execution_count": 10,
     "metadata": {},
     "output_type": "execute_result"
    }
   ],
   "source": [
    "df2.user_id.nunique()"
   ]
  },
  {
   "cell_type": "markdown",
   "metadata": {
    "collapsed": true
   },
   "source": [
    "b. There is one **user_id** repeated in **df2**.  What is it?"
   ]
  },
  {
   "cell_type": "code",
   "execution_count": 11,
   "metadata": {},
   "outputs": [
    {
     "data": {
      "text/html": [
       "<div>\n",
       "<style scoped>\n",
       "    .dataframe tbody tr th:only-of-type {\n",
       "        vertical-align: middle;\n",
       "    }\n",
       "\n",
       "    .dataframe tbody tr th {\n",
       "        vertical-align: top;\n",
       "    }\n",
       "\n",
       "    .dataframe thead th {\n",
       "        text-align: right;\n",
       "    }\n",
       "</style>\n",
       "<table border=\"1\" class=\"dataframe\">\n",
       "  <thead>\n",
       "    <tr style=\"text-align: right;\">\n",
       "      <th></th>\n",
       "      <th>user_id</th>\n",
       "      <th>timestamp</th>\n",
       "      <th>group</th>\n",
       "      <th>landing_page</th>\n",
       "      <th>converted</th>\n",
       "    </tr>\n",
       "  </thead>\n",
       "  <tbody>\n",
       "    <tr>\n",
       "      <th>1899</th>\n",
       "      <td>773192</td>\n",
       "      <td>2017-01-09 05:37:58.781806</td>\n",
       "      <td>treatment</td>\n",
       "      <td>new_page</td>\n",
       "      <td>0</td>\n",
       "    </tr>\n",
       "    <tr>\n",
       "      <th>2893</th>\n",
       "      <td>773192</td>\n",
       "      <td>2017-01-14 02:55:59.590927</td>\n",
       "      <td>treatment</td>\n",
       "      <td>new_page</td>\n",
       "      <td>0</td>\n",
       "    </tr>\n",
       "  </tbody>\n",
       "</table>\n",
       "</div>"
      ],
      "text/plain": [
       "      user_id                   timestamp      group landing_page  converted\n",
       "1899   773192  2017-01-09 05:37:58.781806  treatment     new_page          0\n",
       "2893   773192  2017-01-14 02:55:59.590927  treatment     new_page          0"
      ]
     },
     "execution_count": 11,
     "metadata": {},
     "output_type": "execute_result"
    }
   ],
   "source": [
    "df2[df2.user_id.duplicated()]\n",
    "df2[df2.user_id == 773192]"
   ]
  },
  {
   "cell_type": "markdown",
   "metadata": {},
   "source": [
    "c. What is the row information for the repeat **user_id**? "
   ]
  },
  {
   "cell_type": "code",
   "execution_count": 12,
   "metadata": {},
   "outputs": [
    {
     "data": {
      "text/html": [
       "<div>\n",
       "<style scoped>\n",
       "    .dataframe tbody tr th:only-of-type {\n",
       "        vertical-align: middle;\n",
       "    }\n",
       "\n",
       "    .dataframe tbody tr th {\n",
       "        vertical-align: top;\n",
       "    }\n",
       "\n",
       "    .dataframe thead th {\n",
       "        text-align: right;\n",
       "    }\n",
       "</style>\n",
       "<table border=\"1\" class=\"dataframe\">\n",
       "  <thead>\n",
       "    <tr style=\"text-align: right;\">\n",
       "      <th></th>\n",
       "      <th>user_id</th>\n",
       "      <th>timestamp</th>\n",
       "      <th>group</th>\n",
       "      <th>landing_page</th>\n",
       "      <th>converted</th>\n",
       "    </tr>\n",
       "  </thead>\n",
       "  <tbody>\n",
       "    <tr>\n",
       "      <th>2893</th>\n",
       "      <td>773192</td>\n",
       "      <td>2017-01-14 02:55:59.590927</td>\n",
       "      <td>treatment</td>\n",
       "      <td>new_page</td>\n",
       "      <td>0</td>\n",
       "    </tr>\n",
       "  </tbody>\n",
       "</table>\n",
       "</div>"
      ],
      "text/plain": [
       "      user_id                   timestamp      group landing_page  converted\n",
       "2893   773192  2017-01-14 02:55:59.590927  treatment     new_page          0"
      ]
     },
     "execution_count": 12,
     "metadata": {},
     "output_type": "execute_result"
    }
   ],
   "source": [
    "df2.loc[df2.user_id.duplicated()]"
   ]
  },
  {
   "cell_type": "markdown",
   "metadata": {},
   "source": [
    "d. Remove **one** of the rows with a duplicate **user_id**, but keep your dataframe as **df2**."
   ]
  },
  {
   "cell_type": "code",
   "execution_count": 13,
   "metadata": {},
   "outputs": [],
   "source": [
    "df2 = df2.drop_duplicates(keep = 'first')"
   ]
  },
  {
   "cell_type": "markdown",
   "metadata": {},
   "source": [
    "`4.` Use **df2** in the cells below to answer the quiz questions related to **Quiz 4** in the classroom.\n",
    "\n",
    "a. What is the probability of an individual converting regardless of the page they receive?"
   ]
  },
  {
   "cell_type": "code",
   "execution_count": 14,
   "metadata": {},
   "outputs": [
    {
     "data": {
      "text/plain": [
       "0.11959667567149027"
      ]
     },
     "execution_count": 14,
     "metadata": {},
     "output_type": "execute_result"
    }
   ],
   "source": [
    "df2.converted.mean()"
   ]
  },
  {
   "cell_type": "markdown",
   "metadata": {},
   "source": [
    "b. Given that an individual was in the `control` group, what is the probability they converted?"
   ]
  },
  {
   "cell_type": "code",
   "execution_count": 15,
   "metadata": {},
   "outputs": [],
   "source": [
    "con_prob= df2[df2.group == 'control'].converted.mean()"
   ]
  },
  {
   "cell_type": "markdown",
   "metadata": {},
   "source": [
    "c. Given that an individual was in the `treatment` group, what is the probability they converted?"
   ]
  },
  {
   "cell_type": "code",
   "execution_count": 16,
   "metadata": {},
   "outputs": [],
   "source": [
    "tre_prob = df2[df2.group == 'treatment'].converted.mean()"
   ]
  },
  {
   "cell_type": "markdown",
   "metadata": {},
   "source": [
    "d. What is the probability that an individual received the new page?"
   ]
  },
  {
   "cell_type": "code",
   "execution_count": 17,
   "metadata": {},
   "outputs": [
    {
     "data": {
      "text/plain": [
       "0.5000636646764286"
      ]
     },
     "execution_count": 17,
     "metadata": {},
     "output_type": "execute_result"
    }
   ],
   "source": [
    "(df2.landing_page == \"new_page\").mean()"
   ]
  },
  {
   "cell_type": "markdown",
   "metadata": {},
   "source": [
    "e. Consider your results from parts (a) through (d) above, and explain below whether you think there is sufficient evidence to conclude that the new treatment page leads to more conversions."
   ]
  },
  {
   "cell_type": "markdown",
   "metadata": {},
   "source": [
    "**the conversion rate for both groups are almost the same 11.8% and 12% hence the evidance is insufficient to support the claim.**"
   ]
  },
  {
   "cell_type": "markdown",
   "metadata": {},
   "source": [
    "<a id='ab_test'></a>\n",
    "### Part II - A/B Test\n",
    "\n",
    "Notice that because of the time stamp associated with each event, you could technically run a hypothesis test continuously as each observation was observed.  \n",
    "\n",
    "However, then the hard question is do you stop as soon as one page is considered significantly better than another or does it need to happen consistently for a certain amount of time?  How long do you run to render a decision that neither page is better than another?  \n",
    "\n",
    "These questions are the difficult parts associated with A/B tests in general.  \n",
    "\n",
    "\n",
    "`1.` For now, consider you need to make the decision just based on all the data provided.  If you want to assume that the old page is better unless the new page proves to be definitely better at a Type I error rate of 5%, what should your null and alternative hypotheses be?  You can state your hypothesis in terms of words or in terms of **$p_{old}$** and **$p_{new}$**, which are the converted rates for the old and new pages."
   ]
  },
  {
   "cell_type": "markdown",
   "metadata": {},
   "source": [
    "\n",
    "#### Null Hypotheses H0: p_new - p_old <= 0\n",
    "#### Alternative Hypotheses H1: p_new - p_old > 0"
   ]
  },
  {
   "cell_type": "markdown",
   "metadata": {},
   "source": [
    "`2.` Assume under the null hypothesis, $p_{new}$ and $p_{old}$ both have \"true\" success rates equal to the **converted** success rate regardless of page - that is $p_{new}$ and $p_{old}$ are equal. Furthermore, assume they are equal to the **converted** rate in **ab_data.csv** regardless of the page. <br><br>\n",
    "\n",
    "Use a sample size for each page equal to the ones in **ab_data.csv**.  <br><br>\n",
    "\n",
    "Perform the sampling distribution for the difference in **converted** between the two pages over 10,000 iterations of calculating an estimate from the null.  <br><br>\n",
    "\n",
    "Use the cells below to provide the necessary parts of this simulation.  If this doesn't make complete sense right now, don't worry - you are going to work through the problems below to complete this problem.  You can use **Quiz 5** in the classroom to make sure you are on the right track.<br><br>"
   ]
  },
  {
   "cell_type": "markdown",
   "metadata": {},
   "source": [
    "a. What is the **conversion rate** for $p_{new}$ under the null? "
   ]
  },
  {
   "cell_type": "code",
   "execution_count": 18,
   "metadata": {},
   "outputs": [],
   "source": [
    "con_value =df2.converted.mean()\n",
    "p_new = con_value"
   ]
  },
  {
   "cell_type": "markdown",
   "metadata": {},
   "source": [
    "b. What is the **conversion rate** for $p_{old}$ under the null? <br><br>"
   ]
  },
  {
   "cell_type": "code",
   "execution_count": 19,
   "metadata": {},
   "outputs": [],
   "source": [
    "p_old = con_value"
   ]
  },
  {
   "cell_type": "markdown",
   "metadata": {},
   "source": [
    "c. What is $n_{new}$, the number of individuals in the treatment group?"
   ]
  },
  {
   "cell_type": "code",
   "execution_count": 20,
   "metadata": {},
   "outputs": [],
   "source": [
    "n_new = df2[df2.landing_page == 'new_page'].shape[0]\n"
   ]
  },
  {
   "cell_type": "markdown",
   "metadata": {},
   "source": [
    "d. What is $n_{old}$, the number of individuals in the control group?"
   ]
  },
  {
   "cell_type": "code",
   "execution_count": 21,
   "metadata": {},
   "outputs": [],
   "source": [
    "n_old = df2[df2.landing_page == 'old_page'].shape[0]\n"
   ]
  },
  {
   "cell_type": "markdown",
   "metadata": {},
   "source": [
    "e. Simulate $n_{new}$ transactions with a conversion rate of $p_{new}$ under the null.  Store these $n_{new}$ 1's and 0's in **new_page_converted**."
   ]
  },
  {
   "cell_type": "code",
   "execution_count": 22,
   "metadata": {},
   "outputs": [
    {
     "name": "stdout",
     "output_type": "stream",
     "text": [
      "[1 1 1 ..., 1 1 1]\n"
     ]
    }
   ],
   "source": [
    "new_page_converted = np.random.choice(2, size=n_new ,p=[p_new,1 - p_new])\n",
    "print(new_page_converted)"
   ]
  },
  {
   "cell_type": "markdown",
   "metadata": {},
   "source": [
    "f. Simulate $n_{old}$ transactions with a conversion rate of $p_{old}$ under the null.  Store these $n_{old}$ 1's and 0's in **old_page_converted**."
   ]
  },
  {
   "cell_type": "code",
   "execution_count": 23,
   "metadata": {},
   "outputs": [
    {
     "name": "stdout",
     "output_type": "stream",
     "text": [
      "[1 1 1 ..., 1 1 1]\n"
     ]
    }
   ],
   "source": [
    "old_page_converted = np.random.choice(2, n_old,p= [p_old, 1-p_old])\n",
    "print(old_page_converted)"
   ]
  },
  {
   "cell_type": "markdown",
   "metadata": {},
   "source": [
    "g. Find $p_{new}$ - $p_{old}$ for your simulated values from part (e) and (f)."
   ]
  },
  {
   "cell_type": "code",
   "execution_count": 24,
   "metadata": {},
   "outputs": [
    {
     "data": {
      "text/plain": [
       "-0.001993097960790835"
      ]
     },
     "execution_count": 24,
     "metadata": {},
     "output_type": "execute_result"
    }
   ],
   "source": [
    "x = new_page_converted.mean() - old_page_converted.mean()\n",
    "x"
   ]
  },
  {
   "cell_type": "markdown",
   "metadata": {},
   "source": [
    "h. Create 10,000 $p_{new}$ - $p_{old}$ values using the same simulation process you used in parts (a) through (g) above. Store all 10,000 values in a NumPy array called **p_diffs**."
   ]
  },
  {
   "cell_type": "code",
   "execution_count": 25,
   "metadata": {},
   "outputs": [],
   "source": [
    "p_diffs = []\n",
    "\n",
    "#i tried ti make this efficent but i couldn't is there any possiable way\n",
    "for i in range(10000):\n",
    "    old_page_converted = np.random.choice(2, size=n_old, p=[(1 - p_old), p_old]).mean()\n",
    "    new_page_converted = np.random.choice([0,1], size=n_new, p=[(1 - p_new), p_new]).mean()\n",
    "    x = new_page_converted - old_page_converted\n",
    "    p_diffs.append(x)"
   ]
  },
  {
   "cell_type": "code",
   "execution_count": 26,
   "metadata": {},
   "outputs": [
    {
     "name": "stdout",
     "output_type": "stream",
     "text": [
      "[0.00013458659801005024, -0.00031950822772930376, 0.0017865776129634137, -0.0027080209446882358, -0.00082226460577214389, 0.0015598728590594246, 0.00079560665250302809, 0.0021858810166515003, 0.00066480178540470614, 0.0012772023531449767, -0.0015861048986269138, 0.0021585045856699486, -0.00027130413829054567, 0.0016558971897861346, -0.0019162328304538623, 7.2697798543089331e-05, 0.0010294368275232113, 0.0035966026965689041, -0.00053972204924129796, -0.00082904298609444427, 0.00040985825672824883, 0.0012841875557585841, -0.00013384007659711372, 6.6147273287506247e-05, 0.0008298613694899537, -0.0008770209731977785, 0.0010156592227370392, -8.5655267202458529e-05, -5.7989635559321795e-05, -0.00087018475274316942, -0.0005671791058618203, -0.0011524608941190784, -0.0019164168672385073, -0.00020271758414025509, -0.00083562856597567403, 0.00060295154602593715, -0.00073262954902306165, 0.00073349350343192288, 0.00029313772239050739, 6.5880858132583153e-05, -0.0010831785056497067, -0.00070517249240253932, 0.001614227851021402, -0.00044326128842529788, -0.0011936464790498758, -0.00088413587792629533, -1.6681359438774912e-05, 0.0011808081961176969, -0.00096643343307399598, -0.0031343695131454824, 0.00076106624031707648, 0.00053377957962734424, 0.00041013694100215659, 1.0561863965308227e-05, 8.6503447029775971e-05, 0.0013117708090314428, 0.00072670110125935827, -0.001000919510590198, -0.00041624592008793204, 0.00050650655979146697, 0.00028622963995331152, -0.00040206343437552972, -0.00098722077871174485, -0.00046406440864457665, -0.0006569438647258119, -0.00016791426226195338, 0.00045823411383269508, 0.00069911083706136745, -0.00053279643949129263, 0.00076766408931727703, -0.00044339449600275249, -0.0020538143251432051, -0.00040210024173246983, 0.0012015306906979911, 0.00063014394022282982, 0.00011409896942160547, 0.0016972247459507844, -0.0011248285643703226, 0.00058888123511560697, 0.00041706255075216192, 0.0014355519134279515, -0.00078062506343921922, 0.0021239624207527175, -0.00010606577561449171, -9.6505858118295373e-06, 0.0010433528980806905, -0.00042258436485834161, 0.00072648025711778697, -0.0017094495729341186, -0.002900837302443296, -9.2540564132978509e-05, -0.00082195437233516244, 0.00065781132459724612, 0.00059594005244308079, -0.00034018515129626004, 0.00062354258576005628, 2.4358748795583196e-05, -0.001021571895919185, -0.00018167784519787511, -0.0031345833463619355, 0.00050636458855760069, 0.00067134354700386367, -0.00021606401703097577, -0.00011968914004781284, 0.00043052466390751387, 3.153850458152696e-05, 0.0023302075897687624, 0.00056141541483867297, 0.00087133089688848364, -0.00088390977559087147, -6.4822350551385632e-05, -0.00055323148614126738, 0.0004995791973101682, -0.00014729693155861312, 0.00033452311868749363, -0.00028505369937620317, -0.0008702776475011248, 0.00029303080578227392, -6.5088765706294849e-05, 0.00027228377296403816, 0.00024474609070453124, -9.1970926466206082e-05, 0.00087813030998618036, 0.0017521826774738875, -0.00045724746823407048, 0.00015538270730421078, 0.0014907622382557273, -0.0022260519122831307, 0.00047206605328860285, 0.00080905123834554282, -0.00031939780565852505, -0.001331226221007939, 0.00045105611077801699, -0.00023678651161125608, 0.00014151921868520156, -0.0018268624361284097, -0.0016685970069469924, 0.00011421640241751629, 0.0003413067572036188, -0.00087684219460698598, -5.8057992079349474e-05, -0.0008908739454290826, 0.0011397961315838673, -0.0012763033441104688, -0.00095280831590940918, -0.001069733919807192, -0.00048481845238794452, -0.00069098825395884356, 0.00029280996164070261, -0.00048464843745356367, -3.7396843093936982e-05, 0.0029637337802842917, -0.00055325777711051627, -2.3710380334454606e-05, -0.0021984861863231092, -0.00024391543819002326, 0.0001141392822411047, 0.0011670393549879504, 0.00032763606902568021, -0.00061540773353854772, -0.0015791529979076735, -7.8480769610339562e-05, -0.00055349089037105836, -0.0019439317639913523, -0.00040918535002917866, -0.00018884708459612765, -0.0016754069364323665, 0.00023802204505199431, 0.00047885494999859446, -0.00047790861721948297, -0.0005261687940592702, -9.9064845790475253e-06, 0.0006098456066128688, -0.00036777716822553042, -0.00096004240636510252, 0.00027937413945459955, 0.0020687187940305884, -0.0015929341081564047, 0.00018297647696474684, -0.00067062857475401472, -0.00020949771719383503, -0.0016751931032159273, -0.00038828232412681241, -0.0015996967138971752, 0.0017383226943174651, -3.714620252055767e-05, -0.00048450646621968352, 0.00080947189385331686, 5.8935968338461042e-05, -0.0019160785901010113, -0.0015859454000802381, -0.0014896721815114422, -0.0019713450023298024, -0.00023713004694260464, -0.0023706606751368597, -0.0013585991465269037, -0.0018885111114096964, -0.0011800862129427159, 0.00098120644711520433, -0.00067074425501864599, -0.00029196528727594429, 0.00019001951971069075, 0.00025178738071916784, 0.00043089098474552445, -7.8326529257502497e-05, -0.0018128972890950334, 0.0019653727362840684, -0.0016339829800471745, -0.0021779950522720776, -0.0006497781307901046, -0.0010971927291589939, -0.00053286129054874731, 0.00096071881852675955, 0.00012795194165292345, -0.00029923267962603251, -0.0012968856201881762, -0.0013450826987018161, -0.0021502347731397059, 0.0010848066508976767, -0.00015431193060402859, -0.00029212653855392734, -2.8424090577211514e-06, 0.0016696379872153527, -0.00025765623561926909, 0.0010294420857170639, 0.00089181151455181018, 0.00015544054743653335, 0.0019240995147891543, 0.00019685398743402027, 0.0019723719607479401, 0.00082306370912355042, -0.00047782098065535239, 0.00038254141861031321, -0.00045697754761657439, -0.00038819468756268183, -0.0011524381086124164, -0.0015100721735357703, -0.0015240863970450574, 0.00056849877040410224, 0.00079539281928658889, -0.00073267161457382657, 0.00065098562053031439, 0.0010157153101380823, 0.0013805396472350989, 0.0013459974823178678, -0.00058108115456904919, -0.00058797521515598083, 0.0014146418766004532, -0.0017235917458270356, 3.1298380395852754e-05, 0.002853335916135416, 0.00063020353308643196, 0.0015869355511414218, 0.0023233415728823453, 0.00012755407165182531, -0.00013374017091402624, -0.0019988055644128977, -0.00066399216566558061, 0.0011811236877485309, -0.0013589865001403106, -0.0022675845380078358, 0.00073333575761649894, -0.0014829621577091556, -0.0020194281533101044, -0.00026449245607387817, -0.00071168971576375528, 0.0020893045755708411, -0.0020676813192247734, 5.8969270232828164e-05, 0.0015456868678844771, -0.00040195125957347144, 0.0004238409310744623, 0.0020620035120344493, -0.00098010412125194846, -0.00053986752593773724, 0.0018414724461603416, 0.00070599963945446043, 0.0010914150162855824, -0.00085643519165751192, -0.00034026051874139207, -7.8487780535471674e-05, -0.0019437845345636334, -0.0012694355744927721, -0.001861257371617922, 3.1712024978480802e-05, -0.00098710334571582015, 0.0010777250480635409, -0.0012621646766801387, -0.0010284063636425284, -0.00082868017071897893, -0.00071195963638123749, 4.5240741922553118e-05, 1.7592637592267479e-05, -0.00024395399827824293, 1.0603929516073141e-05, 0.00026559127647457492, -0.0011589465683172206, -0.00032647415029882221, 0.0022409160683510287, -0.0001198924568765608, -0.00019549050460969386, -0.0013726308973490142, -0.001572220377232536, 0.0029358175080677756, 3.1400038810219799e-05, -0.00051920111875848607, 0.00018974258816807643, 0.0014560377892851167, -0.00058801552797546619, -0.00047797171554564422, -0.00064992536021782343, -0.0011314860062341253, -0.0016065119015763879, -0.0006155111446842082, -0.00052627045247365112, 0.0009742387718144202, 0.0012774477355245034, 0.00051345495504816208, 0.0025643690310013234, -0.00040216334005863108, -0.0020953785000309838, 0.00082299009440969795, -0.00052623890331056355, 0.0019585365158294454, -0.00082172826999973858, 0.0019102518007516889, 0.00029281171437198217, -0.00088403772497447353, -0.00042292614745841062, 0.00064420899293930745, -0.0010006460845101428, -0.0012347882456986009, 0.0016626387627514949, -0.00079451484302746345, -0.0010627031461802328, -0.0013245617682189903, 0.00057546294024232725, -0.0016272624398571967, 0.0019034646567729768, 0.0042438609208572536, 0.00031395311172875695, 0.0035831423361448594, -0.00027115690886282684, -0.0010284466764620137, 0.00094675892968722197, 0.0010017291303293097, -0.00087694034755879391, -0.001964577138395221, -0.00093207705767270332, -0.0017924184241629726, 0.0010774095564327069, 1.0950970309980823e-05, -0.0011383064521072045, -0.00018212479167487028, -0.00019541864262710706, -0.0020263449994036981, 0.00038935310082698071, -0.00085647375174571772, 0.0017452833586931032, 0.00042420900464375244, -0.00016115165652121066, 0.0013050309887973621, -3.7440661375995332e-05, -0.0010973995514503149, 0.0017316494778721048, -0.00079447453020796421, 0.0025093234629140898, -0.001407279978874465, -0.0029282295080063775, -0.0010629870886479792, 0.00089873887703309507, -0.0020057206577752257, 0.00026534238863247517, -0.00087020753824983144, -0.00096657540430787614, 0.001118942182157398, -0.0011179783220654493, 0.0013806833712002448, -0.0012144145446435078, 0.0017933349605103177, 0.00058888999877203252, 8.621599909947042e-05, -0.0022882369233368227, 0.00087813907364257815, 0.00058212038210612993, -0.0015583709104637911, 0.00084350927216123028, 0.00039628221603955904, -0.0010972663438728464, -0.00019571134875126517, 0.0026743742833429396, -0.0034029416644490856, -0.00026432244113949732, -0.0017511732463686008, 0.0017865373001439144, 7.2632947485648525e-05, -0.0001886735641991738, 0.00098811452955238632, 0.0002860017848866081, 0.0019377614393106951, -0.00044353997269920564, 0.0018004235742695857, 0.0012085351733557015, 9.3294096471047139e-05, 0.0006784970118205863, 0.0013392857057842877, -0.0020814484076232403, -0.00093917969328223549, -0.00084255768118825236, -0.0027010672912377021, 0.00027908669152429399, -0.001462064390000628, 2.4364006989421871e-05, 0.0020346218228590729, 0.0015458340973121959, -0.0013244268079102423, 0.00074048571697066246, -0.00041617230537406569, -0.00098695436355682176, 0.00057530344169563763, -0.00091845895143323475, -0.00012013783925608756, 0.0011464746062230663, 0.00043079808998756908, 0.0014976194914857188, 0.00051338659852814827, -0.0011592287580536875, 0.00016909020283907561, 0.0023098216195946986, -0.0014343829837759614, 9.3569275282368025e-05, 0.00060947402758100566, 0.00093336692578317726, -0.00060160383778314064, -0.001379610841768783, -0.0010971348890266713, 0.00016239244815577369, -0.0028868020461586263, -0.00032641455743522008, 0.00047192408205475045, -0.0013587989578930926, 0.001752398263421634, -0.0015036320703509798, -0.00063609517349319522, 0.0016419565809906861, 0.00039618406308775111, -0.00061535339886879814, -7.877873392835022e-05, -0.00074610743675994351, -0.00064995165118707232, 0.0010571830848053188, 0.00020349916017885217, 0.00030688553074487146, 0.0014836245480205484, -0.00067734560948141953, -0.00056746480106086017, -0.0015997668231484685, -0.0022259327265559264, 7.2683776692825108e-05, -0.0012764821227012751, -0.002453105459712307, -0.00057432906521598381, -0.00021625857020331207, -0.00047074463601505523, -0.00024381903796950877, -0.00042998145932331144, 0.00036898465796572633, 0.00015548261298729826, -0.00013377873100223203, -0.0013040548595864287, 0.0022271086671330625, 0.0019035189914427264, 0.00015534940540982978, -0.0011248916626964978, -0.001365659716585671, -0.00051190568270788328, 0.00034802203919974406, 0.0023578644577554736, -0.00011303695637783495, -0.0026046450905099078, -0.00031948193676006875, -0.001028336254391235, -0.001227985327138359, -0.0020128092715344936, 0.00030679263598691608, -0.0014550897037747118, 0.00099490342626237793, -0.0011524608941190784, 0.0034174710488420468, 0.0019106338961712432, -3.0581655414710363e-05, 0.001167090184195127, 0.00077489993250427769, 0.0018208270717564867, -0.0015858402362032842, 0.00015543003104882824, -9.9525766746585975e-05, -0.001716723976209325, -0.001358823496131048, -0.0018475831779774105, -0.0017375218382347513, 0.0001415069495662169, -0.00053254579891791332, 0.00010024774992156704, -0.00055370998178136399, -0.00071872399485327365, 0.00026542126154019408, 0.00028610519603226858, 0.0011603976877056776, 6.609469134902235e-05, -0.00053978865303003221, -0.00056739118634699381, -9.9213780578324973e-05, 0.00026559828739970703, 0.00058900217357409079, -0.0015722817228274177, 0.00012791863975855633, -0.0014003140563049604, -0.0010352566059474017, -0.00022978027622226616, -0.0012141989586957752, -0.0016824604955659878, -0.00082196313599157411, -0.00094592827717272787, 0.0012640136660696799, -5.0974636513906324e-05, 0.0017523158850513559, 0.0011741069359718359, 0.00038226799253025801, -0.00034028680971064096, 0.0033006400924334989, -0.00071900793732100621, 0.00018309040449811242, -0.0012076186370083841, -0.0009046848521096218, 0.0022199569550476056, 0.0034519676427459262, 0.00016927599235500024, -0.0011732377233691221, 0.00032029856742431251, -0.0012212858197237636, -0.00065011816065889405, 0.0008368220338656196, 0.00089868103690078638, 0.00036172077107822498, -0.00042255807388912048, 0.00017590889598086135, 0.00093321443816160587, -0.00082892905856107868, -0.00029885934786287593, -0.00047092516733714118, -0.0016613366255220363, 0.0026124714620257145, -0.0014619679897800997, 0.00065084715475900723, -0.001572348326616152, -0.00034004318006237988, 0.00067876868516936195, -0.00056048135117851838, 5.8900913712800484e-05, -0.0013865346987875088, 0.00080931765350046592, -0.0013794671178036233, -0.00095264005370629401, 0.0010500331254511691, -0.00082199117969210256, -0.001249061873437679, 0.0010984650699566445, 0.0010845805485622528, 0.00047881463717912298, -0.0023156378925563159, 1.7703059663046194e-05, -0.0015515960356040498, -0.00043658631924867186, 0.00037567890718646912, -0.0017857995423873896, 0.00096057158909902685, 0.00041694336502495766, 3.8392252348973255e-05, 0.0024681010706263662, -0.00021636723954282511, 0.00089213226437648285, -0.0010832766586015147, 1.0975508547936275e-05, -0.00060190004936985786, 0.00052675756965681053, -0.00025751426438538894, 0.0010157188156006552, -0.00053961162717051925, 0.00056156614972896479, 0.0017658498601892808, -0.0010557687727738158, -4.4084081389547669e-05, -0.0017718764609047782, -0.00076699644081205942, -0.00033330335982829917, -0.001007782022014056, -0.00021625681747203251, -0.00047101105116997832, 0.00033431804912745222, -0.0010836429794395253, -0.00026422428818767552, -0.00066349789544396798, -0.0007807319800474527, 0.0011535807472951715, -0.00056719137498080496, 0.00065099613691800562, 0.0016763813129120064, 0.00056844093027179354, -0.00054688252498315271, -0.00042273509974863344, -0.0013999477354669498, 0.0014905834596649209, -0.00067061280017247094, 0.00018971629719884142, 0.00045830422308398844, -0.00089771367134626467, -0.0010627013934489532, 0.0011461503509358345, -0.0012280501781957998, -0.00065663888948268301, -0.0019094264064310473, 0.00090557509748771803, 0.0025571980388717774, -0.0019232162803361902, 0.00043076654082448151, -0.0018267853159519842, -0.00084924491948386305, -0.00054672302643646309, -0.0036025188752136228, -0.00051237015649771567, -0.0033824575413232, 0.00012763645002208945, -0.0012074293420298865, -0.0013860807413853815, -0.0004778279915804845, 0.00063005279819614013, -0.00076020929683334737, -0.00011306850554092251, 0.0004377657652883532, 0.0017316004013961939, 0.0021993676680447799, 0.0025849390379600462, -0.00051926947527849987, -0.0011594092893757735, 3.8760325918277272e-05, 0.00049950908805887484, 0.00049293577729662974, -0.0010490271998084416, 0.0013116340959914291, 0.0019449341841715068, 0.00079569954726098346, 0.0021580769192370564, 0.00098132388011112903, -0.00071161084285603637, -0.0006224297435090953, 0.001187677718466687, 0.0013807587386453768, 0.0001484062683470011, -0.0013518786063369259, 0.00023119108279121003, -0.0014072151278170381, -0.00026429439743896888, 0.00013432368831770014, 0.00087798132782716809, 0.00027237140952815486, -0.0005122737562771873, 0.00068527539214288669, -0.0010354581700448701, -0.001427552021515191, 0.00033424092895102675, 0.00022450910268943802, -0.00028516236871570233, -0.00010603948464524282, -0.0026114269762947673, -0.00022329460202411, 0.0025987762356098065, 0.0016900975721032968, -0.0011658546507544165, 0.00010732935275573063, 0.0016281491797727338, 0.0012773180334096218, 0.00034785027153406978, 0.00023804483055865633, 0.0015870161767804203, -0.0018543948601940641, 0.00023817102721097883, -0.0021847611634754072, 0.0010087826894629448, -2.3412416016443949e-05, 0.0023028837407256947, -0.00067758923912968061, -0.00042273334701735388, 0.0001208335314618475, -0.00028493977184283759, 3.5714031578482075e-06, -0.00043685098167230152, 0.0013043526817910905, -0.00013375244003299702, 0.0016420915412994341, -0.00016141631894484032, 0.0011191349825984548, 0.00032768339277029768, 0.0015868654418901285, -0.00071173353404581363, 0.0015735452999686567, -0.00016149694458382491, 0.0026122243269148943, -0.0004848377324320613, -0.0016546371181074548, 0.001910732049123065, -0.0017507087725787684, -0.0017302597040785295, 0.00013469351461828372, -0.0012074118147170632, -0.00082911660080829674, 0.00035501951093235007, -0.00097329419176657439, 0.0012221094613131256, 0.00056150830959664222, -0.00016100092163091884, 0.0016214426614330063, 0.00047220802452248301, -0.0019577987580729206, -0.00041615653079252191, 0.00036899692708469711, -4.4334721962913104e-05, 0.00010691921363564783, -0.00093221552344401049, 0.00047845006907237808, -0.00014041338735938658, 0.0014698486959656559, 0.00010031435371031516, 0.00013461113624800569, 0.00066494200390729286, -0.0034166070944331856, 0.0010365114194322289, -0.00029892419892033062, 0.0018896835465242595, 0.00036200646627723709, 0.0012496401326475143, 0.00012790637063957166, -0.0011798127868626745, 0.0012771445130126541, -0.00049156528354715734, -0.00058122838399676802, 0.0015596485094552803, -0.0011385746199934071, 0.0010982810331719994, 0.00081609077562891374, -0.00084946751635672779, 0.00042369194891545003, -0.0019161048810702463, 0.0016696046853209995, 0.0013392786948591695, 0.00087818990284976861, -0.00025087960802826215, 0.0023991341737878147, -0.0018818676913961441, -0.00054645310581898088, -0.0021090316608960991, 0.00049947403343324204, -0.0017101208690152719, 0.00075422300893733529, -0.00082187725215873697, 0.0006443369423229095, 0.0011878407224759496, 0.0020069334057092741, -0.0013657683859251701, 0.00039616127758107522, -0.00063612847538756234, -0.00044338573234634082, 0.0008160960338227663, 0.00062341814183899946, -0.0013174924345038252, -0.0018544456894012684, -0.0013242007055748184, -0.00068430101566324675, 0.00031354647807124714, -0.00018874542618174672, 0.00049957043365375653, 0.0016354043030038234, 0.0011671217333582146, -0.0019230497708643546, 0.00029305183855767025, 0.00029995291006972014, 0.00012777491579339662, -0.0012899056757684074, -0.0002782525335472269, -0.0003884663609114436, 0.0012978757712493599, 0.0015112866742010983, 0.0010362046914578066, 0.0017795415811426019, 0.0010433651671996613, 0.0013392050801453032, 0.00042381464010522729, -0.0004024437770638184, -0.00069794891833450945, 0.0010227268037209247, -0.00080811717468540212, -0.00042299275124714486, 0.00036200646627723709, 0.00012775213028672072, 0.00085055056217588076, 0.0029359752538831857, -0.00016817191376046481, -0.0019850822942964891, -0.0010076365453176028, 0.00085708180738736095, -0.00056743675736033172, 0.00045109817632879579, 0.00024480743629941293, -0.0012346690599713966, 0.0025091569534422681, 0.0017246888134964389, -0.0016200108220886661, 0.00034805183563156594, 3.9570040399616868e-06, -3.0176774488480107e-05, -0.0010420525135825254, -0.0017168291400862651, 0.00012089137159417007, -0.00021626733385972374, 0.0012704187146288376, 0.0025370153855264616, -0.00062925720030729271, -0.00063604784974856388, 7.2794198763617701e-05, 0.00089168707063075336, 0.0013461920354902041, 0.00052034025197866818, 0.0011945910590977216, -0.00017490297033813385, -0.0010698355782215729, 0.001277505575656826, -0.00083592477756239125, -0.00080115826304101578, 0.00013473558016904863, 0.0024886833467040737, 0.00014862185429471986, -0.0013932780244841625, 0.0030527150682650439, -0.00053306285464621572, 0.00089839884716433338, 0.00095363020476747773, -0.0033065387437653943, 0.0023026891875533584, -0.0020264904761001373, -0.00058105311086852074, 0.00089197451856105892, -0.00064309965615090559, 0.00032061055359257351, 5.2192642641807341e-05, 1.0735384362262068e-05, -0.0011729204790070225, -0.00093886945984525405, -0.0016409629244669433, -0.0020194123787285606, 0.00046528416750375723, 0.00034131727359132391, -0.0021224306757252898, -0.00036054307776982319, 0.0020822895765254257, 0.00090565572312670262, -0.0011455124988623971, -0.00076001649639229063, -0.00087713665346240977, 0.00065787267019211393, -0.00098725758606867109, 0.00050654511987967277, 0.00012769253742313247, -0.0027214515086805002, -0.0011523750102862412, -0.0010903424868541345, -0.00053970802739104762, -0.0012833831942133389, -0.00050559177617542916, 7.9686506619269792e-05, 0.00087113283825357435, -6.4753994031357953e-05, -3.0474786177625557e-06, -0.0020539843400775859, 0.0010090158027235008, 0.0028329236549921033, 0.0031219098201702988, -0.00086337307052650192, 0.00086421248669740769, -0.0010008231103696696, -0.00031958534790572923, -0.00018878749173253939, 0.00018285028031242434, 0.00088512778171875861, -0.00020942936067383511, -0.0019921376061614038, -0.0005947851446413549, -0.0013105054791589382, 0.00079545241215017715, 0.0032321148838781177, 0.0018829332099024737, 0.00056173090646950696, 0.0010432354650847658, 0.0009950716884654931, 0.00026562633110023548, 0.0012427933958052001, -0.00073249283598303405, -0.0023084318458011233, -0.0013588655616818129, 0.0023988747695580237, -0.00065683870084885798, -0.0032791850982905324, 0.0012430598109601232, 0.00058210986571845258, -0.00069123889453222287, 3.8323895828959453e-05, -0.0015720538677607004, 0.0018209427520211319, -0.00020919975287585213, -0.00047070432319556987, -0.001509881125826007, -0.0004296326657981242, 0.0025162560835892273, 0.0010158520231781099, -0.00079419584593407033, -0.00052570432026945169, -0.0021499964016853113, -0.0016066661419292388, 0.00090566974497696684, 0.0015730422660906185, 0.0023715929860657486, 0.00119489778707213, 0.00067151180920697884, 0.00016247482652603784, 0.00044454765107319882, -0.0018748369177691848, 0.0014424529849400014, 0.00024478114533016404, 0.0019588397383412948, 0.00054778679221151316, -0.0014483744217785866, 0.0010361661313696008, 0.0010777215426009679, 0.0014357271865561988, -0.00148246438202497, 0.00071276224519521703, 0.00044466858953169652, 0.00062340411998873524, 0.00032755544338669562, -0.00045037969861637384, 0.0011600401305240787, 0.00086434218881230318, 0.0011534387760613052, 0.00098147110953884786, 0.0016350572622099296, 0.0013391700255196565, -5.7979119171644444e-05, -0.00043638124968863046, -0.0006223613869890815, -0.0014551790930701219, 2.4779404303343355e-05, -0.0012970346023471746, 0.00045139614064680644, -2.8722054895152782e-06, -0.00052585856062228875, -0.00059493062133779417, 0.00016940394173861617, -9.9387300975292692e-05, -0.0025082912463021273, -0.0011865824035285494, 0.0014079809292740775, 0.00032102069271264244, -0.0017578219245760057, -0.00080823811314387206, -0.00044348739076072174, -0.00070510063041995252, 0.00087143781349670324, 0.00032069819015667633, 0.00032728201730664042, 0.0017245924132759105, -0.00058120559849009212, 0.00059598036526258003, -0.0010215193139807288, 0.00092645183242084927, -0.00027808602407540517, 0.00063735349244058159, -0.0011938322685658004, 0.001862084518669857, 0.00098835290100680873, 0.0010638598067132521, -0.0012692795814086416, -0.00070468172764345804, -7.8649031813454728e-05, -0.00040194950684217801, -0.0012692550431706862, -0.00037439079180727475, -0.00068423265914321907, -0.0014481570830995605, -0.0010079976079617747, -0.0012626414195889418, 0.00063710986279233439, 0.00094686234083288245, 3.89215298252088e-06, -9.6575967369477711e-06, 0.00090543663171641087, -0.00060873626982448081, 0.0016007745015224617, 0.00046518426182065586, 0.00027234511855893373, -0.0010490587489715292, -0.00089051989371005669, 0.00012764521367850112, -0.00045017462905633243, -0.00043643558435838004, -0.0012351019845981553, -0.0011041253498341314, 0.00064426332760905702, 0.0011533073212151163, -0.00078762779336566391, 0.0002034220400024267, 0.00071971589864575081, 0.00049970539396250457, -0.0010079292514417748, -0.0012418540739512068, 0.00021046683547963629, -0.0010009124996650659, -0.00080816274569874003, 3.8264302965357322e-05, -0.00096640889483604053, 0.00063732720147134658, 0.0029428885945142202, 0.0022134186989110072, -0.00265971169137251, -0.00030580248492571849, 0.00038248007301543152, 0.0013803976760012188, -3.0597477367333425e-06, -0.0024324933872028054, -0.0010079713169925536, 0.0013186561059619628, 0.0012494105248495313, -0.00048458008093354987, -0.0017992861937806831, 0.0021651252201768389, -0.00070505505940661461, 0.0011670568823007599, 0.0028532097194830797, 0.00054075251312198092, 0.0016765600915028128, -0.00046430803829282385, -0.00087033548763344737, 0.00094698152656007284, 0.0017865863766198253, 0.0014491910524428164, 0.0014838226066554439, 0.00016909896649548728, 5.8850084505623901e-05, -0.0010351707221145645, 0.0013598890146373777, -0.00081497442791539365, -0.0021986719758390338, 0.0023784362174454898, -0.00048459585551509365, 0.00040988805316004295, -0.0013243023639891993, -0.0015515487118594323, -0.00050550939780515114, -9.9205064292978706e-06, -0.0013865539788316256, -0.0010904739417003095, 0.00019679264183913858, -0.0016477500684456553, -0.0010076873745248072, -0.002639062811506096, 0.00056818678423584124, -0.0024049241557802109, 0.0019655006856676704, -0.0011318558325347089, -0.0032036536543461336, 0.0004581114226429317, -0.00068433957575145254, -0.0014412910662131434, -0.00080129147061848427, -0.00025751776984796193, 0.002378600974186032, 0.0010019096616513817, -0.00063607414071781276, 0.0010087914531193426, 0.0013254520135970865, -0.00022310705977690581, 0.00053391979812994483, -0.00047093568372483241, 0.0012086122935321408, -0.0033137202522826453, -0.0016270486066407436, 0.00071992447366835133, 0.00013480043122650331, 0.00029291863098021564, 0.0010227250509896452, 0.00029963566570762046, 0.0010431898940714279, -0.001179781237699587, -0.000381421565434234, -0.0001820318969169149, 0.00027215582358042223, 0.0013873250384825175, -0.0009939097697386351, 0.00060258171972535357, -0.0023910150961478638, -0.0013106053848420257, 0.0021307688447755324, -0.00058099001254235949, 0.0007128358599090695, -0.0015238042073085906, 0.0024815999911386444, 0.00082306020366099131, -0.0013930869767743992, 0.002288766106070747, -0.00064333627487403455, -0.0011249354809785422, -0.00073222291536555184, 6.5908901833097722e-05, -0.00060169673254110989, 0.0015252185193401213, 0.00079555932875839674, -0.00042947491998271414, 0.0018347238622698492, -0.00098687023245526417, -0.0016616416007651652, -0.00027810004592565551, -0.00073235437021172689, -0.00047073937782121655, -0.00014755107759455155, -0.0011178994491577443, -0.0012417892228937522, -0.00035371912643417103, 0.0017797238651959674, -0.00035413627647938595, 0.0004996089937419762, -0.00032639001919726462, -0.00064980617449063305, -8.5309979139830405e-05, 4.4986595886614689e-05, 0.0016624301877288805, 0.00047207306421374884, -0.0022396770294477453, 0.00067166079136599111, 0.0021790623235097006, -0.00021610783531303412, -0.0025633210398078032, -0.00091152457802680387, -0.00021619897733972382, -0.00097338708652452977, 0.00053387773257915216, -7.1846113253198896e-05, 0.0013871760563235191, -0.0018061785016363352, 0.00028615251977688605, 0.0001416436626062445, 0.0014218934943689837, -0.00016824027028047861, 0.0025026379773497587, 0.0016420144211230225, 0.00038259224781750367, -0.00053977638391104754, -0.00087010938529802351, 0.0028395337731113024, 0.00080951220667281609, -9.2480971269376377e-05, -0.00074607588759685595, -0.0017306417994980838, 0.0012638085965096385, 0.00087818464465592994, 0.0011050997263137852, 0.0013459904713927356, 0.00036860256254617196, 0.00097477686031810507, 0.00085036652539123569, -0.0026666022464968825, -0.0025560501419951698, -0.00088379584805750588, 0.0013873250384825175, 0.00075414939422346894, -0.0029142363172724728, 0.0026539585167370677, 0.00080249896035868018, -0.0010699126983979845, -0.00047781922792407283, -0.0011315491045603004, 0.0011122146310422881, -0.00016783889481682135, -0.0025221337021457402, 0.00012092993168237587, 0.00021750637276300722, 0.00032071396473822011, 0.00050632077027554234, -0.00024375243418077452, 6.5987774740802752e-05, -0.00044358554371254355, 0.0014490350593586859, 0.0001761192237347553, -0.00051930102444158743, 0.00016226800423473076, -0.0013310965188930296, 0.0017454744064028943, 1.7650477724576175e-05, -0.0020126935912698624, -0.00016112887101453477, -0.0024601116951013108, 0.00093317763080466576, 0.0018349026408606556, 7.953226626641885e-05, -0.00062265058765066661, -0.00095280656317811574, 0.00068550324720959011, -0.002067528831603202, -0.0019508047918028876, 0.001153529918087981, -0.0010420507608512458, 0.00013466021272391659, 0.0016833612573317891, -0.002342851319528591, -0.0010694885374276514, -0.0017304858064139533, 0.00043069117337932172, 0.0015250257188990646, -0.00047812770862977472, -5.7882718951102197e-05, 0.00025867793584354037, 0.00087104520168947153, 1.7746877945104544e-05, 0.0012358940770244298, 0.00061645923019461313, -0.0020335230024583623, 0.00063719224116259854, 0.00089862319676846381, 0.0015317392481639103, -0.00072550938610069227, -0.0012831938992348413, 0.0010981250400878689, 0.00045128922403857297, 0.00017607189999012396, 0.0015661552164288051, -0.0028661584244860372, -0.00085643869712008491, 0.00036888475228263884, 0.00088501210145412734, 0.00038275525182676629, -0.00062239819434600774, 0.0018208954282765005, 0.002378469519339857, 0.0013324705181050611, -0.0026388174291265554, 0.0023163178101805182, -6.4755746762651389e-05, 0.00072665728297729992, 0.00096741131501622279, -0.00029880501319312636, -0.00076676332755150345, 0.0020961565706070079, 0.00075393380827573631, 3.0958350527077183e-05, -0.00077394308333746109, 0.0012082424672315573, -0.0007119666473063696, -0.0020607960222942534, 0.0017386627241862268, 0.00092628532294902755, 0.001876088225791453, 0.00012794668345905702, -0.00036758261505319412, -0.0022195855181291052, 0.0013805782073233047, 0.0012565639896662401, 0.00038268338984419337, -0.0021503802498361591, -0.0015033866879714392, 0.0014493260127515645, -0.0012763348932735563, -0.001420982216215505, 0.0013872479183060921, -0.00038152672931117404, -0.00023011680062848261, -0.0010422523249487142, 6.584930896949559e-05, 0.0010361766477573059, -0.00054665642264772885, -0.0005809777434233887, -0.00063623013380194327, 0.00078852855513143749, -0.00073941494027048027, 3.8341423141768916e-05, -0.001923077814564883, 0.0005476676064843089, -0.00062218611386083422, -7.1716411138303404e-05, 0.00016918660305961786, -0.00018863850957352712, -0.0017028114111144188, 0.0018828227878316811, -0.0016064645778317704, -0.0026114182126383556, -0.00029895048988956563, 0.00032756245431182773, 1.7473451865063216e-05, 0.00096065221473802531, 0.0012566235825298422, 0.00062325689056101641, -0.00013356139232321984, -0.00014048875480451861, 0.0014700432491379922, 0.0019104288266112157, 0.00085750772108897366, 0.00027221541644402436, -0.00056056372954878253, 0.00018304132802220152, -0.0021364115973402098, -0.0014757911655796097, -0.00031238806480696213, -0.0010216490160956243, 0.00085067325336564414, 0.00030692058537051814, -0.0018614484193276992, -0.00099394832982685477, 0.0016900520010899589, 0.0003204773460151189, -0.00015447493461327733, -0.00030572536474929302, 1.0586402203263678e-05, -0.0020881461623065561, 0.00024482671634350195, 0.0003136621583358784, -0.0012693128833030087, -0.00030563597545389676, 0.00027933557936639375, 0.00020348338559730839, 0.00026564736387561794, 0.00010707170125721921, -0.000712145425897176, -0.00010605000103294793, -0.00027144260406185283, 0.00040971102730053, -0.0002025493219371538, 0.0026261894739482844, 0.00062326740694872151, -0.00013383131294070205, 0.00074034900393063485, -7.8529846086250465e-05, 0.0015593663197188135, 4.532662575539026e-05, 0.0015802062472950323, -0.00022318242722205173, -0.0011453933131351929, 0.00046526664019093389, 0.00036877958840568492, -0.00037479392000221157, -0.0010558932166948587, -0.0016888041985302638, 0.00053411785676485413, 0.0020344605715810898, -0.00027843306486931285, 0.00039635758348470496, -0.0022949925181524472, 0.00015538095457291734, -0.00040193723772320722, -0.00045035691310969794, -0.0008904778281592779, 0.00032761328351900432, -0.0010148618721169123, -0.0015443882361175776, -0.0008223399732172898, -0.0022739264882408183, 0.0018208095444436634, -0.00093233996736505342, 0.00091246039441823801, 0.0010294350747919317, 0.00049244325980628278, -0.0010081816447464337, 0.0025435939544825592, 0.0015728897784690471, 0.00061669234345518298, -0.0037196723341781229, -0.0013107420978820394, -0.0012280414145393742, -0.0009321015959106449, 0.0010845700321745477, 0.0014287332202861658, 0.00018308339357298031, -0.002109054446402775, -0.0010696340141241045, -0.00023707571227285507, 0.00032726624272511051, -0.0024741872642054796, -7.849829692317678e-05, -0.00042265622684092841, -0.0019577724671036856, -0.0017233113088218482, 0.0009744526050308594, 0.0021652444059040293, -0.0016340145292102481, -0.00025056411639742815, -0.0013453070483059465, 0.0025231764351453939, 0.00074709408235856811, -1.6783017853155835e-05, 0.0018554375931937456, -0.00025059917102308871, -0.0017376603040060584, 0.0019726751832597894, -0.0026661886019142406, 0.0010224726576849863, 8.6522727073878869e-05, 0.00164206174486764, 0.0013186105349486249, 0.0011191104443604993, -0.00032643559021060253, -0.00058088484866541945, 0.00068544715980856097, 0.0010223815156583105, -0.0013311981773074105, 0.00036864638082823031, -0.00096653333875709735, 3.9377239958587884e-06, -0.001172974813676772, -0.0005744289708990713, -0.0017030129752118872, 0.00038245728750876951, -0.0005328016976851313, -0.00080131600885642584, -0.00071185797796685657, -0.00028525175801109859, -0.0011521787043826115, -0.0026321897836945468, -0.00011294931981371825, 0.0013943996303915213, -0.00085613021641438303, -0.00076694035341101641, -0.00053257384261842788, -0.00065685447543040176, 0.0006990670187793091, -2.376997319804286e-05, -0.0001269214777722405, 0.00027920412452020482, 0.0023715859751406165, -0.00095948854327987387, 0.00054074024400301013, 0.0005341423950027957, -0.00083557948949976313, 0.00021711726641833462, -0.00057413626477492707, 0.00053415816958433948, -0.00069116352708709083, 0.0003894372319285383, 0.0039131247912753547, -0.00060887298286450842, -0.00036769128439269327, 0.0027706054363609567, -0.00053288407605540933, -0.0005602219469487274, 0.00055452135425175519, -0.0012281570948040332, 0.00068548922535933976, 0.0015869022492470547, 0.00055452135425175519, 0.00036202399359006043, -0.00015421903584605934, -0.00075998144176664395, 0.0023301199532046457, 0.00087111180547819189, -0.00089766634760164721, -0.0022053697305223496, -0.00071178611598428365, 0.00046501599961755458, 0.0020138905646223809, -0.00073227900276658098, -0.00075312243580535898, 0.00097415639344414218, 0.0018141433389234352, 0.00047218523901580711, -0.0019437670072508101, -0.0012144986757450515, -0.0004915091961461282, 0.00034136635006722094, 0.00016925671231091122, -0.0017509611658834273, -0.00013354035954782351, -0.0011112051999370015, -0.0015447195023299554, -0.00072567764830380743, -0.00095959896535066647, -0.0015514593225640361, 1.7887096447691264e-05, -0.0012970924424794972, 0.0010155891134857459, 0.00097424227727697932, -0.0013038603064140925, 0.00020369371335118847, -0.00062923616753191025, 0.0021790009779148189, -0.00038164065684452575, 0.0002101425801924045, 0.0008710504598833102, 0.00066488416377497028, 0.00071994550644373378, 0.00065088220938465391, -0.00099417969035611731, -0.001324442582491786, -0.0016340548420297474, -0.0021847050760743641, -0.0020128548425478315, 0.0018003026358111018, -0.00020948369534358469, 0.0016074144160734549, 0.00045790810581416985, -0.00071163362836271227, -0.00073241571580660858, -0.0015720749005360968, 0.001098410735286881, -0.0025635664221873439, 0.0025367682504156275, -0.0015310803633150905, 0.00038940042457159818, -0.00071196314184379661, 0.0012702925179765012, -0.002329389206373253, 0.00078148901784806657, 0.00069236225317087507, 0.0014287034238543717, -0.00067030607219804861, -0.00040210199446373551, 0.0015386981598082827, 0.0018486224055145051, 0.002433171552095742, 0.0014286771328851228, -0.00017487317390633972, -0.0005191047185379577, -0.0015378990564568762, 5.9097219616430219e-05, 0.00030708534211106031, 0.0007678130714762893, 0.00047889526281809369, 0.00039629273242725027, -0.0022466376938233973, 0.0014631053702690161, -0.00011977677661191566, 0.0013529283502617118, -0.00076678260759559247, -0.00040912049897172398, -0.001620233418961517, -0.00060862584775368822, -0.0002986665474218192, -0.00019550627919123764, 0.00039627520511442693, 0.0016348732254252707, -0.00055357151601004295, 0.0033555945184940567, 0.00049264307117245776, -0.0014758244674739768, -7.1612999992642923e-05, 0.00075403020849627855, 0.00039634881982829329, -0.0011799530053652613, -0.00015449596738867366, -0.0001610675254196392, 0.00081596457897659125, -0.00069810841688121295, 0.0003344600203613185, -3.3033773849805437e-06, 0.00091267247490339765, -0.0015170626343432303, -0.00058795593511187794, 0.0017109830706928536, 1.7711823319457864e-05, -0.00056758398678806443, 0.0003754212556879577, -0.0010075559196786321, -0.0001197452274488281, -0.00044343305609097217, 0.00043749935013343011, -0.0018062223199183797, -0.0017165469503497982, -0.0012693163887655678, -0.0018473342901353107, -0.0002642698592010273, -0.00023669712231585982, 0.00089161871411075344, 0.00047870947330216906, 0.00036179964398593001, 0.00038938640272134784, -0.0018405786953197001, 0.0013598101417296726, -0.0027697975693531246, -0.00047778066783586703, 0.0003616822109900053, -0.0007256566155284111, 0.00068541561064548728, -2.3796264167291747e-05, -0.00047778242056714659, 0.0039890751379962203, 0.00014833090090186907, -0.0010763633179704801, -0.00060875554986858371, 0.0023372103196952071, -0.00031945564579084762, -0.0015033393642268217, -0.0017512994430209233, 0.0018209024392016326, 2.4658465844859534e-05, 0.0021924876293081125, 0.0020135838366479586, -0.00089781708249192516, -0.0014344741258026372, 0.0027568436061563284, -0.0020953329290176459, 0.0020549446947069755, -0.0013175011981602369, -0.00056027978708104997, -0.00013399782241253766, -0.00066368193222861305, 0.00035495290714361583, -8.5662278127590641e-05, 0.0010913904780476269, 0.00047211337703323419, -0.00095958669623169568, 0.0026056650380028856, -0.0011246988622554271, 0.00059616264931594554, -0.00017509226531663147, 0.0013598925200999507, 0.00023108942437684299, 0.0019997343698792136, -0.0010146147370060921, 0.0018004568761639528, -0.00022303695052561245, -0.0011867962367450025, -0.0014276256362290574, 0.0011462642784691862, -0.00091164376375399425, 0.00085780042721313177, 0.00038261328059290001, 0.00094678697338773654, -0.00038827881866423941, 0.0010226461780819401, 0.00065778503362799723, -0.001827030698331511, 0.00027908143333044144, -0.00070497618649890958, -0.001902753189985687, -0.001854322998211505, 0.00042384969473087397, -0.0025356869573277679, -0.001813181231562766, -0.00082184745572694284, -0.00052621085961004899, -0.00089104746582603644, -0.00029215282952316235, -0.00018896276486075891, -0.0011454511532675155, 0.00027239068957227164, 0.00065086818753438969, 0.00043754667387806145, -0.00019538008253890127, 0.0018969018623984091, 0.0013597277633594085, 0.0017933910479113607, 0.00036855874426411361, -0.0010971664381897589, -0.001475703529015493, 0.00061666955794849321, 0.00070599087579804876, 0.0027295495535450687, 0.00026557199643047202, -0.00095278728313401284, -0.00042244414635575489, -0.00019542565355223918, -0.002397907404003502, -0.00079454288672797801, -0.0012625660521437959, 0.0017178350657289926, -0.00055357502147261595, 0.00094021190989419801, -0.0011799424889775562, -0.00037457658132319938, -0.00065648640186111162, -0.00039501338070446756, -0.0003057183538241609, -0.00091153158895193598, -8.5415143016770445e-05, -0.0018407311829412576, 0.0002034220400024267, -0.00039512029731268716, 0.00023090188212962492, 0.0008161451102986772, 0.0011189719785892061, -0.00011995204974016294, -0.0025565058521285905, 0.0018070722524769905, -0.00087719449359473234, -0.00037456255947294903, 0.001105197879265607, -0.0022123934932241768, -0.00036766849888603126, -0.0011799354780524379, 0.00053387773257915216, -0.00045706343144941153, 0.00023119634098506259, -0.00075326791250178438, -0.0015653876622404861, -0.00074633529182664693, 0.00041691006313059054, 0.00079525435351526785, -0.00044346986344791228, 0.00080229564352991833, -0.0002575072534602707, -0.0006084558328192935, -0.00014055711132453241, 0.00049234335412318142, -0.00068404161143345577, -6.4857405177018435e-05, 0.0011328021653138481, 0.00080930713711277469, -0.00022283538642814404, 7.9716303051063919e-05, 0.0016351291241924887, -0.00023697931205231282, 0.0013940298040909516, -0.0012764400571504964, 0.0013874319550907371, -0.002914562325290998, -0.0019852295237242079, 0.0019172738107222226, -0.00040204765979398593, 0.0021169298943944925, -0.00025111272128881812, -0.00022305973603227447, -0.00050507997864096543, -0.0018752172604574596, 0.00031390754071541904, -0.0012418330411758105, 7.2753885944118468e-05, 0.00054069817845223134, -0.0025769899752544623, 0.0011739684702005287, -0.00069773508511807025, 8.6601599981583899e-05, 0.00023100704600657884, 0.00095398425648651752, -0.0013518698426805142, 0.00078171336745222475, 0.00044434783970702385, -0.00036085681666936376, -0.00048486402340128243, 0.0021785698060193676, 0.00029319380979153653, -0.00056030257258772587, -0.0021573812270312964, -0.00010585194239803863, -9.2500251313479276e-05, 0.00016232934982961245, -0.00085611268910154581, 0.00090564520673901139, 0.00050658718543046544, 0.00081630636157664638, 0.0016559970954692221, 0.00095355659005362525, -0.0013104809409209828, 0.0012977881346852432, 0.0010914062526291707, 0.0020619351555144355, -0.00031950472226674465, 0.00065126255207292871, -0.0001888681173715101, 0.0031147949154417959, -9.2486229463215053e-05, 0.00094696575197854294, -0.00025779294865929669, -0.00065692458468169512, -0.0011728906825752144, 0.0011119464631560994, -0.0014622116194283469, 0.0019791030173256091, 0.0014560342838225576, 0.0012288755725164413, -0.0010356632396048976, 0.00069255680634321137, 0.00069178911004154353, -0.00042938377795603833, -0.00058787355674159991, 0.0011877653550307898, -5.8129854061908515e-05, 0.00073357412907089359, 0.0020757793640893418, -0.00033307199929903664, 0.0014427684765708354, 0.001937728137416328, -0.00025758612636797573, 0.0010637090718229603, 0.00054768688652842568, 7.9886317985458644e-05, 0.00018283976392473311, -0.00049852244246026411, -0.0026319391431211675, -0.0011108511482179617, -0.00028496781554336603, 0.00030669623576637384, -0.0022054801525931284, 0.00029973381865942839, -0.0018474359485496916, -0.00020929965855893962, -0.0013861788943372033, -0.00065672477331552015, 5.9105983272841889e-05, 0.00023801328139556877, 0.00040344444451267947, 0.0010298084065550744, 0.0011118430520104389, -0.00011302468725886416, 0.0018692011761296534, 0.00019669624161861021, -0.00038853121196889828, 0.0011395121891161347, 0.0016212113009037299, 5.2020874976133058e-05, 0.00010696127918642662, 0.00084348648665456827, -0.00012011154828686643, -0.00060876606625627494, -0.002838475265530091, 0.00078147324326655054, -0.0016203245609882067, -0.00022987842917406021, 0.0020479507284369564, -0.0005051570988173909, 0.00061643118649409856, 0.00037535640463051689, -0.001620263215393325, 0.0010638843449511937, 0.0008985390656669201, 0.0010503871771702089, 0.00011410598034673758, -0.0013450809459705226, -0.0013657175567179797, 0.00050627695199348399, 0.00023101055146912408, 0.00067153284198236129, 7.9661968381314341e-05, -0.00011298437443936493, 0.0020136854950623395, 0.00053422302064178029, -0.0025561745859162127, -0.0010078083129832771, -0.0011591165832516154, -0.00098011639037093312, -0.00095290471612992367, 0.0023715176186206027, -0.00078081611114899641, 7.2727594974883458e-05, 0.00023094394768040372, -0.00047802429748411424, 0.0013526987424637288, -0.00010623754328016599, -0.00013354035954782351, -0.00049889577422340681, 0.00098804266756982728, 0.00011440745012730735, -0.00053969575827207683, -0.00036061844521495523, 0.00021713829919371708, -0.00095975495843479697, 0.0008368903903856334, 0.00043072447527370272, 0.00047208883879529262, 0.00061650655393924447, -0.00030573588113698424, -0.0030313091505979883, -0.00053265972645126503, 0.0010159571870550499, 0.00096739203497210602, -0.00016117268929659312, 0.0016419460646030087, -0.0031343292003259832, 0.00016240822273731748, -0.0017580567905678274, 0.001532270325742463, 0.00057517023411816914, -0.00066374327782349474, -0.00025071309855642654, -2.9230346967196175e-06, -0.00018206344607998859, -0.00047091465094944995, -0.0013242287492753468, -0.00035434485150198647, -0.00052624766696697522, 0.00013494240246038347, -0.0010560211660784607, -0.00036738630914956438, -0.0015859629273930614, 0.00052689077723426514, -0.00064294015760421597, 0.0016006079920506538, 0.00037570344542442458, 0.00036163488724538784, -0.00034009400926958422, 0.0018347150986134375, -0.0020403434483314414, -0.00020240559797199409, 0.00050621735912988186, -0.0019989002119021604, -0.0015856877485817267, 0.0012362866888316754, 0.0015800975779555193, 0.0021445254167863081, 0.0022269509213176386, -0.0022672199699011047, 0.0012911096600460442, 0.0008574568918817832, -0.0022811009858329373, -7.1705894750612176e-05, 0.00021752039461327144, -0.00078065310713974767, 0.0012290490929133951, 0.00059570869191381826, -0.00032668097259014317, 0.0012982683830566194, -0.0035611772971987227, 0.00085069253340974704, -0.00019581125443436653, 0.00018934296543568485, -0.00022985213820483907, 0.0023854442055657732, 0.00032064911368079319, 0.0004239180512508739, -0.00049170024385590538, 0.00021044755543554727, -0.00036091115133911333, 0.00049246779804423824, 0.00032066839372488221, 0.0010226882436327051, 0.00034820432325312345, 0.0024474627071476296, -0.0012829888296747999, 0.0012150751822236072, -9.9254093397824206e-05, -0.0022466920284931607, 0.00060976322824260465, -0.0019229621343002379, 0.00023803957236480378, 0.0010295823042196506, -0.0002301939208048942, -0.00065645660542930362, -4.4534533329115833e-05, -0.0013655896073343776, -0.0024117498598471288, 0.00021054045019350265, 0.00030662262105250748, -0.0022192244554849333, 0.001325473046372469, -0.0034855179038707079, -0.001647807908577964, -0.00051222292707001071, -0.00014049751846093028, 0.0013460798606881319, 0.0022201374863696915, 0.00035489681974257281, 0.0020138835536972349, -0.00096657540430787614, -0.0019160785901010113, 0.0012978599966678162, -0.0003951711265198915, -0.00012667258993014074, -6.4643571960579238e-05, -0.0015310715996586788, -0.0019644316616987817, -0.00063603032243574054, -0.0017096721698069833, -0.0017990022513129367, 0.00040995465694879107, -0.001055828365637404, -0.0014003648855121648, 0.0001278783269390571, 0.00055429700464759701, 0.00029306586040793448, 5.9039379484121524e-05, -0.0017440373088647015, 0.00062360393135493797, -0.00075321182510075524, -7.8464995028795781e-05, -9.9376784587587585e-05, 0.0016766109207100033, 0.00012108767749777205, -0.0011382871720631016, -0.0017165977795570025, -0.00036079722380574775, -0.0010969543577045854, 0.0024336640695860889, -0.00089759448561906041, 0.001414841687966642, 0.002234044793270773, 0.00033429526362077633, -0.00055355924689107217, -0.00035399430524550579, -0.00011307025827220207, -9.2428389330906358e-05, 0.0021513896809414457, -0.0001680387061830102, -7.1844360521919337e-05, -0.00052596372449924267, 0.0011809186181884895, 0.00063048922828544407, 5.9102477810282772e-05, -0.00016122527123506314, -0.0025907535581903701, -0.00021622351557766539, -0.001207529247712974, 0.00044458445843013894, 0.00018290987317602647, 2.4600625712550839e-05, -0.00033344708379345889, 0.0010431986577278396, -0.00062925720030729271, 0.00042379886552368351, 0.0010982389676212068, 0.00029996167372614568, -2.3605216457500688e-05, -0.001083402855253851, 0.00081599963360222405, -0.0012075818296514579, 0.001517924836020812, 0.0021240009808409233, -0.00051904337294307601, -0.0014140531010029128, -0.0010767787152844016, 0.0012703573690339559, 0.00055482282403231109, 0.00094693770827802837, -0.00088390627012829848, -0.0017926357628419987, -0.0025632421669000982, -0.00020260190387562382, 0.0017453517152131309, 0.00013463216902338815, 0.00069921775366960093, 0.0015182333167265, 0.00066470538518416389, 0.0007130304130814058, -0.00020959937560821595, 0.0005616467753679355, -0.00050537443749641697, -0.0020472462725747986, 0.0014148609680107449, -0.00027128661097772233, -0.0011455633280695876, -0.0010902863994530915, -0.0013519679956323222, -0.00018176723449325749, -0.0012348250530555271, 0.0013598872619060842, 0.0012431877603437391, -0.001716701190702663, -0.0025911058571781304, -0.00044305446613397692, 0.0026674942446062722, -0.00071188602166737114, -0.00082894833860519546, 0.001153473830686938, 0.00039605611370413518, 0.0012289299071862048, 0.0015456342859459932, -0.00017532362584590788, 0.00092639399228854058, -6.4610270066212117e-05, 0.0010293772346596092, -0.0014278026620885703, -0.0015998001250428218, -0.00058098475434852082, -0.00072562331363405785, 0.0011464009915092138, -0.00064278942271393802, 0.00065103119154366618, 0.0013528810265170943, 7.9584848204888869e-05, 0.0025024872424594807, -0.00093201395934654208, -0.00045734737391715796, 0.0012566674008119144, 0.00021045281362938595, -0.0010351847439648287, -0.00077361707531893587, -0.0012966542596588998, 0.0015525300992642183, 0.0018897624194319507, 0.00088496828317206899, -0.0017510295224034411, -0.0020537862814426766, 0.00048582613076196546, -0.00091144219965652584, -0.0019164606855205657, 0.00090564345400771795, -0.0013312928247966593, 0.00021049487918016474, 0.001373756008718946, -0.00035389615229369786, 0.0016420880358368611, -0.00012668661178039109, 0.0016008516216988872, 0.0014148767425922887, -0.00013376470915198169, -0.00024379099426898032, -0.00017489070121916306, 0.00086413711925227565, 0.0010640999308989263, -1.6604239262349441e-05, -0.0017029744151236814, -0.00064304006328731733, 0.00015530032893394663, 0.0010774446110583535, -0.00046408719415123867, -0.001682425440940355, 0.00027178950274241165, -0.00070488854993479289, 0.0008988212554033731, 0.0011948679906403359, 0.00053383917249094637, 0.00016917258120935363, -0.0020398579417662405, -0.0019232811313936449, 0.0013322461685009168, 0.00019671376893143355, 0.001263577235980376, -3.2472899839514069e-06, -0.0010010649872866373, 0.00054772369388533804, 0.0012705343948934689, -0.0016409611717356637, -0.0018681899922930595, -0.0019232267967238814, -0.00095985311138661877, 0.0012567497791821786, 0.00014165067353137661, -0.002384508389174339, 0.00061639788459973144, -0.0029281436241735403, 0.00072646097707367019, 0.0003824082110328586, -0.00083554618760539601, -0.00025776315222748869, -0.00027151446604442575, -0.0016753736345379994, -7.158145082955536e-05, 0.0016146362374102052, 0.0019380225962717518, 0.00049246078711910612, -0.0011317699487018718, -0.0017650560150316991, -0.0016547738311474824, -0.00033989595063466105, 0.00041702749612651524, 0.00054107676840922658, -0.00025767025746951944, 0.0025848356268143857, -0.0019097261234803375, 0.00117408415046516, 0.0011122759766371698, -0.00069801902758580281, 0.00012112097939215305, -0.0015861732551469415, 0.0005683550464389564, -0.0006707284804371022, 0.00094667304585438483, 4.5077737913304383e-05, -0.00018183383828200561, 0.0036792735834797752, 0.00067839009521236671, 0.001373444022550685, -0.00089775748962832302, -0.00014064825335120823, -0.0014209050960390796, 0.00062329545064923608, 3.8202909999340839e-06, 0.0018141345752670235, 0.00014144034577749653, 0.00069885318556285603, -0.0003266038524137177, 0.00010050540142007847, -0.0019851559090103416, -0.0019230462654018093, -0.0031758320296188802, 0.00078183605864198813, -0.00036780521192604498, -0.0011799074343519234, 0.0020205217155169486, -0.00038832789514015031, -0.0024601362333392662, 0.0010914640927614933, 0.00099495776093214139, 0.0016834173447328044, -0.0018060715850281156, 0.0011601663271764151, -0.0010627890300130699, -0.00045033412760303593, -0.0013172715903622401, -0.00045713354070070489, 0.0012015552289359466, -0.00067724920926089116, -0.00017517990188076205, 0.00045120334020573583, 0.0012773180334096218, 6.5865083551039372e-05, -0.00033314911947546211, -0.0012140271910301009, -0.001303835768176137, 0.00036199244442698675, -0.0024256746940610197, -0.0007944710247454051, -0.00040910121892762108, -0.0024874372968756581, 0.00047193635117372124, -0.0013313173630346148, -0.00049836644937613361, 0.00023109117710812255, 0.00098837042831963207, 0.0005818662360701915, 0.00063041736630287115, -0.00091112144983185317, 0.0015111955321744225, 0.00012113324851113771, -0.00034022020592189284, 9.3439573167486412e-05, 0.0012772216331890796, -0.00087024609833805111, 0.00044449156367218357, -0.00034728077598067397, 0.00026532135585709271, 0.0033282987131515035, 0.002316465039608237, -0.00049154249804048145, 0.00032726448999381708, -7.843695132829509e-05, -2.3552634519030669e-05, 0.000919056490687159, 0.00065070868898770007, 0.00082294101793378704, -0.0010971611799959202, -0.0016204910704600284, 0.00062335153805026522, -0.0021848698328149063, 0.00013439905576283218, -0.00072576703759920369, -0.00039526927947169943, -2.3692853021631266e-05, 0.000788744141079184, 0.0019448816022330367, 3.822223741457853e-05, -0.00053986577320645768, 0.0031150438032838956, 0.0003756350889043969, 0.00012103684829059547, -0.00088394132475394516, -0.00082899916781237204, 0.0002586008156671149, -0.00053992010787620726, -0.0013793672121205358, -0.00017482760289300181, -0.00094593178263530087, 0.00078183605864198813, -0.00058080772848899398, -0.00062940793519758453, 0.000754054746734234, -3.7524792477539037e-05, -0.00012678476473219902, -0.00084266985599031063, 0.0013185299093096403, 0.0011190736370035731, -0.00071190530171148791, -0.0014965417038604184, 0.0015179002977828565, -0.0019643510360597832, -0.00076698767715563387, -0.00047109693500281546, -0.0020884073192676267, -0.00088397112118573928, -0.00082900968420007715, 0.0013047365299419245, -0.0026321319435622242, -0.00060866440784189402, -0.00081509536637387747, 0.002316724443838028, -0.00062942896797296699, -0.0016339707109282037, 5.8872870012285916e-05, 0.00038951610483622945, 0.00091260411838338384, -0.0008630961389838876, 7.947968432794883e-05, -0.000477983984664615, 0.00097420371718875964, -0.00071885720243074214, -0.0002988908970259635, -0.0024668252243661704, -0.00029872263482286221, -0.00018890317199717066, 0.0016833595046004957, 0.00091256030010133937, -0.00035371562097161191, 0.00083003839534946666, -0.0011798758851888358, 0.0010983318623791899, -0.00055353470865311671, 0.0020757828695519009, 0.00097453147793856443, 0.00018294142233911403, -0.0012691954503070979, 0.00032761854171284299, -0.00029192146899389981, -0.00028511329223979143, -0.00035400832709577001, -0.00038174056252762711, -0.00030548524056360493, -0.0006430873870319348, 0.00049944423700143403, -0.0017439882323887906, -0.00032658457236960092, -0.00089075300697061266, 0.00067837256789954337, -0.00042272283062966265, -0.00073904686670117625, -0.00071881163141740423, -0.000574234417726735, -0.00051952011585187918, -0.00062923967299446937, 0.00030707657845464864, 0.0012156290453088359, 0.00071982281525397041, -0.001819810629726068, -0.00040214055455195519, -0.00029899781363419697, 0.001091341401571716, 8.6645418263642249e-05, 0.00023803606690224466, -0.00065675632247859383, -0.00027817716610208099, -0.0013865855279947131, 0.0023098601796829044, 0.0016075476236509234, -0.0016963274896475561, -0.0010629380121720683, -0.00046420462714716337, 0.00016253091392708086, -0.0006842536919186154, 0.0012568794812970602, 0.00057525261248844717, -6.4796059582136745e-05, 0.0013184755746398907, 0.00040334804429216498, -0.001069598959498444, 0.00075410031774757191, -0.00011280384311727898, -0.0014690969163588669, -0.00026446616510464316, 1.080374088227587e-05, 0.00045140490430320424, 0.00087117315107307358, 0.0015455834567388166, -0.0010834291462230861, 0.0025848917142154287, 0.001758813828368469, 0.0016144083823434879, -0.0010559598204835791, -0.00045027628747071335, 3.1471900792806595e-05, -0.0016687530000311229, 5.8883386399991022e-05, -0.002198212760243054, -0.00063611795899985724, -0.00054648991317590712, -0.00010641456913967895, 0.0021376208398116853, -0.00065694737018837102, -0.0014001983760403292, -0.0019096752942731332, 0.00054779906133048395, 0.00021707520086754195, -0.00074646674667282198, -0.00025081475697080746, 0.00047203099866297005, -0.0015857876542648142, 0.00061648026297000946, 0.0019999341812454025, -0.0022051997155879549, 0.0009742387718144202, 0.0012018479350600908, -0.0017236636078095946, 0.00056132252008070371, 0.00035506508194568798, 0.00036188552781876715, -0.0032513494517130287, 0.0001694442545581154, 0.0012427005010472447, -0.0018270026546309964, 0.00076800411918606648, -0.00017488544302531051, 0.0016628000140294641, 0.0017178350657289926, 0.0016213129593181108, 0.00077495777263660026, -0.00054656177515848003, 0.00014166995357547951, 0.0025920031134813587, 0.00063735699790314071, 0.00036879010479339003, -0.00038136898349576398, -0.00054653548418924502, -0.0024464164686854029, 5.2366163038761182e-05, -0.0018200156992860955, 0.0014836122789015638, 0.0011396383857684572, -0.00060885720828296463, -0.00089067763952545287, 0.0012770007890475082, -0.001586073349463854, -0.0014415960414562862, 0.00098130635279830569, 0.0020208161743723863, -0.0010490009088392066, -0.0019713625296426396, -0.0026528789763804739, -0.0011043199030064815, -0.0012489374295166222, -0.00030559390990311797, 0.00024497920396507333, -0.001131626224736712, -0.00086995339221389301, -0.0010835518374128494, -0.00047109693500281546, 0.00043076303536190852, 0.0010638089775060477, -0.0010148408393415298, 0.00095337080053768675, 0.00042382866195549151, 0.0011116642734196325, 0.0031353596642066661, -4.4271623636751856e-05, 0.00077478425223964642, -0.00034038671539372845, -9.2069079418027888e-05, 0.0023026085619143599, -0.00035406266176551959, -0.00018190394753329897, 0.0013183230870183194, -0.0007324875777891815, 0.0014287314675548862, 0.0004720905915265583, -0.0010835027609369385, -0.0014760698498535035, -9.2559844177081407e-05, -0.00025763870830644575, 0.00043061054774035101, -0.003306735049669024, -0.00092535301202015252, 0.0010361328294752337, 0.00032050013152178092, 4.5097017957407282e-05, 0.0018072212346359889, -0.00014036781634602091, 0.00080914763856608507, 0.0003069328544895028, -0.0027906357441980639, -0.0017306891232427152, 0.00021045281362938595, -0.0030516916153094931, 0.00091223779754537326, -0.00144794850807696, 0.0024887184013297203, 0.0017247361372410702, -0.00065680189349193174, 0.00035512642754056967, 0.0011395104363848413, 0.0019858971722294394, 0.00012793266160880667, 0.00023783275007348281, 0.00099508395758446389, 0.00071263780127417409, 0.00030676809774896063, -0.00059496742869472041, 0.0013462025518778814, 0.00034847950206445821, -0.0011316279774680055, 0.00076778502777577473, -0.00026443111047899648, -0.00042289459829533693, 0.0021514650483865777, -0.00011322975681890557, -0.00093184569714342691, -0.00049154425077177488, 0.0013735491864276389, -0.0012279117124244926, -0.0011866472545860041, 0.0011327040123620263, 0.0012359922299762377, 0.00027260452278871083, -0.00060171951804778578, 0.0013393295240663461, -0.00061561280309858912, -0.0011729537809013896, 0.00047202749320039705, 0.00072664676658960869, 0.00019687326747812317, -0.0012345656488257362, 0.0021098833461859895, -0.0018544789912956355, 0.001332361848765562, -0.00030573938659955724, 0.00023109468257068166, 0.00082998756614229008, 0.00046508085067500926, -0.00083558650042489524, -0.00041600229043968484, -0.00071158279915552181, -2.9247874279991759e-06, 0.00046504404331806914, -0.00018201962779793024, -0.0009665385969509499, 0.001593726200582693, -0.00020230218682634749, 0.0008366625353189161, -0.00042269653966042764, -0.00077361181712508331, 0.0011534282596736001, -0.0016477640902959056, -0.00033298085727234694, 0.0010089018751901352, -0.0006359549549906085, 0.00016906917006369315, 0.00054749934428120761, -0.00072538318944836977, 0.00076109077855503193, 9.3176663475136312e-05, -0.0024600363276561787, 0.00048572447234758453, -0.0015238480255906628, 0.00010026352450311082, -0.00044999409773424648, -0.0028797817889193583, 0.00014847111940445579, 0.0018073404203631932, -0.00065675281701603472, 0.0024403670824632434, 0.0024130800407771019, 0.00038934083170800993, 0.00082286389775736157, -0.00053997444254595683, 5.2145318897175996e-05, 0.0011945454880843698, -0.00027835769742416694, -0.00056050764214775339, -0.00076691406244179527, 0.0019657250352718147, 0.00083004190081203966, -0.0011937551483893749, 0.0010435684840284093, -0.00069799448934786124, 0.0014976159860231736, -0.0017509804459275302, -0.002535581793450814, 0.00092626954836749764, -0.00034045331918246269, -0.0011730957521352559, 0.00039625767780160359, -0.0021365483103802235, 0.00062361269501134964, -0.0016201300078158704, 0.002330374099240598, 0.0019519053649348778, 0.00060970012991642952, -0.0018337337112086655, -0.00015432069426044026, 0.00072666078843987292, 0.00032728552276919953, -5.110784409137481e-05, -0.00094589322254708119, -0.00073934483101918691, -0.0003880281780908601, -0.0014962770414367749, 0.00034794842448589158, -0.00073235787567428601, 0.00031340100137482174, 0.0010223587301516346, 0.0022199359222722231, -0.0004917335457502725, -0.00027828934090416702, -0.00025061845106717773, 0.00056151181505921521, 0.00057498269187095108, -0.0008495288619515956, 0.00079535776466092833, -0.00050530608097638929, 0.00015514258311852269, 4.1883645692381011e-06, -8.5604437995268068e-05, -0.00067046907620731122, -0.00034689342236725318, -0.00053261415543791324, -0.0011382573756313075, -0.0019027759754923629, -0.0015031816184113977, -0.0015104893235809852, -0.0012968418019061179, 0.00030678036686793142, -3.7072587806691315e-05, -0.001276166631070455, 0.00060942670383638819, 0.00076118893150683986, 0.0010431688612960316, -0.0014345670205606065, -0.00047094620011252364, 0.00031394259534106572, 0.00047186098372857532, -3.0367822198257288e-05, 0.00054790773066998311, 0.0004444792945531989, 0.00043750636105856222, -0.0013247002339902975, -0.0017097002135074979, 0.00015529682347137364, -0.00063601454785419675, -0.0016684655521008174, -0.00045687588920220734, 0.00030686274523820944, 0.00011416732594161927, 0.0025642743835120746, 0.00054064209105118832, 0.0021444342747596323, -0.00040903987333273939, 8.67575930657144e-05, -0.00021628836663512008, -3.7514276089861687e-05, -0.00082869243983796359, 0.00092626954836749764, -3.0472986075197328e-05, -0.0017650121967496546, -0.0002919337381128706, -0.0017648158908460249, -9.9690523487128146e-05, -0.0013727991595521294, -0.00023011154243461618, -0.00026443812140412859, -0.0014553263224978408, -0.0020057855088326665, -0.00038824551676987229, 0.00069237101682728674, -0.0024114396264101473, 0.00078854783517555427, 0.0028261628019826263, -0.0003608322784314083, -0.00012688992860915294, 0.0026472853002917074, 0.00018999322874145574, -0.0004986223481433516, -5.1176200611388611e-05, -0.0014070678983893192, -0.0018543002127048153, -0.00063605135521112299, -0.0012967751981173836, 0.0013526023422432004, -0.00049837696576381096, -0.00031272984740701726, -0.00045707745329968963, -0.00095959896535066647, -0.00078061980524538055, 0.0014837472392103118, 0.00078181152040403268, 0.0005819380980527783, 0.00018970753354242975, -0.00077356274064917241, -0.0010217752127479468, 0.00071281307440239361, -0.00053278767583488096, -0.0021777321425797275, -0.00080820305851823926, -0.0011661964333544717, -0.00025078145507644034, -0.0015791845470707472, -0.00030552730611438372, -0.00098703498919580634, 0.00030676809774896063, 0.0014630597992556643, 0.00076079807243087383, 0.00067836029878057258, -0.0010765911730371835, -0.00057405213367338337, 0.0020208109161785476, 0.0012358274732356955, 0.00012790637063957166, -0.0020333231910921873, -0.0020469693410321704, -0.0013522028616241577, -0.0011868067531326937, -0.00043634970052554289, 0.00070601541403600421, -0.0011524643995816514, -0.00034706694276420702, 0.00090543137352255831, -0.0010559545622897404, -0.0012145880650404617, 0.00037550889225208828, -0.00042292088926455806, 0.0017726580369433614, -0.00063591113670853627, 0.0022546533603176877, 0.0025093953248966766, -0.00018184786013225596, -0.00072585292143204083, -0.00096668757910994829, -0.00031950121680418553, -0.00058826091035499295, -1.6991592875756356e-05, -0.0034717981392168584, -0.00089104396036347733, -0.0003123933230008008, -0.00030558865170926541, 0.00059585066314768453, -0.00038808426549188924, 0.0015731859900557643, -0.0022743857038367982, 0.0012017760730775318, -0.00046422215445998671, 5.9076186841047762e-05, 0.00081619243404329467, -0.0014207666302677724, -0.00068449907429814216, -8.5756925616839452e-05, 0.0010913361433778773, 0.001649176649596143, 0.0023372260942767509, -0.00047785428254971951, 5.2099747883838088e-05, -0.0022054170542669671, -0.00045043929147996209, 0.0011188124800425164, -3.0599182727533702e-05, -0.0024533035183472163, -0.0021090001117330254, 8.6489425179525625e-05, 0.0014150748012271841, -0.0019576865832708484, -0.00036068504900368947, -9.9408333750675149e-05, -0.00086316274277262184, -0.0020126024492431865, -0.00072563558275302864, -0.0020952943689294262, -8.5616707114252733e-05, 0.0020687643650439264, -0.00050523071353125726, 0.00029979516425431008, 0.0012838913441718669, 0.0002445042137875636, 0.00042362885058928879, -0.00046391016829172571, -9.2190017876497832e-05, 0.00052722730164048159, 0.00086412309740201143, 0.0012221673014454343, -0.0024461097407110083, 0.0018759672873329553, 0.0019102675753332327, 0.0011395525019356201, 0.00036179613852335701, -7.1996848143490721e-05, -0.0021021463639655791, -0.00091825037641063423, 0.00095373712137569733, 0.00055462651812868136, 0.00070608377055601801, -0.0027145416735120109, -0.0015377062560158056, -0.0014416153215003891, 0.0021996148031556001, -0.0004227175724358101, -0.0014068750979482486, 0.00098114510152033652, 0.00069892329481414939, -0.00081504278443540745, -0.0029831891922607601, -3.7589643534993722e-05, -0.00060865739691676191, -0.0018404875532930104, 0.001586705943343425, 0.0010364956448506851, -0.00023687940636922533, 0.00067166254409725679, -0.00095954813614348988, -0.00058814873555293468, 0.00067873187781242184, 0.0018829542426778562, -0.0019644491890115912, 0.0013462305955784098, -0.00065005330960143937, -0.0014688340066665029, 0.0035486229567342903, -0.00064989556378602931, 0.0015730002005398397, 0.00055480529671948775, -0.00067751912987838725, -0.0011248934154277634, 0.00089872836064541772, -0.0010284063636425284, -0.00011309479651015752, -0.00075341163646694409, 0.0014216498647207365, 0.00093303565957081336, 0.00055471941288665061, -0.0014618821059472625, 0.00038966683972652127, 0.0003411507641194883, -0.001626918904525862, 0.00055440216852455093, -0.00084912398102537923, -0.0019643703161038861, -0.00057405213367338337, 0.00010750637861524359, -0.0001401504776670226, 0.0015733191976332328, -0.0012691901921132454, 0.00063028240599413698, 0.001848618900051946, -0.0022533301903128605, -0.00069118631259375285, 0.0013116305905288561, 0.00082309175282406499, -0.0018542914490484175, -0.00092534600109502041, 0.0007473307010816832, 0.00062328493426154485, -0.0022398523025759648, 0.00074729389372475696, -0.0017509453913018974, -0.0037469856668334994, 0.002647031154255769, 3.8504427151045406e-05, -0.0020542384861135243, 6.5929934608494056e-05, -0.00053306460737749528, -0.0013726081118423383, -0.0013656737384359213, 0.00088490869030846686, 0.00044439691618293475, 0.00028597549391737309, 0.0010639456905460892, -0.00062233159055728737, -0.0015582990484812043, -0.0016960663326864855, 3.9675204276529152e-06, 0.00036204152090289765, -0.0020952505506473679, -0.00080818202574282905, 0.0017798237708790687, 0.0018897466448504069, -0.00053297171261952603, 0.0018827491731178148, -0.00039516411559475939, -0.00018181806370046183, -0.00148962836322937, -8.5650009008605976e-05, -2.9913912167195411e-06, 0.00030679964691203432, -0.00052590763709819965, 0.00040305709089928643, -0.0013517208605215159, -3.0579902683416926e-05, -0.0006222930304690677, 0.0015593014686613865, -0.00068435885579555544, -0.0013727132757192922, -0.0017304858064139533, -0.0010970858125507604, 0.0010502417004737696, 0.0013393558150355811, 0.0013324687653737954, -0.00074610918949122307, -2.354211813133944e-05, 0.0003960438445851644, 0.0010572304085499501, -0.00080822759675618083, -0.00057413275931235408, -0.00033355925859553104, 0.001903527755099152, -0.0014068926252610719, 0.00044442145442089021, 0.0013874599987912656, -0.0011452671164828704, -0.00078098787881467069, -0.00024396802012850716, 0.00023797296857608341, -0.0004295257491899046, -0.00023694250469538658, -0.0019923111265583437, 0.0022406338786145619, -0.00091121785005238154, 0.0016971020547610211, -9.8784408785190791e-06, -0.00194383536377081, 0.0013528056590719484, -0.00084283636546214624, 0.00058205377831740956, -0.0010695568939476791, 0.00038933557351415737, 0.00091245513622438545, -0.00082181240110129616, 0.0019245552249225611, 0.00063054531568648708, -0.00071181766514737121, -0.00090468309937832836, 0.0013803889123448071, 0.00087811453540463658, -0.00037449420295293523, -0.0027350117747876462, 3.9832950091966968e-06, -0.0010903302177351498, -0.001530878799217622, 0.0013943891140038439, 0.00089176068534461972, 0.0026470416706434602, -0.00056739644454084637, 0.00044429876323111295, 0.00018297822969604027, -0.00030599528536677523, 0.0025848654232461798, 0.0021441503322918859, -0.00057404687547951694, -0.0010766279803941098, 0.00025834491689989691, 0.00042352018124977575, 0.00087102066345151608, -0.00045740871951203965, -0.0014963734416573171, -0.0013037446261494612, 0.00086434744700615573, 0.00091260411838338384, 0.00031356400538407048, -0.002026397581342182, 0.00088510674894336228, -0.0015652176473060914, 0.0004720748169450284, -0.0002093154331404834, -0.0010490079197643248, 0.0019790802318189332, 0.00073376868224325764, -0.00020252478369919835, 0.00071982807344780908, 0.0010500348781824487, -6.4997623679605154e-05, -9.9432919359737637e-06, 0.0011261061633618258, 5.2005100394589276e-05, -0.0020677216320442587, -0.00023697580658976758, 0.00041680665198494393, -0.00128325173936715, -0.00025074990591335278, 0.0010293807401221822, -0.00060172127077905146, 0.00042361833420159756, -0.00060865564418549623, 0.0013391630145945244, -0.00051909244941897303, -0.0001816217577968321, -0.00081500772980976077, 0.0015183998261983356, -0.00092523557902424169, 0.0013527267861642434, 0.0025229555910038226, -3.0583408145989921e-05, -0.00069804882401761081, -0.0010145253477107097, -0.0010009212633214776, 0.0017177754728654043, -0.0014411911605300559, -0.0014691722838040128, -0.00074643870297230741, -0.00055343305023873579, 0.00083002262076792288, 0.0013601098587789628, -0.0015653070366015015, -0.00034691094968007652, -0.0011798478414883073, -0.00015430667241017604, 0.00069913362256805722, 0.00037568241264902824, 0.0012634159847024068, 0.0022818177108140658, -0.0005465933243215676, 0.00043750110286470967, 1.0695071542762835e-05, 0.00029993012456305812, 0.00010703314116899953, -0.0018542704162730211, 0.00088496828317206899, 0.0027775801225868729, -0.00097373588004971701, -0.00096686635770075469, 0.0017319264094147052, -0.00033332614533497507, -0.00020941884428614388, -0.00073937462745098104, -0.0010697952654020737, 0.00029311668961511106, -0.0018749718780779329, 0.0019175595059212625, 0.0010707556200314633, 0.0015665075154165653, -0.0012831658555343128, 0.00018983373019476613, 0.00063038756987106315, 0.00077489817977299813, -0.0018130410130601793, -0.00041585506101196601, 0.00066445649734206413, 0.00065778328089671767, 0.002825938452378482, -0.001351889122724631, 0.0018486767401842685, 0.0017248360429241577, 0.0014424249412395007, 0.00017605261994602106, -0.002143175955812246, 0.00010699983927463241, 0.0020344816043564862, 0.00030670850488534462, 0.0021306689390924449, -0.00051908368576257524, 0.00078868630094686143, 0.0013872391546496804, -0.00065004980413886637, -0.00058094268879772815, 0.001986139049146407, 0.0019173386617796773, 0.00083001210438024553, 0.0022751409889061602, -0.0021641210472653771, -0.0010491165891038379, -0.00071188251620481202, 0.00087791297130715429, 0.0022823365192736478, 0.0017935487937267708, -0.0011249933211108648, 0.0016210535550883198, -0.0022193611685249609, -3.7494996045744911e-05, -0.0011869539825604125, -0.00029875593671722933, 0.00036873577012364045, 0.00088483157013204139, 0.0018351637978217261, -0.0011316875703316076, 0.0021786504316583383, -0.0012554721801906754, 0.00016891142424828309, -0.0014344565984898139, 0.00043075777716806984, -0.0013105790938727907, -9.9012216480856563e-05, -0.00041565875510833628, -0.00019587260002924822, -9.9413591944513824e-05, 0.00014184873216628591, -0.00044352419811766186, -0.0011524784214319017, 0.0021236679618972798, 0.0022961632005357169, 0.0001897513518244881, -0.0034508092294816411, 0.0028257316300871749, 0.00026588398259873303, 0.00010030383732261006, 0.0018347589168955097, -0.00069791035824630365, 0.0019586451851689585, 0.00034803606105002216, -0.0010558721839194624, 0.0021648675686783275, -0.00051896450003537098, 0.00065757996406795582, -0.0016202509462743403, -0.0010424170816892564, -0.00034684084042878316, 0.00050645222512171739, 1.1012315904862513e-05, -0.0025770250298801228, 0.00047203800958810216, -0.00043636547510708668, 0.0017383209415861717, 0.0020893080810334141, 0.00071294102378600954, -0.0010282626396773686, 0.00096746389695467894, 0.001153421248748468, -0.00026441358316617314, -0.002260289101957233, 0.00024487404008813329, -0.00079425193333511335, -0.0017510172532844703, -0.00056704589828436569, -0.0011727750023105832, -0.00020236002695865618, 0.0016627772285228021, -0.00054694912877188695, -0.0019299683696892417, -0.0014828061646250251, 0.00021059653759454566, -0.00097331522454195685, 0.0013186017712922132, -0.0011589535792423528, 0.00021728903408399503, -0.00097348699220763113, -0.0007392309034858352, 0.002275179548994366, 0.0015110307754338803, -0.0024393699204769137, -0.0011729257372008611, -0.00031264746903673923, 0.0012912831804429981, -0.0014895214466211504, -0.00059480968287931035, -0.0010974416170010937, -0.00052584629150331796, -0.0019575936885128792, 0.0009949945682890815, 0.00070593654112829918, 0.0010017501631046921, -0.00052601981190028568, -0.00045031134209636003, 0.00070592777747188751, 0.0003546952556451044, -0.0011867822148947382, 0.00025175583155608028, 0.00014147890586570233, 0.00061627694614126149, 0.00023102282058810875, 0.00089852329108537632, -2.7039432864139901e-06, -0.0011455019824747059, -0.0020194053678034285, 0.00067164326405315389, -0.0019919483111829062, -0.00021646714522591259, -0.0010352864023792097, -0.00072559176447097029, -0.00041564999145192461, -0.00036095847508374468, -0.0013932412171272363, -0.00085626517672313107, 0.0027707859676830426, -0.000491577552666142, -0.00059476235913467901, -0.00042960988029146219, -0.0027216057490333373, 0.0032181181876816539, -0.00026455380166875986, 0.0001692882614739849, -0.00055325427164794327, 0.00091938249870568423, 3.1542010044099955e-05, -0.0030721704802415262, -0.000952643559168867, -7.8603460800102942e-05, -0.001723560196663948, 0.0015662866712749801, 0.00026538445418326784, -0.0003949625514972771, 0.002199634083199703, 0.0012085351733557015, 0.0018414531661162525, 0.00044465106221885931, -0.00045711075519404287, 0.00034836907999366562, 0.0003758401584644383, -0.0020680318654812541, -0.00017487317390633972, 7.3053602993408684e-05, 0.00082302514903534463, -0.0017441442254729211, -0.00074613372772917852, -0.0017650227131373458, 0.00028619458532767872, 0.00032060880086129395, 0.00013471805285622529, -8.5560619713209718e-05, -9.5980038733456396e-06, -0.00093201571207780776, 0.0021580506282678213, -0.0014416538815886087, 0.0004237340144662427, -0.0018474780141004704, 0.00080917042407274709, -0.00080119857586050114, 0.00076792699900964101, -0.00088363109131697759, 0.001511298943320083, -0.0010146147370060921, -3.2981191911418684e-06, 0.00061660645962234584, -0.00026438203400308558, 0.0001346216526357108, -0.00089763129297598665, -0.0010832205712004855, -4.3945615618240508e-05, 0.00047209760245169041, -0.00030589187422111475, 0.0010295893151447827, 0.00089886332095415189, 0.0023784852939214007, 0.001573303423051689, -0.00052595320811155144, 0.00027255544631281381, -0.00097324160982810437, 0.0018003359377054828, 0.00023762592778216185, -0.00045729303924740838, 0.00090556282836874724, 0.0005546019798907259, -7.1828585940389433e-05, 0.00062337782901951411, -0.000581172296595725, -0.00020941183336099789, 0.00023070031803215652, 0.0011190613678846023, 0.00022385007572728322, 0.0014839698360831766, -0.00045714405708840999, 0.0010983195932602052, -0.00016785992759220381, -0.0020401629170093555, 0.00016218387313317317, 0.00044437413067625886, 0.0019999850104525929, 0.0021651830603091476, 0.00038929876615721726, -0.00077373626104614013, -0.0026733946486694471, -0.0013519259300815573, 0.00043752564110266512, 0.0010706907689740086, -0.00018185136559482895, 0.00056828844265022216, -0.00032623753157570712, -0.00047091289821815652, -0.0011727767550418627, 0.00039621210678826568, -0.0010835588483379816, 0.0001624380191691116, -0.003072629695837506, 0.0003274537849723147, -0.00038131114336344141, 0.00098811978774625275, -0.0020332110162901013, -0.0002922457242811316, 0.00084356886502483241, -0.00046405564498816498, -0.00022320871819128674, 0.00052704501758711608, -0.0022054153015356875, 0.0009263291412310859, 0.00061671337623056544, 0.0011534370233300117, 0.0020617283332231284, -0.00081497092245282066, -0.0011660684839708557, -0.00213633622989505, -0.0014894601010262687, -0.00016810180450917145, 0.00048574024692912832, 0.00034122613156463422, -0.0010836026666200399, -0.00068425895011246796, 0.00068536127597572383, 0.00093967907958435182, 0.0005338111287904318, -0.00090458144096396131, 0.00080934744993226004, -0.00089067238133161419, 0.0018072142237108568, 0.0017038734241581893, -0.0017167712999539564, -0.0017645827775854689, 0.00010711902500183668, -0.00056073023902061814, 0.00060967208621591495, -0.00013371738540735034, 0.00025188027547713709, 0.00085068026429077626, 0.0012152907681713399, 0.00017595797245677225, 0.00052001599669143639, 0.00084361794150074332, -0.00034704415725754501, 0.0018485347689503884, -0.0021297296172384378, -0.00033326655247137293, -5.1158673298565271e-05, -0.0019027198880913337, -0.0031413477048339716, 0.00027215407084914267, -0.00098028289984274097, 0.0016281263942660579, 0.0011394701235653421, -0.0009389816346473262, -0.0010214334301478917, -0.0018475568870081893, 0.0012222479270844328, 0.0010157188156006552, -0.00067041298880628208, -0.0010287236080046419, -3.7174246221072238e-05, 0.00065768337521361631, -0.0015447755897309845, -0.00016148467546485412, -0.0019026077132892477, 0.00026558952374329536, -0.00084296957303960085, 0.0012222566907408444, -0.0022675266978755271, -0.0023017288329239688, 0.00051325689641325278, 0.00054763430458994178, -0.0012554599110716907, 0.00043089098474552445, 0.00025859906293583534, -0.00062923792026318981, -0.0014000686739254337, 0.0019587152944202518, 0.00071974569507754493, -0.00047768952580917734, -0.00091839760583835306, 0.00074725883909911028, 0.00016221892775881985, 0.00049261678020323663, 0.000547930516176659, 0.00022433908775505718, 0.00021718562293833454, -1.6949527324977565e-05, -0.00033330160709701961, -0.0011730063628398596, 0.00070564909319797975, 0.0010775322476224702, -0.002005832832577284, 0.0027227641622976362, 0.0001415367459980249, -0.0019577531870595688, -0.0014689637087814122, 0.0010021620549560545, -0.00090438162959777246, -0.00025070959309386742, 2.460763663768295e-05, 0.00071289545277267163, 0.00028603333404968179, -0.00038137599442089609, 0.00037550713952079484, -0.0017994053795078874, 0.0024541709782186366, -3.0422204239238804e-06, -0.0012005580669496307, -0.00060868719334858379, -0.00031253354150338752, -0.00087699292949725005, -0.00022308777973280292, -0.0019438248473831327, -8.5614954382959296e-05, -0.0019300595117159314, -0.0020542875625894352, 0.0014215727445443249, 0.00086441755625744909, -0.00036764746611062105, -0.0023567375936542623, -0.0015584602997592012, 0.0010296418970832527, -0.0013519276828128368, -0.00041614951986740367, 0.0003686393699030982, 0.001683459410283597, -0.00076703500090026522, -0.00068454639804277351, 0.00047869895691446396, -0.00042273685247992687, -0.00031254756335365175, -0.00036765097157319404, 0.001373733223212284, -0.00064325564923503609, 0.00094703060303598374, 4.1200080492104219e-06, 0.0002794828087940987, 4.5196923640508646e-05, -0.00040220715834068943, 0.0021989733035062548, 0.00055475622024359073, 0.001607368845060117, -0.0020331864780521597, 0.0013528354555037425, 0.002584747990250269, 0.00086437724343794986, 0.00067854083010265853, 0.00093311102701594539, -0.00045744903233153889, -0.00052622488146031321, -0.00055373276728802601, 0.0013735859937845651, 0.0011670919369264204, 0.00069909155701726455, 0.0014904765430567013, -0.00084933956697311186, 0.0013116516233042524, 0.0021580611446555126, -0.001048946574169457, -0.0021157171464604302, 0.00041688026669879641, -0.000870235581950346, 0.00058191706527738196, 0.00099508220485318433, 0.0015731632045491023, 0.00043080510091268731, -0.00091134755216727703, 0.00097457704895190234, -0.0017923535731055457, -0.00042966772042377088, 0.0014355519134279515, 0.00027936187033561488, -0.0009940657628227656, -0.00010610258297141795, -0.00095299936361917248, -0.0005534926431023518, -0.0011317664432392988, 0.00098147636773268654, 0.00096762164277010287, -0.00075989205247123381, 0.00027240295869124243, 0.0020827487921214055, -0.00012723171120920806, 0.00048567013767783496, 0.00080923702786148133, 0.0015043225043628733, 0.00018295369145808482, 0.00060284638214899711, 0.00061619807323355646, 0.0023991604647570636, 0.0016006781013019472, -0.0010560018860343579, -0.002191557071110517, 0.00085040859094200061, 0.0023576944428210928, 0.0002999353827568968, -0.00048483948516332698, 0.00015523547787649195, 0.0008643106396492295, -2.6741468546198632e-06, -0.00020246343810433054, -0.0022949171507073013, -0.0020331005942193364, 0.00056856362146155692, 0.00018969701715472465, 0.0011876899875856578, -3.7246108203659034e-05, 0.0012771497712065066, -0.0023015377852141916, 0.00012801328724780514, 7.9441124239729155e-05, -0.001290170338192051, -0.00023697405385847414, 0.00010719789790955558, 0.00017604210355832983, -0.0011730361592716537, -0.00050534814652718196, -0.001331278802946409, 0.00036198893896441375, 0.00043071746434857061, -0.0013450511495387285, 0.00054072622215275978, -0.00092529166642527083, 0.0015527123833175699, 0.00026542301427147363, -0.00082181590656385528, 0.0012566060552170188, -0.00027836646108057861, -0.00034714756840320549, 0.0010847067452145892, 0.0008367992483589437, 0.0014837787883733855, -0.00088421124537142737, -0.0010423311978564193, 0.00089878444804643298, 0.0003825642041169891, 1.7697801469193641e-05, -0.00100066361182298, -0.0021432127631691722, -0.00075323986880126981, 0.0012083038128264389, 0.00155264402679757, 0.0010777425753763503, 0.00051308337601629894, 0.00029297296564996522, 0.00074766897821917921, -0.0019366748880289691, -0.00042280871446249979, 0.00054086118246149395, -0.0025426931927167717, -0.0001265867060973036, 0.00089186059102772108, 0.00027944775416845202, -0.0024257395451184605, 0.002082228230930544, -0.0013242988585266402, 0.0014218917416377042, 0.0016284576604784218, -0.00056729128066390633, 1.0763428062776637e-05, -0.0013520083084518214, 1.7748630676397981e-05, -0.0004916739528866565, 0.00010732584729315764, 0.00058915816665822129, 0.00060965631163437117, 0.00059583839402869987, -0.0010833520260466606, 0.00087120820569872026, -0.0014345161913534299, -0.0019300174461651526, 0.001917301854422751, 0.00036899517435341755, -0.00064302078324320056, 0.00050668183291971425, 0.00092639048682596759, 0.0023370578320736357, 0.0001072399634603205, -0.00023016412437310008, 0.001621582879935593, -0.0021227672001315062, -0.00023703189399078284, 0.00058920023220900009, 0.0011531022516550887, -0.0030313266779108117, 0.0016627597012099787, 0.00025857452469787989, 5.9120005123106112e-05, 0.00035498445630668951, -0.00025056586912870771, 0.00045820782286346007, -0.00081491658778307108, -0.00029880851865569935, -0.0012829625387055787, 0.00030668571937868261, -0.00048475184859922416, 0.0020275332090997911, -0.0024119321439004943, -0.003114109739623741, -0.0021436001167825791, 0.00082323722952050427, -0.00099385894053144463, -0.00041554658030626412, 0.00052703625393070441, -0.00083591776663725914, 0.0018486118891268138, -0.0011589640956300579, -0.001069786501745662, -3.0499277044446216e-05, -0.0018678464569617248, 0.0010638370212065762, -0.00073240519941890347, 0.0019243887154507533, -0.00038138651080858732, -0.00087699117676598437, 0.0025849495543477374, -0.001248723596300183, -0.0014138900969936641, -9.9110369432664491e-05, -0.0010560772534795038, -0.0021092016758304938, 0.00065077879823899343, -0.0007256671319161162, 0.0002930465803638177, 0.0012357556112531226, -0.00051245078213671413, 0.0014216568756458686, -0.00020932945499073374, 0.00080247091665815173, -0.00090471114307885681, 0.00080253401498431298, 0.00078173089476503421, -0.0019096595196915894, 0.00050618230450423518, 0.00013505282453117606, 0.00086443858903283155, -0.0021914659290838412, 0.00042353069763748086, 0.00041005105716931944, -0.00016099040524322761, 0.0010776321533055716, 0.0005131044087916814, 0.00051994939290271602, -0.0002644836924174665, 0.0010294806458052697, -0.0010834203825666744, -0.00022307551061381825, -0.0017098404320100846, 0.00035503703824515953, 0.00025153498741452285, -0.00038826830227653431, 0.00094688337360827879, -7.8766464809365555e-05, 0.0002929396637555981, 0.00037573674731877782, 0.00056857764331180727, 0.0011531075098489274, 0.00069908454609214632, 0.0023851234557411005, -0.00080793313790074317, 0.00035490558339898448, 0.0017592450002639343, 0.00089835678161354071, 0.0010774831711465732, -0.00031262994172392977, -0.0005469053104898286, 0.00096776887219782171, 0.0022061407901732416, -0.0014347931228960303, 0.00063743587081085962, 0.00065106624616929898, 0.00055451259059532965, 0.00010731182544289342, -0.0013248124087923696, 0.0015317006880756906, -0.00018214231898769362, 0.0012085965189505971, -0.00027821046799644811, 0.0015043330207505784, -6.4957310860119799e-05, 0.00040990207501032105, 0.0009402346954008739, 0.00051314296887990107, -0.0024050801488643414, 0.00069914063349317546, 0.00025208709776845806, -0.00052623364511672488, 0.00045119632928060371, -0.001503409473478115, 0.0010570376081088934, 0.00038920937686183488, -9.6505858118295373e-06, -0.00195760595763185, -0.00047086382174225949, -0.00094577053135731781, -0.00079429224615461258, 0.00031341327049379253, -0.00027134094564747191, -0.00056038495095799001, -0.0013448776291417747, 0.0012084440313290257, 0.002922241467379072, 0.0011535404344756722, -0.00065681065714835729, 0.00098134841834908448, -0.0015172273910837725, 0.00093997704390236247, -0.0005464338257748641, 0.00024462164678347442, -0.00065002176043836568, -0.0020334476350132302, 0.00086430538145537694, 0.00076083137432524095, -0.0018336232891378729, -0.0015584480306402165, -0.0003056499973041471, -0.0013656930184800242, -0.00065668971868985959, 0.00014869371627730665, -0.00044330510670735623, -0.00053976411479207675, 0.00025151395463912651, 0.00067177121343675594, 0.0011738422735481924, -0.00038144435094090989, -0.0001061761976852843, -0.0012486920471370955, 0.00043711900744514143, 0.0018828788752327241, 0.00065758346953052882, 0.00076106098212323781, -0.000230265782787481, 1.7738114288692874e-05, -0.00053270179200204382, -0.00095300988000687759, 0.00027926196465252739, -0.00074643695024102785, -0.0010354739446264138, -7.1960040786564483e-05, -0.0010492164947869254, -0.0020400314621631804, 0.00015558427140167919, -0.00055339624288180955, -0.00078761026605284057, 0.0015524564845503519, 0.00056831823908201629, -0.0010010492127051074, -0.0008013177615877054, -0.0013450266113007731, 0.00028616303616459116, 0.00049240119425550399, -0.0014622887396047723, 0.00040996342060520274, -0.0012899494940504658, 0.00010018114613284668, 0.0016903201689761616, 0.0014698224049964209, 0.00057500197191506786, 0.00058206254197382123, 0.00041003878805033478, -0.00097344317392557278, -0.0011384273905656883, 0.00095412272225782468, -0.00088402896131807573, -0.0018404191967729966, 0.00038937413360237705, 0.00024493012748917631, -0.0011934747113842015, 0.0021719964952570947, 0.00053407754394535489, -0.00070484823711529365, -0.0007325944943974011, -0.00058104084174954995, -0.0017097475372521292, -0.00040197930327397213, 0.00048576303243579033, -9.6716185872119942e-06, -0.0029623369955655843, 0.0019585189885166221, -0.00027827882451646191, -0.0005534400611638679, -0.0016479288470364478, 0.00018974784636192898, 0.0012360413064521486, 0.0001485517450434265, 0.0031356488648682512, 0.00010043178670622599, 0.00029302379485714181, -0.0012212297323227206, 0.00099506993573421354, 0.0012909308814552378, 0.00076823197425278378, 0.00027219788913120102, -0.0009871384003414807, -0.00056751738299933019, -0.00093876955416216656, -0.00037429964978059893, -0.00093210685410451133, -0.00033339800731754798, 0.0013529984595130051, -0.00098720500413020107, 4.531786209897859e-05, 0.00018309916815452409, -0.00043660559929276088, -0.0005949446431880584, 8.6787389497508527e-05, -0.0012831465754902099, 0.0030669203394841082, -0.0033825486833498897, 0.0018900638892125204, -0.0006292501893821606, -0.00047128272451874009, -0.0028867038932068045, 0.00080899690367579324, 0.00012074063670387825, 0.00020349565471629305, -0.0014826133641839545, -0.0016476747010004955, 0.00056816399872916534, -0.00064980442175935349, -0.00020952050270051092, 0.00029283975807251061, -0.0020400174403129301, -0.0016204910704600284, -0.0010214825066238026, -0.0003470827173457508, 0.0018690329139265383, 0.0013117655508376042, -0.00036076742737395362, -0.0011111000360600615, -0.0026874667123110429, 0.0013117304962119436, 0.00084368805075203668, 0.00076813382130096197, -0.0018546157043356493, 0.00078866702090275853, -0.00016817191376046481, 0.00025877433606406874, -0.00053307512376518651, -0.0012210597173883397, -0.0010420893209394516, 0.00076086117075703508, -0.00026456957625030364, -0.00030573938659955724, -0.0014208437504441979, -0.00076696138618639886, 3.8548245433103756e-05, 0.00069930013203986507, -0.0010903232068100177, -0.0017994211540894312, 0.00066466156690210554, -0.00071187375254840035, -0.0018818221203827923, 0.00018275563282317553, -0.00092530568827553505, 0.0010500226090634779, -0.00034025701327883295, -7.8480769610339562e-05, 0.00084376517092844827, 0.00030000373927692447, -0.00031278593480806027, -0.001200388052015236, 0.00018980393376294424, 0.00084343390471608437, 0.00018980393376294424, 0.00018975485728704722, -0.00049161085456050913, 0.00092620469731004296, -0.0015995880445576482, 0.001545728933435242, 0.0011878547443262, 0.00095371784133160831, 0.00024486352370044207, -0.0012968751038004711, 0.00044439691618293475, 0.0010639597123963396, 0.00049962476832350611, 0.002516015959403553, -0.00071182642880378288, -0.00029201085828928219, 0.00076773770403114339, -0.00020258612929408004, 0.001525144904626255, 0.0013737384814061226, 0.00076803566834915404, -0.00039543929440608028, -0.0031207233632054854, -0.00034701961901958955, -0.00039521845026450897, 0.00081629584518894127, 0.00070575250434364023, 0.0020341275526374464, 0.0004926939003796621, 0.0024267612453427317, -0.00060175281994213903, -0.0013451948735038882, 0.0010363396517665546, 0.00093287791375538942, 0.00012810618200576052, -0.00042291212560814639, 0.0010776794770501891, 0.00092619242819107217, -0.00061564435226166281, 0.0013804502579396888, 0.00036868143545387699, 0.0020206601812882558, 0.00063735524517186115, 0.00016229604793524532, -0.00033330160709701961, 0.0012086087880695678, 0.002041074195162848, 0.001690209746905369, -0.0010765701402618011, -0.00060875730259987715, 0.0010914728564179049, -6.4906481652929338e-05, -0.0028180454770739549, 0.0012226335279665462, -0.0010834817281615561, -0.00084950257098237447, 0.0010296296279642819, 0.0011670481186443621, -0.00049827530734944392, 0.0013667077077791634, -0.00076709809922642647, 0.00069250247167346179, 0.0011395805456361346, 0.0038928667704848791, -0.00014045370017885805, -0.00059497443961985252, -0.00093179837339879557, -1.6476289878733508e-05, -0.0004156885515401304, 0.00054789020335717364, -0.0030175771168251542, -0.0012485553340970679, 0.0021445937733063219, -0.00036084980574421777, 0.00089192193662260277, -0.00010613939032834419, -0.00055308075125097556, -0.0015239742222429853, 0.00096041384328363066, -0.00064994814572449933, 0.0007470344894949521, -0.00062237190337677273, -0.00054654074238309758, -0.00064982720726601551, 0.0017519127568564052, -0.00049182293504566876, -0.0029142310590786341, -0.0010975467808780337, 2.4593614787404849e-05, 0.0006716695550223889, 0.0011052311811599602, -0.0016752614597359272, -0.00031254055242851964, -0.0005600659538645969, -1.6583206486966984e-05, 0.0010432407232786184, 0.0016900835502530326, -0.00091132301392932158, 0.00049935660043731733, -0.00043634093686913122, -8.5462466761387912e-05, -0.00057427823600880723, -0.0014758647802934621, 0.0018831558067753246, 0.00034143295385595518, -0.00026457483444414231, 0.00095378619785160823, 0.00076094880732115178, 0.0011329932130236114, -0.00058121962034035635, 0.0014630790792997672, 0.002385437194640655, -0.0020746612636445422, -0.00015449246192611454, -0.00042307512961740901, -0.0023775897903494519, 0.0017110251362436185, 0.001222104203119273, -0.0012347987620862921, -0.001317396034283283, -0.00042310317331793745, 0.00013476362386957708, 0.0003414171792744114, 0.00016236089899270001, -0.00039510452273115726, 0.001180660966689992, 0.0016353306882899571, 0.0012428056649241709, -0.0016135181369653917, -0.0018406680846150963, 0.00017572135373365716, 0.001965250045094305, -0.0003743662535693193, -0.00048505331837978005, 0.0022890798449702876, -0.00034011854750752579, 0.0016489978710053504, -0.002487430285950526, 0.00029991434998151434, 0.0002791550480443078, 1.7871321866147483e-05, -0.0018544386784761363, -0.00052612147031466661, -0.00031948719495392131, 0.0012292383878918928, -1.6665584857245008e-05, -0.0028178596875580164, -0.00093201220661524864, 0.003101027827043315, 0.0004238409310744623, -0.0015171713036827433, 0.0010019920400216598, -0.00056051815853544462, 0.001139755818764368, -4.4261107249074505e-05, 0.0016422212434143296, 0.00060292700778798169, 0.00036179088032951834, -0.00013393297135508297, -0.0016821537675915654, 0.00028630325466717788, -0.001365708793061568, -0.0014830673215860957, 0.0004032218476398286, 0.00032750636691078472, -0.0011177189178356584, 0.0020963160691537114, -0.0017920608669813737, 0.00096035425042001465, -0.0012966823033594144, -0.0010491200945664109, -0.0026942293180517995, 0.0019451147154935927, -2.3540365400046004e-05, 0.00071284988175933373, -0.00039551115638866707, 0.00011410422761544414, 0.00068532622135007715, 0.0010501260202091384, -0.0014069609817810858, -0.0012622803569447699, -0.00045710724973148376, 5.8934215607167606e-05, -0.0020057942724890782, -0.0013039865030664149, 0.00043771318334986931, -9.2282912634467085e-05, 0.0003618574841182387, 0.00052009837506170054, 0.0015182228003388226, -0.00045010977799889162, 0.00036882340668774327, -0.00025719877275456882, 1.0826526388937885e-05, -0.00025057463278513326, -0.0011932643836303214, -3.7526545208832474e-05, -0.00099395884621453212, 0.0013597680761788938, 0.0020346340919780437, -5.1095574972404023e-05, -0.0016819031270182, 0.00080926857702455501, -0.00062916605828061689, 0.00026549662898532611, -0.0016135163842341121, 0.00031379010771950822, 0.0010843667153457998, 0.00010004618582409863, 0.00043090325386449524, 0.00014837296645263398, -0.0018473781084173829, -0.0015652912620199577, 0.0018556812228419789, -0.00022985914912997119, -0.00024370160497358406, 0.00067150304555056717, 0.0006579497903685394, -0.0010628416119515399, -0.00051888913259022507, -0.00026446967056721615, -0.00087727161377115781, 7.278718783848559e-05, 0.0006165205757895087, 0.0029016521803762463, -0.00038828758232065108, 0.00082326877868359183, -0.0024119233802440826, 9.3395754885414184e-05, 0.0029910681457150368, 0.00026549662898532611, 0.0010087528930311229, -0.00088395359387291594, -0.00043656178101071641, 0.0014357867794197871, -0.00051210374134279257, -0.0013793093719882132, 0.0012981299172853122, -0.0010421454083404946, 0.00075394432466344141, 0.00017585280857983221, 0.0031561259770690187, -0.00018204591876716525, 0.0010912835614394073, -0.0011041376189531021, -0.0013861999271125858, -0.00033304921379236074, 0.0001208685860874803, 0.0013391174435811726, -0.0015996721756592197, 0.0016971686585497414, -0.0011039640985561622, -0.00079433781716795049, -0.0010902215483956368, 0.0014423968975389861, 0.001628051026820912, 0.00087822671020669485, 0.00020351844022296894, 0.00096756029717522118, 0.00073353206352012867, 0.00014162613529342116, -0.0010905440509516029, 0.0027568401006937554, 3.8383488692561585e-05, -0.00076000247454202641, 0.0016696187071712637, -3.7198784459027689e-05, 0.00036184872046182703, -0.0010628275901012757, 0.00044443722900240623, -0.0001129931380957766, -0.0020608941752460613, -0.0008632433684116203, -0.00029206344022775221, -0.0010971664381897589, -0.0006155111446842082, 0.002743390256657402, 0.0010570341026463204, -0.0019505488930356696, -1.6758479615200383e-05, -0.0001477123288725346, 0.001167070904151038, -0.0010972383001723457, 0.00031385495877693514, 0.0010021480331057903, 0.00065765533151311562, -0.0019923163847522102, -0.00045020442548812656, -0.00077365914086971466, 0.0015526194885596145, 0.0007264294279105965, 0.0013942155936068901, 0.001621714334781782, 0.00046521230552118431, 0.00052001599669143639, -0.00088393080836625393, 0.0018830050718850466, 0.0016969951381527876, 0.00011419887510469295, -0.00031983774121040198, -0.00057418183578826498, -0.00069121786175684041, -0.0026183000041063026, -0.00078070744180949725, 0.00094000333487159748, -0.00055379236015162814, -0.0006017230235103449, -0.0019646945713911318, 0.0010430707083442237, -0.00040883129831013887, -0.00055346635213310291, 0.0024129924042129852, -0.00028494503003669014, 0.00058891628974125365, -0.000401923215872943, -0.00078059701973870466, -0.00024371387409255485, -0.0010351794857709762, 0.0013118093691196486, 0.00049948454982091939, -0.00023708622866054629, 0.0027089848047801846, 0.0022407092460597078, -0.00072573724116740956, 0.00056164852809922894, 0.0019654516091917734, -0.0030656409877613394, 0.00099503663383984642, -0.0018956873617330811, -0.00067055846550272136, 0.0011326917432430555, -9.266150259146233e-05, -0.0001957411451830593, -0.00073943772577715616, 0.0010569604879324679, -0.00045036567676612349, 0.0003344565148987455, 0.00016927248689244112, -0.0019025183239938653, -0.0018544597112515188, 0.00026569644035152884, 0.00030691182171410647, 0.0010018062505057351, 0.0018278595981147255, -0.00060181767099959371, 0.0011465639955184764, 0.0013188611755220042, -0.00011997658797811839, -8.549752138704847e-05, 0.00087114160190998602, 0.00023796420491965786, -0.00047784376616202828, 0.00067169584599162391, 0.00042383917834316887, 0.001366509649144268, -0.00017499761782738266, -0.00093210510137321789, -0.0007190342282902551, 0.00291538596688036, -0.0021365132557545768, 0.00025859731020455579, -0.00014070784621481036, -0.0018133109336776615, 0.00019687677294069617, 0.0011876601911538637, 0.00056818152604200256, 0.0017449538452120328, 0.00062336380716923601, -0.0014207140483293024, 0.001263656108888081, 4.0165969035638183e-06, 0.00068541736337675296, 0.00077495426717402727, 0.0022132977604525234, 0.0009536687648556974, -0.001771915020992984, -9.6575967369477711e-06, -0.0011798355723693366, -7.8053103177447292e-05, 0.00024502828044098424, -9.9396064631690484e-05, 0.00045124014756267594, 0.0015251571737452396, -0.0014622151248909199, 0.00063674354195432381, -0.00068424142279963074, -0.00045715106801354211, -0.00045737191215511341, 0.0023165824726041617, -0.0012213909836007036, -0.00029902059914085899, -0.0011385956527687896, 0.0012086175517259795, 0.00021719438659474621, -0.00065701046851453226, -0.00012681456116400702, 0.0012776615687409565, 0.00018967072618548964, -0.0018405033278745542, -0.0005950322797521751, -0.00012664980442346485, -0.001448339367152926, -0.0016684269920125977, 4.5200429103053885e-05, -0.00082866264340616946, 0.0019241556021901834, -0.0017647370179383198, 0.001862265049991943, 0.0011326549358861293, 0.00016899730808110636, 0.00088491394850230554, -0.0013312735447525564, -0.00072556722623301484, 0.00066484560368675061, 3.802763687110744e-06, -0.00032645136479214631, 0.0014145367127234992, 0.0019243221116620191, -3.0362564004418613e-05, -0.00069128797100813377, 0.00018967773711063562, -0.00070496742284249791, 0.00076091550542678466, -0.0011730414174654924, -0.0015378079144301865, 0.0015181684656690592, -0.0017580638014929595, -0.0014413909718962586, 0.00063009486374691892, -0.00012005370815452998, -0.00067068115669248474, -0.001448263999707794, -0.00023725974905750014, -0.00086324687387417942, 2.467774588897631e-05, -0.00095279429405913107, -0.0015377781179983924, -0.00018198457317228356, -0.00035381903211727239, 0.0010089632207850169, 0.00016241523366244959, 0.00056123313078530745, 0.00065792525213058395, 0.0015318374011157321, -0.00072560753905251407, -0.00035358767158799598, 0.0014976545461113794, -0.0003332981016344605, 0.0014287630167179599, 0.0017863970816413277, 0.0029288358109167273, -0.00097331522454195685, -0.0011110684868969739, -0.0013590390820787807, -8.5532576012681272e-05, 7.9691764813108468e-05, -0.00011283363954907311, 0.0012290122855564689, 0.00080935796631996515, 0.00065121873379085649, 0.0002034903965224405, -0.00053972730743515052, -0.00057424493411444011, -0.001200440633953706, 0.00079543313210607425, -0.00088384317180212335, -0.0014829849432158315, 0.00093311453247851839, 0.00060948454396869689, 0.00032764833814466487, -0.00042288057644507271, 0.00027930928839714486, -3.7251366397497709e-05, -8.5465972223960907e-05, -0.00062222467394906777, -0.00087705953328599817, -0.0010628258373699961, -0.00084944648358133146, 0.00098775346690824217, -0.0010144552384594163, -0.00015424532681529435, 0.0010913887253163473, 0.00016225748784702565, -0.00016114464559607855, 0.0010434230073319839, 0.00048574199966040787, 0.0030805156602169148, 0.0015939680774996606, -0.0020748155039973792, 0.00021731707778450959, -0.0010147602137025313, 0.00074070831384351332, 0.00098806720580778273, -5.8189446925524524e-05, -0.0017508857984382814, 0.0010569254333068073, 0.0014285719690081966, -0.00026458535083184742, 5.9048143140533194e-05, -0.00016805623349583354, -0.00053294366891901146, -0.00012677775380708078, 0.0014285193870697127, -0.00035392419599421243, 5.9056906796930986e-05, 0.00023133655948764931, 0.0013805010871468792, -0.00036066927442214569, -0.00071886771881841949, -0.0013999722737049053, 0.0013322023502188723, 0.00080256906960997354, 0.00071968259675138369, -0.00082892204763594657, -0.00053975885659823808, 0.000761245018907869, -0.0010628100627884524, 0.0012635158903854943, -0.00014021182326189041, 0.00078170109833324009, -0.0020402523063047656, 3.1473653524086154e-05, -0.0004020213688247648, 0.0021511092439362584, 0.00027926897557764563, 0.001765886667546207, 0.00066456691941285673, -0.00058081649214541953, -0.00084940967622440522, 0.00080237276370634381, -0.00044327706300684167, -0.0012694531018055955, -0.0012141831841142314, 0.00048591026186350916, 0.0003344074384228346, 0.0018553709894049975, -0.0016271818142182121, 0.0014767567784028518, -0.0011314877589654188, -0.00096646498223708355, -0.00058122663126547458, 0.00090541384620974885, 0.0010157451065698764, 0.0018419421781440265, -0.00027857328337189957, 0.00067841112798774916, 0.00012811494566217219, -0.00067738241683834577, -0.0013519241773502638, -0.0010077066545689101, 0.00097436672119802226, -0.00024377521968743654, 0.00095391064177266505, -0.0018955348741115235, -0.00018165330695991966, -0.0011248408334892934, -0.001317317161375578, -0.00043688077810409565, 0.0037892893522090826, -0.0020472445198435052, -0.00063607939891165144, -0.0019919693439582886, -0.00030591115426523152, -0.0011042690737992911, -0.0014758928239939906, 0.00056840762837742642, 0.00069244638427243266, 0.001469950354380023, 0.00060968435533489962, 0.00036154199248741858, 0.0020547308614905224, 0.0023438589979025981, -0.00048464493199099068, 0.0014423776174948694, -0.00089782584614833683, -0.0009320437557783362, 0.00016921289402883899, 0.0013460377951373392, 0.00030703100744131073, -0.0015651878508742972, 0.001566418126121169, -0.0012763471623925271, 3.8693722129529151e-05, -0.001413939173469575, -0.0012350055843776131, 0.00017601405985781526, -0.0021916324385556629, -0.00048480267780640074, 0.0010360662256865133, -0.00087709984610548353, -0.0013244530988794911, 6.5768683330497124e-05, -0.000980053292044758, -0.001193706071913464, -0.0011315333299787567, -0.00025076568049489656, -0.0014412595170500836, -0.0010078836804284369, 0.0010567431492534557, -0.00034731232514373378, 0.0004585496054635152, -0.00014748622653711074, -0.00049855924981719035, 0.00089168531789947381, -0.001042212012129215, 0.001125978213978196, -0.0033476717467577216, 0.00054785690146280652, 0.0014284212341179048, 0.00097413886613133271, 0.00036186800050592993, 0.00034813596673310965, 0.0016485544299909144, -0.0011317717014331652, -0.00077393081421847643, 0.0007544280784973767, -0.0014277080145993215, 0.0012565639896662401, 0.00059599789257540337, 0.0020825016570105992, -0.00018190745299585809, 0.0021648973651101355, -0.00022333842030618223, -0.00020255282739971292, 0.00048572096688501154, 0.0014770442263331574, 0.0013940368150160837, -0.00080812769107307947, 0.00039611570656773731, 0.0001348162058080471, 0.00088495426132180477, 0.00075398113202036765, 0.0012293049916806131, 0.0017796730359887908, 0.0010981846329514572, 9.3532467925441787e-05, -0.003602427733186947, 0.0014975791786662335, 0.0013118163800447807, -5.8077272123438495e-05, 0.00095367051758697696, -0.00054660033524669971, 0.00084366000705150823, -0.00016826480851843406, 0.00095374062683827032, 0.0010982722695155878, -0.0015927991478476705, 0.00078156964348706504, -0.0012828959349168306, -0.0024533052710784958, 7.270831493078056e-05, 0.0015181842402505891, -0.0011178118125936276, -0.0015172641984406987, -0.00082886070204106488, -0.00086318552827929773, 0.0022956759412392225, -0.00070506557579430584, 0.00020370948793273225, 0.00073357938726474614, -0.0010903197013474447, 0.00038938815545262739, 0.0015385509303805639, 0.00074728162460578618, 0.0010227758801968356, -0.0020953031325858379, 0.0010157170628693618, -0.00035394522876959489, 0.00074032972388653195, 0.001566178001935481, 0.00051997568387193716, 0.00087802164064665345, -0.0010351987658150791, 0.0015114181290472872, -0.00032623052065056113, 0.0027640479001802276, 0.00026526351572477014, 0.001022379762927017, 0.00078863547173967097, -0.0024393155858071502, -0.00049838748215151607, 0.0002450107531281609, 0.00034100528742306291, 0.00015533363082829987, -1.6388653314616808e-05, -0.0020468922208557588, -0.00088381688083290222, 0.00157301422239009, 0.00020367793876964468, -0.0010697006179128249, -0.00026460638360722988, -0.0013244688734610349, -0.0010491323636853817, 0.0017248640866246723, 0.003135776814251881, -0.001241598175183975, 0.0024200687488532824, -0.0001405010239234894, 0.00079568026721689444, 0.00019687677294069617, -1.0087015901133478e-05, 0.00098153946605886166, 0.00096719222360591717, -0.00086997442498928934, -0.00064313996897040482, -0.00053970627465975418, -6.4701412092887933e-05, 0.00089179048177642772, -0.00038144610367218945, -0.00012668661178039109, -0.0010971033398635976, 0.0025915842107048781, -2.3440459716958517e-05, 0.00097461210357756289, 0.0002242128911027208, 0.001256639357111386, -0.0010145726714553271, -0.00057437288349804216, -7.1681356512670602e-05, 0.00035524035507392138, -0.0032308022302609679, -0.00021624279562176829, 0.00067124714678334918, 0.00023100003508144673, 0.0012771585348629183, 0.00020358329128039587, 0.0011053451086933258, 0.0017729700231116224, -0.0016821695421731092, 0.0010775918404860724, 0.00099497353551367129, 0.00018973908270551731, 0.00055427597187221456, -0.00082879059278977152, -0.00029870510751002499, 0.0013874442242097218, 0.00049274122412427956, 0.00041690480493675186, 0.00063053655203007541, -0.00058131251509831172, -0.00025069381851233752, 0.00023788533201195283, 0.0027428521681537171, 0.0012701137393856948, -0.00028513081955261477, -0.00042973782967506424, 0.00016917959213448575, 0.00019667696157450731, -0.0016135637079787296, 0.00027910421883710346, -0.0011660614730457375, 0.00044450909098499303, 0.00056157841884793558, -0.0023565903642265573, 0.0013116218268724444, -0.00044379762419770319, 0.00067836730970569081, -0.00075306284294175685, 0.0008506101550394829, 0.0011808134543115495, -0.00025743188601512479, -0.00052592691714230255, -0.0025701292165619116, -0.00095258747176782399, 0.00083671336452610656, -0.00069787530362065697, 0.00063025260956234286, -0.00071858027088811394, 0.0014215657336191789, 0.00097420196445749396, -0.002136343240820196, 0.00098831434091858905, 0.0010844876538042836, -0.001909510537532591, -0.001489684450630413, -0.00071205954206433886, 0.0015594346762388411, 0.00053378483782119679, 0.00062336555990052944, 0.00036204853182801588, 1.0865086477157559e-05, 0.00033410071044844003, -0.0010422260339794653, -3.0352094987917688e-06, 0.00014132466551286527, 0.00050647325789711373, -0.00045044805513638764, -0.00050533412467691774, -0.001393178118801075, 0.0018761022476417033, 0.0015387121816585608, 0.0002998775426245881, 0.0014356307863356566, 0.0021651269729081185, 0.00038941269369058285, 0.00080236224731865258, 0.00063018951123616773, 0.0023093922004305129, 0.00015552643126937049, -0.00040200559424322102, 0.00063003527088331679, -0.00020903149067273696, 0.00032735212655794765, 0.00041696264506907443, 0.0011533108266776754, -6.4489331607728295e-05, -3.7398595825216541e-05, 0.00035519653679186303, -0.00051237366196028866, -0.0015652702292445753, 0.00022443198251302643, -0.00055358378512902762, -0.0018198877499024935, 0.00033424443441358587, -0.0010146830935261059, 0.00087118542019205825, -0.0013725362498597654, 0.0016627947558356254, -0.00083551113297974933, 0.00082290771603941992, 5.8953495651284382e-05, 0.00064402670888592806, -0.00067724219833575905, -0.0022740877395188014, 0.00043766410687397228, -0.0017304016753124096, 0.0015112411031877604, 0.00076804618473683139, 0.00020367268057580601, -0.00048467122296022569, 0.00255031800013511, 0.00085064345693383614, 0.001532116085389626, 0.00032084366685312948, 0.0010088177440885776, -0.00021638476685564845, -0.0013863681893157009, 1.7631197680473276e-05, -0.0016203631210764263, -0.00064302954689961223, 0.0018620424531190782, -0.00051924668977183785, -0.0014415732559496103, 0.00032709096959686323, -0.00053973782382284174, 0.00050643995600274661, 0.00065106449343801942, -0.0010765648820679485, 0.00029997043738255735, -0.0018889773379308084, 0.0011397505605705294, -0.00010611660482166829, 0.00076084189071293218, 0.00022422340749042591, -0.00069151407334355763, 3.1603355638981645e-05, -0.0022326041902700072, 0.00050651882891045164, -0.00051926421708464732, -0.0016617292373292819, -0.0014411175458162034, -0.0032926927824592223, -0.00047784902435586696, 0.00091923702200924495, -0.0018335987508999313, -0.00081514970104362705, 0.00116026097466565, -0.00088403772497447353, -0.0014624850455084021, 0.0010709939914858579, 0.00096741657321006147, 0.0013321953392937402, -0.0011248145425200584, -0.00086335203775111946, -0.00067751562441581425, -0.0021779599976464448, 0.00025181717715097585, 0.0016556430437501823, 0.00014171727732009698, -0.0017648509454716715, -0.00011296158893270292, 0.00026504617704575795, -0.00067059702559092715, 0.002440552871979168, -0.0019509555266931794, -0.00039511679185014192, -0.0007532328578761377, -0.00090461474285832844, -0.0023430914437142791, -0.0010006548481665545, -0.000794490304789508, -0.0023706168568548153, -0.00030600404902320077, -2.367357297751449e-05, 0.00052005105131708307, -0.00036116880283762476, -0.0015099459768834339, 0.0021996025340366293, -0.00045046908791177009, 0.0020206584285569623, -6.4880190683694328e-05, -2.355088178775111e-05, -0.00043663539572456889, -0.00084263830682723695, -0.0014204143312800122, 0.0019448202566381551, 0.00089866175685668348, -0.0015310207704514883, 4.5314356636419473e-05, 7.9379778644847465e-05, 0.0016419495700655679, -0.00041576567171655587, -0.00097351503590815958, -2.779310731559903e-06, -0.00037467122881246206, 0.0029979201407511896, -0.0014550038199418747, 0.00056135757470635039, -0.0016823080079444303, 0.0010707100490181254, -0.00074618630966764854, 0.00014847988306086746, 0.0022682486810505081, 0.00093274821164049393, -0.00014067804978301623, -0.0012144285664937582, 0.00036911786554319481, 0.0017452553149926026, -0.00065012166612145317, 0.00024488806193839752, 0.0024678258918150314, 0.0004030956509875061, 0.00077481755413401354, -0.0019919465584516127, -0.00042992712465356187, -0.00031256158520390209, -0.0018474306903558529, 0.00022428300035401416, -0.0012831202845209749, 0.00072685358888092966, 0.001937984036183546, -0.0011593777402126859, -0.00056710724387926126, -3.0483502462902434e-05, -0.0009114632324319083, 0.00070554392932103971, -0.0010287604153615681, 0.00034117705508873719, -0.00017526228025102619, -0.0012829870769435203, 0.0020964002002552551, -0.00062230354685675893, -0.0020539527909145122, -0.00069794716560322989, -0.00060843830550647016, 0.00045818503735679805, 0.00065758346953052882, -0.00055338397376282489, 0.00087137120970798287, 0.0018347501532390981, 0.0011670989478515387, -0.00051231932729052521, 0.001662563395306349, 0.0012152048843385027, -0.0009183625512126925, 0.0030323694109104654, 0.0001003318810231385, 0.0013666340930653109, 5.2197900835659894e-05, -0.0031209038945275713, -0.00067741221327015377, -0.00038170550790196656, 0.0013598136471922317, 0.00087121346389257281, 0.00040315524385109436, 0.00022423742934067625, -5.0818643429775823e-05, -0.00031263344718648889, 0.00081625027417560336, 0.00078855134063811338, -0.0009596042235445329, -0.00092548621959762101, -0.00099377831489246005, 0.0020825559916803488, 0.001924138074877374, -0.0030380577344884807, 0.00094669933682361984, -0.00082868192345027236, 0.0006164785102387299, -0.00031277541842035517, 0.0013871778090547987, -0.0002645713289815832, 0.0020893764375534279, -0.00088363459677952283, 0.00026556498550535379, 0.0024130730298519698, -0.0015790408231056013, -0.0013723977840884583, 0.0023785256067408861, 5.2385443082877958e-05, 0.0027225853837068298, 0.0007885881479950535, -0.0023911360346063476, 0.0016557867677153421, -0.00042983422989560649, -0.00042239682261113742, 0.00042375329451033172, -0.00058801552797546619, -0.0026183333060006836, 0.0019657040024964184, 0.00077438638223854828, 0.0016692629027209444, 0.00028588259915941772, 0.0010018693488318964, 0.0012908327285034299, -0.00033326830520265249, 0.00098842125752680865, -0.0001817882672686677, -0.0016549999334829063, 0.00032752915241746061, 0.0013392383820396703, -7.8682333707807972e-05, 0.0013734930990265959, 0.00012094395353262621, -0.0021502312676771468, 0.0008642002175784369, 0.00012090889890697953, -0.00099415164665560274, 0.001112267212980772, 1.7701306931766636e-05, 0.001091371198003524, 0.00049956342272862442, -0.00069134055294660379, 0.0012909449033054882, -0.00036098476605296581, 0.0008571554221012273, -0.0013864488149546716, -0.00036756333500907734, -0.0012141831841142314, 0.00043768689238064817, -0.0015169977832857895, 0.00091916691275795159, -0.00047790686448818953, 0.00016914453750882519, -0.00087740306861733286, 0.0021583363234668473, 0.00037579984564495295, 0.0019245482139974429, 0.00051328494011376735, -0.00041594795576993526, 0.0021787485846101601, 0.00083669934267584234, 0.0010570603936155554, -0.00029893296257674229, -0.0023774460663843061, -0.0013243286549584343, -0.0016754349801328811, 0.00032067540465001432, -0.0010213650736278779, 0.001167014816749995, 7.284853343336728e-05, -0.00016807200807737732, 0.0012014500650589927, 0.00053398114372481265, 0.0016969355452891993, -0.0028113231841526976, -0.001413758642147489, -0.001641129433938765, -0.00020925233481430827, -0.00090440090964188924, -0.00095976547482250207, -0.00073961124617411, -0.00066368017949731961, 0.00031380938776359724, 0.0018418019596414398, 0.00072672914495988672, 0.0012636894107824481, -0.00057420111583236788, 0.0018279542456039743, 0.00072656438821933067, 3.8322143097679895e-05, 0.00046521405825246387, 0.00082967032178017652, 0.0020895587216067935, 0.00089160995045434177, 0.0020757478149262681, -0.00038152672931117404, -0.00057459022217706823, 0.00086427032682973026, -0.00093883966341345992, 0.0004929340245653363, -0.00076700870993103021, 0.0011259852249033281, 0.00047188727469781033, -0.0014691863056542631, -0.0015031675965611474, 0.002461340217616903, -0.0002987506785233629, 0.00019676985633247657, 0.0014976282551421305, 0.0017451466456530895, 0.0025091043715037981, -0.0008357635262844082, -0.0019714676935195796, -5.0872978099525401e-05, 0.00034122087337078166, 0.0031218449691128441, -0.0018955033249484499, 0.00043082963915062888, 0.0015040964020274494, -0.0018819903825859075, -0.0016684953485326115, 0.00056156790246024435, 0.0012292699370549803, 0.00010025125538414004, 4.5410756856947843e-05, 0.00091262164569622106, 0.00038913225668540941, -0.00062227900861881735, -0.0013934445339559981, -0.0011589816229428673, -0.00016833141230715443, 0.0013941893026376412, -0.00038137424168961653, 0.00076114336049350195, 0.00027932331024740908, 0.0010568237748924403, -0.00036077093283652661, 0.00054768338106585268, -0.0022879670027193405, -0.00030550276787642827, 5.903412129026897e-05, 0.00014156478969853947, 0.0002725449299251087, 0.00040985475126568971, -0.0015380603077348592, 1.7746877945104544e-05, -0.00059481669380442859, 0.00082954237239656059, -0.00072567063737867532, 0.001208386191196717, -0.00018180228911891805, 0.0011259992467536062, 0.0020138292190274854, 0.0010156399426929363, 0.0021444991258170731, -0.0010560404461225775, 0.00014856751962497028, -0.0011935833807237145, 0.00066482106544879516, 0.00057527013980125663, -0.0026457447916078541, -0.0013449337165428038, -0.0010078135711771435, -0.0028317109070580548, -0.0015795280824020957, 0.0017868703190875579, 0.0013456960125372841, 0.0028740093342397993, -0.0010836044193513195, 0.00032740120303384468, -0.0016825341102798541, -9.9141918595752054e-05, 0.0038510344277108977, -0.00081505505355439212, 0.0019105655396512294, 7.2792446032338143e-05, 0.0032182443843339764, -0.0027213165483717522, 0.00023789059020580539, -0.0022399504555277866, -3.7428392257024545e-05, 0.00067856536834061398, 0.0011602329309651355, -0.00097330295542298606, -0.00078725095613994822, 0.0010088405295952535, 0.0016971178293425648, 0.00041669272445157834, 7.9870543403914862e-05, -0.0010285518403389676, 0.0001625449357773312, 0.00016228903701011321, 0.0013665972857083708, -0.00092540909942119554, -0.0013794899033102992, 0.0016283717766455846, -0.0012557070461825109, -0.0009321015959106449, 0.00016222243322137897, -0.00059480267195417824, 0.00045806059343572736, -0.0017511364390116607, 0.00021079459622944108, 0.0013736911576614913, 0.0011052960322174149, 0.0012839263987975136, -0.0006978858200083482, -0.00056737190630289092, 5.2140060703337321e-05, 0.00089864072408128715, -0.00060869770973626114, 0.0018141415861921556, -0.0030038152866205259, 0.0019309339825124838, -0.0015240495896881312, 5.9146296092341122e-05, -0.00091134404670471791, -0.0004914601196702173, -0.00129006867977767, -0.0011936219408119203, 0.0013874635042538247, -0.00071876430767277288, -0.0018547121045561915, -0.0018407469575228014, -0.0015513962242378748, -0.0019988704154703524, -0.00089086518177267093, -0.00080807686186590288, -0.0012968277800558398, -0.0027836610579721338, 3.8371219573590798e-05, -0.00069112146153631204, 0.00066450557381797504, 0.00019006158526145567, 0.00046503352693037792, -0.00053998145347108895, -0.00063596371864702017, -0.0015311627416853546, 0.00016921639949141198, -0.0016340671111487182, 0.0016077649623299217, 0.0012704660383734551, 0.00091938775689953678, 0.00080232543996172634, -0.00043642331523940925, -0.0011592182416659824, 0.0010640561126168679, 3.1575311938467077e-05, -0.00011993802788989871, -0.00015395437342242968, -0.00091825212914189991, -0.0020193685604465023, -0.0014137200820592694, -0.00013349654126576516, -0.00084931502873515641, 5.2201406298219011e-05, 0.00033419535793768884, 0.00036176458936026945, -0.0017784024479224197, 0.00046498620318576045, 0.00014163139348725984, -0.0035265948194619784, 0.0011603118038728405, -0.0015927448131779071, -0.00068448329971659838, -0.00051244552394286158, -0.0013381132706697385, 8.6648923726201366e-05, -0.00052622488146031321, -0.0013175660492176916, -0.00029162525740718259, -1.6760232346479942e-05, -0.00060140402641695179, 0.00027215231811786311, -0.00017500638148379433, -0.0021160186162409861, -0.00071182467607248945, -0.00055310178402638577, 0.00018275388009189597, -1.0008142993428448e-05, 0.00040997744245545309, -0.0012210877610888543, -0.0015926834675830254, 0.0040714673406331975, -0.00021646363976335348, 0.0013737156958994468, -0.00031273160013829682, -0.00086325563753059109, -0.00074631776451382359, 0.0013805589272792018, 0.0017247641809415709, 0.0011879493918154488, 8.6734807559038507e-05, 0.0023026278419584767, 0.0021170017563770516, 0.00029973381865942839, -0.0014137831803854445, -9.916470410241407e-05, -0.0029693186927166326, -0.001792190569096283, -0.00060873101163062826, 0.0023436364010297472, -0.0014346791953626786, -0.001124868877189808, -0.00079430451527356949, 0.00054071220030248168, -0.0020471796687860644, 0.00025891981276050802, 0.0021789922142583934, -0.0010421313864902165, -0.00029893471530802185, -0.0010974679079703287, -0.00043663013753071633, -0.0019990018703165274, -8.5560619713209718e-05, 0.00086437198524411119, 0.00027226799838249438, 0.00096082748786627259, 0.0010155908662170254, 0.00089204462781235228, -0.00020927687305226372, 0.0002382288673433014, 0.00051346722416713286, 0.0015664111151960369, -0.0014962209540357457, 0.0016973702226472237, -0.00052591289529205221, 0.00034822009783465335, 0.00090554880651846914, -0.0011039395603182067, -0.0022399434446026684, -0.00023704591584106094, 0.0014425967089051611, 0.0017590364252413337, -0.0023571705182810071, -0.00062927122215754305, 0.00087786038936868427, -0.0012968137582055894, -0.0019715605882775489, 0.0011603503639610463, -0.002067449958695497, 0.0014630738211059285, 0.0012772672042024175, -0.00047086382174225949, -0.0027283105146417852, 0.00087125377671205817, -0.0011177381978797613, 0.001119119208016911, 0.0022134362262238305, -0.0035199145920914998, -0.00129684881283125, 0.00079562067435327843, -0.0011315333299787567, 0.00047175231438907617, -0.0010695323557097236, 0.0028602685368105535, -0.0010903074322284739, 0.00095395796551728251, 0.0004649774395293349, 0.0012980194952145196, 0.0011534527979115555, -0.0010558038273994486, 0.00082281832674402366, -0.0017787494887163136, -0.0024393243494635758, -0.0015930375193020652, -5.095009827596475e-05, 0.001070580346903216, -0.0029555621207058569, -0.00047770705312201456, 0.0015458060536116675, -0.0012692129776199212, -0.00020953803001333426, -0.00096635105470373184, 0.00028620159625279695, 0.00042367792706519969, -0.00056718261132439329, -0.00057418183578826498, 0.00051333752205223737, 0.0017796099376626157, 0.00080233770908069713, 0.0012981246590914597, 0.0027914488693997208, 0.00016908845010779605, -0.0023705555112599336, 2.4665476769991646e-05, 0.00052002826581040718, -0.00062945350621092244, 0.0013185632112040074, 0.00067836205151185214, 0.0005339706273371353, 9.3239761801283683e-05, -0.00056734736806493546, 0.0018278525871895934, -0.0021296279588240569, -0.0015103648796599284, 0.00074722728993602272, -0.0010076418035114693, 0.0005130851287475785, -0.0011933765584323797, -0.0013104861991148214, 0.0017523526924082822, 0.0032799263615096302, -0.00060872750616805527, -0.0021502908605407489, -0.00099384667141247385, 0.0023095727317525988, 0.0017659900786918675, -0.00018910999428847775, -7.8741926571423981e-05, -0.00070509186676354085, 0.002062064857629331, -0.00096656839338274403, 0.0011119534740812315, 0.0016077877478365976, -0.00030597951078524532, 0.0001139832891569742, 0.0010636880390475778, 0.00069924755010139505, -0.0011660527093893119, 0.00077480528501502888, -0.0015855562937355516, 0.00043736263709340251, 0.0018211145196868062, 0.00020346410555320549, -0.0017855646763955541, 0.00083686760487895751, 0.00044453362922294848, 0.0010364921393881121, -0.0006774945916404318, 0.0004651141525693625, 0.00041698718330702988, -0.0004708708326673916, -5.1193727924198074e-05, -0.001372567799022853, 0.00012101406278393345, -0.00084256118665081148, -0.0039122187713157147, 0.00082286039229480246, 0.00066464579232057563, -0.00016117970022172523, 0.00022396225052935537, -0.00093908504579298668, -0.001152446872268828, 0.0012771304911624037, -0.00084248581920567944, -0.0014960912519208502, 0.00069210284894109797, 0.0007402210545470328, 0.00042376731636060982, 0.00053408630760176656, 0.0019864194861515805, -0.0014279165896219359, -0.0010766665404823295, -0.00010614464852219674, -0.0011797794849683074, -0.0015792336235466581, -0.00028515185232799722, -0.0023638367238012353, -0.00077380286483487437, -0.0011525169815201214, -9.9439882913748834e-05, -0.0017855541600078489, 0.00014846586121058936, 0.0019380453817784277, -0.0011177557251925846, -0.0010148811521610152, -0.0028246152823736548, 0.0010362870698280707, -0.00011315263664246622, 0.0023577259919841664, -0.00046405915045073798, -0.0015721222242807281, 0.0011877022567046286, -1.675322142134783e-05, -0.0030175035021112878, 0.0016075055581001446, 0.00049972817946918047, -0.0020882951444655545, -0.00038143032909064567, -0.00045028329839583159, -6.4894212533944673e-05, 0.00013478465664495953, -0.0010835851393072166, -0.00015421553038350022, 0.00029307988225818482, 0.001043298563410941, 0.001524836423920567, -0.00017493977769506008, -0.0012827995346963023, -0.00076685446957817927, -0.0010696918542564132, 0.0001623731681116708, -0.0018748561978132877, 0.00070602768315497499, 3.1876781719036851e-05, -0.00023697580658976758, -0.00027137775300441203, -0.0031345430335424362, -0.00053993412972647148, -0.0014965119074286104, 0.0010500892128522121, -0.00014755283032584499, 0.001125696024241743, -0.00090432729492802288, -0.00058804882986984719, 0.0001896339188285634, -0.0001954782354907092, 0.00083643292752093312, -0.00067015884277034365, 0.0021649131396916654, -0.00061602469494993761, -0.0013792918446754038, -0.00032636723369060261, 0.00027245203516715333, 0.0010983125823350731, -0.0004020792089570735, 2.4553301967919494e-05, -0.00027130238555925223, 0.0019104358375363478, 0.0014424319521646189, 0.00012077744406080448, 0.0010502714969055638, 0.00090559087206926181, 0.0018692099397860512, 0.0015249030277092873, -0.0012483958355503783, 0.0020824543332659678, 0.0033697559714310626, 0.0012428249449682877, 0.00096749719884905994, 4.2093973446205579e-06, 0.0012976040979005982, 0.000127927403414968, -0.0013587165795228284, -0.0032104600783689485, 0.001579873228351375, 0.00031403899556159409, 0.00087116263468538235, -0.00068428348835042341, -5.0944840082112197e-05, 1.7715328782016981e-05, -0.001276340151467395, 0.00041703801251420647, -0.00073263130175432734, 0.0020757337930760039, -0.00034732985245655712, 0.0013048013809993791, 0.00025860957932352657, 0.0012565937860980481, 0.00049242397976216601, 2.4718058708461665e-05, 0.00025882691800253876, -0.0010145674132614746, -0.00049169673839334627, -0.00058116879113315201, 0.00054097160453227267, 9.3595566251616913e-05, -0.00029221768058061703, -3.7214559040571471e-05, 0.00097444384137446161, -0.001523809465502457, -0.00067755067904146093, -0.00073241571580660858, -0.00045078633227388365, 0.003362888201813366, -0.0014417345072275933, -0.00056050238395391472, -0.00069096021025832899, 0.0015118598173304437, 0.00043749409193957756, -0.0020609467571845452, 0.00031368143837999518, 0.0010501996349229908, -0.00035369108273365646, -0.00093199993749626397, 0.00014165242626267005, 0.001284180544833452, -0.00054642155665589331, 0.00025874804509483373, -0.00088382564448931389, 0.0020756391455867551, -0.00068437813583967222, 0.00057535602363409377, -0.0012002355643936646, -0.0018062521163501877, -0.00049180014953899287, 0.0002656456111443245, 0.0019999692358710491, -0.00027150394965672064, -0.0014688935995301189, 0.0010912152049193935, 0.0012978389638924337, 0.00029278717613404059, 0.00015537043818523999, 0.0010086652564670201, 8.672253844006772e-05, -0.00045709147514993997, 0.00037539847018129568, 0.00022434609868018929, 5.2294301056188264e-05, 0.0001691515484339573, 0.00056851980317949857, -0.0010078924440848486, -0.001523828745546546, 0.00029988630628099977, -1.6819825210082073e-05, -0.00050524648811280104, -0.0018060891123409251, -0.0016891950576062298, 2.4751360602828787e-05, 0.00030675407589869641, -0.0012557017879886584, 0.00016206468740596891, 0.0027155914174368107, 0.0015525265938016453, 0.0031907172184621468, 0.00086421073396612813, -0.0012281255456409457, 0.00085060314411435078, -0.0013930343948359153, 0.0011535071325813051, 0.0013872882311255913, -7.1984579024519935e-05, 0.00067845319353852795, -0.00073272945470614914, -0.00029211777489750179, -0.00029908369746703412, -0.0018063397529143044, 0.0026469645504670347, -0.00033313509762518401, -0.00043647414444658583, 0.00052701872661786719, 0.001600821825267093, 0.0019103236627342618, 0.0011261569925690024, 0.0012497891148065127, -0.00098052828222228161, 0.0018831242576122509, 0.0010982617531278965, 0.00032049837879050136, 0.0016422615562338289, 0.0017177369127771847, 7.947968432794883e-05, 0.0012494648595192809, 0.002385459980147317, 0.00063727461953287656, 0.00054783061049357151, 0.00039626118326416271, -0.00088354696021540613, 0.0022683293066894927, 0.0015181228946557074, -0.00049844707501510432, -0.00073933080916893656, -0.00056023246333643251, 0.00038246079297132862, 0.00052004929858580351, 0.00053373050315143333, -0.00038812983650522714, 0.00074055757895323537, 0.0015597063495876029, 0.00055445475046300707, -0.00073911872868376305, 0.00096076088407752447, 0.0017864549217736503, 0.0009471007122872771, -0.0011038414073663849, 0.0015729879314208689, -9.9729083575347821e-05, -0.0010763615652392006, -0.0020057487014757402, -0.00023002916406435203, 0.0020480190849569702, 0.0005064785160909524, 0.00064387422126437055, -0.0013175064563540756, -0.00094611056122609338, 0.00053367967394425675, -0.00016140930801972209, -0.00033994327437929239, -0.00085640364249442436, -0.0028592205456170611, 0.00015543353651138736, -0.0015789216373783971, 0.00086427558502356894, -0.00078087044581875986, 0.002818744674742274, 0.0010638878504137667, -0.0013794881505790196, -0.00051228251993359897, 0.0024819733229017871, 0.0005822693642651422, 0.001690236037874604, 0.00015544931109293114, 0.0010017887231929118, -0.00078758397508359168, -0.0010281750031132519, -0.00053980968580541466, 0.00020329759608138376, -0.0020817200809720021, -0.0003126211780675181, -0.00010623228508629956, 0.0014631667158638978, -0.0011728047987423773, -0.0013726396610054259, 6.6138509631094577e-05, 0.00083683956117844294, 0.00053369895398835965, -0.0002990276100659911, 0.00095381073608956368, -0.00010627084517451924, 0.00025839749883836693, -0.0021779775249592681, 5.2119027927954864e-05, -0.0027011479168766866, 0.0014078845290535491, -0.0010282819197214715, -0.00093219624339989371, -3.0467727881358653e-05, -0.00088383791360828468, -0.0009324135820789059, -0.00076045117375031501, 0.00052711162137585033, -0.00035385934493675775, -0.00051916255867026639, 0.00010715933782132203, 0.00058881988952073916, 0.00053387422711659305, -0.00038815612747447603, -0.00026454153254978907, -0.00069130374558967755, -0.0022328162707551669, 0.0027572993162897352, 0.0011949749072485555, 0.00066474219254109013, -0.00071176508320890119, 0.0015528192999257895, -0.0010628433646828195, -0.0018128587290068138, -0.00048479391414998907, 0.0018827228821485936, -0.00088412711426986978, -0.00061553217745959066, 0.001759129319999303, 0.00016928475601141191, 0.0010362309824270555, 5.2210169954630681e-05, -0.0013795898089933867, 0.0024748601709045637, 0.0012222724653223882, -0.0010286324659779661, 0.0036790597502633221, 0.00073363722739706871, 1.0966744891524605e-05, 0.00089868980055719805, -0.00025077444415130823, 0.0015251116027319017, 1.754180838506314e-05, 0.0017451624202346333, 0.00043053868575776422, -0.0012827802546521994, 0.00060972992634823753, 0.0014288927188328554, -0.0010008511540701842, -0.00083601942505164006, 0.0022270245360314911, 0.0009123622414664162, 0.0022338590037548206, -0.0029966863600417587, 0.00052028241184635948, 0.0014424196830456482, 1.0658264185822719e-05, -0.0020402365317232218, 0.00091261989296492763, -0.00026454328528108251, -0.00015412614108809009, 3.1287864008147648e-05, -0.001510264973976827, -0.00026442059409130525, 0.00055458971077175512, 0.00039606663009182641, -0.00097354307960866027, 0.00076128182626479524, -0.00069793664921553866, 0.00091945611341955058, -0.0011246690658236191, 0.0006507104417189935, 0.0017040381808987315, 0.00085040508547944149, -0.00040193548499192766, 0.00032780082576622238, -0.0016274902949239001, -0.00015428038144094103, 0.00046475308992520448, 0.00078842339125451133, -0.00011996782432170672, -0.00045714230435713044, 7.9965190893163673e-05, 0.00041679788832853226, 0.0029150862498310698, 0.0014356448081859208, 0.00039626118326416271, -0.00027835594469288738, -0.0014069083998426157, 0.00010006196040564241, 0.0002586008156671149, -0.00093226284718864183, -0.0015997440376417787, 0.0001898968285209135, -0.0021707872527856054, -0.0012007824165537612, -0.00056728602247005377, -0.00060873451709318738, 1.7804718077427117e-05, -0.0012142410242465401, -0.002418806924443323, 0.0016490732384504825, -0.00044326654661915044, 0.00025885496170306721, 0.00035484949599795534, -0.0013383271038861916, 0.001855346451167042, 0.0010913010887522306, 0.0013185719748604191, 0.00097413360793746628, -0.00016096586700527216, -0.002370520456634273, -0.0024185317456319883, -0.00048456605908328565, -0.00095264706463142612, 0.00012778017398724917, -0.0012279450143188597, -0.00087703324231674928, 0.00022434084048633673, -0.0006774945916404318, -0.00085655613011599574, 0.00067873888873755395, -0.0026804166586399947, 0.00025151570737040607, -0.0019646998295849705, 0.0020136679677495023, -0.00062246479813474198, 0.00012078270225464316, 0.00045130850408267587, -0.00011283188681780743, -0.00011994679154631038, -0.00074629322627586814, -0.00042276840164300056, -0.00053284726869848309, 0.0021304656222636831, -0.0016615557169323281, -0.0010146550498255913, 0.0006234356691518228, -0.0027767775137728934, -0.00039544104713737371, -0.00058099877619877116, -0.0026253535632399377, -0.00045002915235990704, 0.00043064560236598382, -0.0013863085964520849, 0.0014838716831313548, 0.00042374628358521349, 1.78888491789847e-05, 0.00058179086862505947, 0.0011329353728913027, 0.00034796069360486237, -0.00064987803647320597, -0.00085661922844217087, 0.0010913238742589065, -0.00012005896634838253, -0.0011661718951165162, 0.00090544890083538165, 0.0013252311694555013, -0.00027829985729184437, -0.0012349635188268343, 0.00038255719319185699, -0.0022536316600934164, -0.00069809614776224216, 0.0016284488968220101, 0.00083694823051795597, -0.0016959839543162214, -0.00048467998661663736, -0.00055346985759566203, 0.00016948281464633508, -0.0012282955605753265, 0.00010725573804186428, 0.00054096809906972743, -0.00076697190257410397, 0.0028253916002183854, -0.001090494974475692, 0.0015045521121608701, -0.0016205383942046458, 0.0010981898911453236, -0.0006637555469424794, -0.00046413451789587001, -0.0013037078187925349, -0.00093197715198960196, -0.00089766108940779465, -0.00053318554583596522, -0.00094580733871424405, 0.0005406122946193942, -0.0017443159931385954, -0.0014551913621890927, -0.00056734386260236247, 0.00011434785726369134, 0.00049266936214170665, 0.0020411302825638772, 0.00042397589138319647, -0.0014207245647169936, -0.0019095718831274866, -0.00073249634144560705, -0.0018955681760058768, 0.001208570227981362, 0.001738597873128786, 0.00044446702543422811, 0.00071316362065887429, 0.0017178771312797853, -0.0011454073349854571, -0.0010077662474325122, 6.5870341744878047e-05, 0.0023372260942767509, -0.00011998359890323662, 6.6247178970593734e-05, -0.0013172978813314751, -4.427512909932485e-05, 0.0017452132494418099, -0.0010355650866530897, 0.00088458092955866208, 0.00043758523396626725, 0.00067846370992623306, 0.000120989524545978, -5.7991388290615231e-05, 6.5922923683361945e-05, 0.001298063313496578, 0.0011809887274397829, -0.0009389658600657963, 0.00035485825965436701, -0.00069127394915788343, 0.0013251330165036934, 0.0020342852984528564, -0.00067732632943731663, 0.00054777978128638105, 0.00092615737356541161, 0.0023164282322513108, -0.00078086168216233431, 0.0017933156804662009, -0.00028499936470643972, -0.00071183519246019455, 0.0003000528157528215, 0.00070623099998373684, -0.00038136723076448442, 0.0018416827739142355, -0.0017578692483206093, -0.00084939390164287532, 0.00055468435826100393, -5.0858956249275056e-05, -0.00056066363523188389, 0.00067839535340620538, -0.00019591817104258613, 0.0011945805427100303, 0.00060967383894719451, -0.00065671776239038804, 0.0028949158656047386, -0.00026440657224104103, 0.00091249194358132557, -0.0013793006083318016, 0.00093304617595849071, 0.00027921113544533693, 5.8985044814371945e-05, -0.0013449792875561417, -2.374368222880785e-05, -0.00076713315385207315, -0.0009115158143703922, 0.00023107890798913788, -0.00045715983166995378, -0.00066333138597213237, 0.0014080703185694737, 0.00072648551531162564, 0.0013392734366653031, 0.0013805974873674076, 0.00054740119132938581, -0.00020236528515252261, 0.0007611188222555465, 0.00063041035537773904, -0.0011110597232405622, -0.00052583402238434718, 0.0014216358428704862, -0.00015440307263071829, -0.0014275082032331327, -0.00062224044853059768, -0.0023291403185311532, -0.0017373255323311354, 0.0016902255214869127, 0.00070606624324319467, 0.0019862757621864346, 0.0018759445018262932, -0.00028521495065417235, -0.00074612846953532597, -0.0021022059568291812, 0.00072668006848397582, -0.00055333840274948698, -0.00031268077093110636, -0.00074621084790560399, -0.0005328016976851313, -0.00054670900458619887, -0.0023155029322475817, 0.0004925151217888557, 0.0011671024533141117, -0.00092521104078628624, 0.00093327928921904668, -0.0011524608941190784, -0.00083568114791414405, -0.00020945214618049712, 0.0012288948525605442, 0.0016007885233727398, -0.0021090158863145553, 5.2192642641807341e-05, -0.0022327619360854173, -0.0011041095752526014, -0.0012486604979740218, 0.0013391086799247748, 0.00069217120546109789, -3.7105889701058437e-05, -0.0015586250564997295, 0.00087796029505177176, 0.0010777075207507175, 0.0023303215173021141, -0.00027834893376775527, -0.002157179662933828, 3.1401791541513235e-05, 0.00058190304342711774, -0.0030176945498210789, 0.00013460237259159402, -0.00085655087192214319, -0.00062230529958803849, 0.00014154200419187746, 0.0015180948509552067, 0.0020480085685692789, 0.0011462257183809665, -0.0004158445446242609, -0.0013588883471885027, -0.00042288934010148438, -0.00041592166480068637, -0.0011865631234844326, 0.0011328039180451138, -0.0016615206623066953, 0.00076122924432633909, -0.00073908542678939593, 0.0005751527068053458, -0.00062942721524167355, -0.00081496391152770242, -0.0010421611829220245, -0.00067046206528217911, -0.0011524521304626667, -0.0023222760543760296, -0.0009803845582571219, 0.0023028592024877392, 0.00014822924248748814, -0.00049146713059534941, -0.00055359079605415973, -0.0015930620575400206, -0.00049153723984664277, -0.0010764492018033173, 0.00074038230582500197, 0.00022428300035401416, 0.00071994024824989511, -5.7842406131602964e-05, -0.0012693286578845525, -0.0010421489138030399, 0.0012635299122357446, -0.0006568527226991222, -0.00095950256513015197, 0.00057504053200328753, 0.00027215056538656968, 0.00065790421935520149, 0.00084363897427612577, 0.00086419495938459823, -0.001778695154046564, 0.00016925846504219078, -5.1051756690345673e-05, -2.3496547118001532e-05, 0.0021239483989024532, 0.00077479827408989677, 0.00075447364951071461, 0.0032251419503834672, 5.8993808470783615e-05, 0.0001349827152798827, 5.9277750938516172e-05, 0.0005273412291738333, 5.9214652612354923e-05, -0.0006222439539931568, -0.0019028303101621263, -0.00025736177676383143, -0.0010628153209823049, -0.0016822974915567251, 0.00029987929535588154, 0.00016221191683368774, 0.00047188376923525122, 0.001366709460510443, -0.00051232984367823031, -0.0020541403331617164, -0.0002917742395661671, -0.0007807705401356585, -2.9721111726305205e-06, 0.0011946786956618383, 0.00072672914495988672, 0.0002312226319542976, -0.00038139702719627855, 0.00036202574632135387, 0.00017593693968138979, -9.2335494572937105e-05, -0.0027351221968584249, 0.0025160036902845823, 0.00018978640645013478, -0.002701135647757702, 0.0011669972894371716, 1.7801212614854123e-05, 0.00076123274978889821, 0.0012773530880352546, -0.001276576770190524, 0.0012773986590486064, -0.0017719290428432483, -0.0016754875620713511, -0.00021623403196535662, -0.0017304227080877921, 0.0013324564962548108, 0.00054052115259271838, 0.00030700822193463484, 0.0023438765252154214, -0.00099387997330684097, 0.00042371999261597848, 0.00068525085390493123, 0.0012497260164803375, 0.0013531123870463707, -3.1473843008500424e-06, 0.00097434919388521279, -0.0020332127690213947, -0.00088394483021650427, 0.0010914500709112429, -0.001750917347601369, 0.0013396309938469159, 4.5454575139006193e-05, -0.0010007074301050384, 0.0026813700023442522, -0.0017580515323739887, -0.00036776489910654575, 0.0010707941801196691, -0.00017510803989817525, -0.0014002614743664904, 0.0010638545485193995, -0.0012693987671358459, -0.00060852594207058686, 0.0016763655383304626, 0.00032744852677846215, -0.0023290316491916541, 0.0016555413853358014, 0.00055461249627843101, -1.0083510438560483e-05, -0.0017925270935024995, -0.00048444862608737482, 0.0013805484108914967, -0.0026456536495811783, -6.5009892798589819e-05, -0.0016614365312051377, -0.00080135106348207252, 0.0013048399410875988, -0.0012143391771983619, -0.00029193549084415016, 0.0024265772085580867, -0.00038863462311454489, -0.00016137250066278197, -0.00063608465710549011, -0.00089054443194801214, 0.0008301663447330826, -0.0014000090810618315, 0.0015250257188990646, 0.00096074335676470113, 0.0001141392822411047, 0.0017316161759777376, 0.0016213182175119495, -0.0011592708236044524, -0.00037458534497962492, -0.00012698282336712219, 0.00049258172557758995, 0.0012908414921598416, 0.00041703625978292691, -0.0014482622469765144, 0.0026054512047864464, -0.0001405115403111945, -0.00044351017626738376, -0.00020949245899999636, -0.0023155379868732145, 0.0020343291167349148, -0.0008837835789385351, 0.0016560899902271914, 0.0021582819887970978, -0.001117724176029497, -0.00081519877751953795, 0.001064161276493808, 0.00049282886068839626, -0.0004089943023193876, 0.00064386545760795888, -0.0010286587569471872, -0.00037444863193959732, -0.0019369237758710689, 0.00069907928789827989, 0.00096070479667649533, -0.0017372168629916224, 0.0001554019873482998, 0.00016218737859573229, -0.00019544843905890119, -0.0013244969171615356, 0.001821028635853969, -0.0012142462824403927, 0.00075391452823164729, 0.00055446526685071218, -0.0018133284609904987, 0.001132889801877951, -0.00011279157399830819, -0.0012278766577988459, 0.000451368096946278, 0.00018307813537912776, 0.00041703450705164735, -0.00038824201130731317, 0.002241054534122322, -0.0020884090719989062, 0.00060283411303002632, -0.0016478569850538749, -0.00044339449600275249, 4.1813536441059895e-06, -0.0019095543558146633, 0.00032706993682148078, -0.0011041937063541452, -0.0010216420051704783, -0.0010557792891614931, 0.00013480043122650331, 0.0011949135616536738, -0.00017468563165912165, 0.00018297297150218772, 0.00027222768556300903, -0.0033617122612362438, -0.001606545203470755, -0.0015998158996243655, -0.00030590414334009941, -0.00028509751765824765, 0.0021237135329106177, 0.00013458133981621156, 0.001346083366150691, -0.00044326479388787088, 0.00032750110871694604, 0.00032740120303384468, -0.0019027128771662016, 0.00060962476247128361, -9.938029005016058e-05, -0.00137266945743722, -0.0013176168784248682, 0.00038924618421874724, 1.8121962439526795e-05, -0.00060868719334858379, 0.0006991353752993229, 0.00027889389108322338, -0.00063595144952803551, 0.00024490208378866174, 0.0014562638916205406, -1.6711155870582917e-05, -0.00013370161082580656, -0.0015996791865843379, 9.3849712287555342e-05, 0.00095382475793982791, -1.6776006928009846e-05, -0.0014688322539352372, 0.0016211604716965533, 0.00091965943024829855, -0.00094583888787733161, 0.0014836315589456806, -0.00076680889856484136, 0.00080237101097506425, -0.00030574639752468935, 0.0011326847323179234, -0.00020235827422737662, 0.00096081346601599449, 0.00080223780339759576, 0.00025877784152662786, 0.00012784677777596953, 0.0008024341093012255, -0.0010145796823804593, 0.0024679555939299408, 0.0005406578656327321, 0.00036200821900853053, 0.00012101581551521301, -0.00024380501611923067, 0.0011533073212151163, 0.00085739554628690151, -0.00066346985174343953, -0.0014277255419121448, 0.0015664233843150216, -0.00077411485100313537, 0.00065110480625751865, 0.00042375679997290472, 0.00061652408125206781, -0.00061534989340623902, -0.0013931115150123408, 0.00071987539719244042, -0.00054666693903542007, -0.00091840812222603041, 0.0012977285418216411, 0.00069887071287569325, -0.0016685268976956852, -0.0018062047926055702, 0.00048563157758961528, -0.0010282801669902059, -0.00093897812918476709, 0.00083699380153129388, 0.00026536692687043062, 0.00022410071630066253, -0.0042152086436155062, -0.00097341337749377865, 0.00025171026054274237, -5.7738994985942482e-05, 0.0019653446925835399, -0.0011317050976444309, -0.00093890626720218029, -0.0021571323391892105, 0.00068528766126185747, 0.00043035289624183959, 0.0018622405117539875, 0.00074046468419526612, 0.0011464307879410079, -0.0016341827914133633, -0.00017512030901714604, 0.0014629563881100177, -3.0415145942874755e-05, 0.002688192200948597, -0.00034008524561317255, 0.00093286739736769819, 0.00090548220272974878, -0.0016202684735871775, -0.0010280978829368265, -0.00047079020702839314, 0.00074730441011244819, -0.00014733724437809848, 0.00029316226062846285, 0.00016230305886037744, 0.0015318882303229087, -0.00054000073351520572, -0.0012077693718986759, 0.0019034997113986374, 0.00044425669768033416, 0.00016916907574678064, 0.0016007587269409318, -0.00038828933505193064, -0.0010697444361948694, 0.00072641540606033228, -0.0022122970930036345, 0.00048578757067374578, -0.0012278030430849796, 0.0020344693352375015, 0.0017521809247426079, 0.00056164326990539026, 0.0013598153999235252, -0.00042947141452015503, 0.00062349175655285194, 0.00098137646204959905, -0.0005397623620607972, -0.0015100563989542265, -0.0011455422952942051, 0.00059575776838972916, -0.0004158445446242609, -0.0012004283648347214, 0.00060974920639232655, 0.00038951435210496377, -0.00049157930539742156, -0.00069128446554557466, 1.0675791498646059e-05, 0.0017862025284689775, -0.0019023675891035735, -0.001345131775177727, 0.00089892641928031314, 0.00063031044969465155, -0.00014751952843147786, 0.0012014027413143891, -2.9773693664691958e-06, 0.0015045275739229147, 0.0021029857801364849, 0.00044427247226187794, -0.0026251484936798963, -0.0012487849418950647, 0.00080248669123969552, 0.0013528880374422264, -0.00056739995000340548, 0.00025877608879536218, -0.00084278203079239666, -0.0017716433476442223, 0.0011673443302310793, -0.0010351514420704616, 0.0014768742113987626, -0.00072569517561663077, -0.00060161785963340486, -7.1828585940389433e-05, 0.0013736578557671381, -0.0013382061654276939, -0.0020055366209905667, -0.0032310318380589648, 0.0024331978430649631, 0.00027933733209765943, 0.0010774849238778389, -0.0012970346023471746, -9.9252340666544647e-05, 0.0012081022487289705, 0.0024129082731114276, -0.0019848702138113156, -0.00058784376030980579, 0.00060963527885898872, -0.00069792613282783356, 0.00016914103204626607, -0.00049144259235739396, -0.001407102953014952, 0.0014219846363956734, -0.00054645661128153999, 0.0010431285484765462, 0.00023782573914836458, -0.00038816664386215338, 0.0013802224028729854, -0.0014898211636704406, -0.00090455690272601974, 0.001628415594927643, 0.001125725820673551, -2.6776523171789801e-06, -7.8529846086250465e-05, -0.00013364902888733654, -0.00061539020622572438, 0.001518210531219838, 0.00041710461630294071, -0.00051214755962485092, -0.00091152808348936298, 0.0018346782912565113, 0.0015525318519954839, -0.00028498008466233682, -0.00092515670611652279, -0.000498485635103324, -0.00040204415433142682, 0.00025167520591710957, 3.8574536402338766e-05, -0.00089780656610423393, -0.00021629537756023831, -0.0014827115171357763, -0.00053268952288307303, 5.8906171906666915e-05, 1.7764405257927884e-05, 0.0013252416858432065, 0.00014844132297266166, 0.00036175933116643078, -0.0019919132565572456, 0.00057522807425049172, -0.00058796119330571661, 0.00096063644015648153, -0.0021021779131286528, -0.0012625064592801938, 0.00086434043608102362, 0.0016007745015224617, -0.00081487101676973317, 1.7916892879499269e-05, 0.00079518774972654749, 0.002667273400464687, 0.0011465464682056392, -0.00030576918303135137, -0.00077359428981225997, 0.00023803080870839211, 0.00078155036344296214, 0.0012357170511649168, -0.00034694775703700276, -0.00019583579267230811, -7.8692850095513078e-05, 0.0018142187063685811, 0.00089890363377363725, -0.0008976207765883093, -0.0013586850303597409, -0.00030584630320777684, 0.0021099429390495777, 0.00063734122332159693, 0.00024492837475788287, 0.0011945980700228537, -0.0020401085823396059, 0.0002378783210868346, 0.0010498105285783044, 0.00042396537499550524, 5.9074434109768204e-05, 0.00024490734198250041, 0.00107783371740304, -0.0027697607619961984, 0.0020757583313139455, 0.00069915290261214624, 0.0025435115761122812, -0.0010146708244071351, 0.0016421090686122713, -0.00069776838701243737, 0.0029081606400810645, 0.00082992972600996751, -0.00069114775250554705, -0.0013174749071910019, -0.00029189342529337137, -0.00022321397638512541, 0.00068532446861878371, 0.00072640313694136149, -0.0013243321604209934, 0.0013254853154914537, 0.0011671883371469488, 0.0017038944569335718, -0.0021915991366613097, 0.00086443333083899287, -0.00034017112944599581, -0.00172353040023214, -0.00043659683563634921, 0.00065060352511076003, 0.00079542261571838302, -0.0018131304023555755, -4.4250590861369399e-05, 0.00056832700273842796, -0.00016785992759220381, -0.0017647370179383198, -0.00024387687810181746, 0.0009197716050503707, 0.0012981334227478714, 0.0022131943493068629, -2.34369542543994e-05, -0.0011731167849106383, 0.00076795504271015558, -0.00016815789191021446, 0.00032737315933333011, -0.00021620949372740117, 0.0020964317494183426, 0.0015388050764165162, -0.00062241221619625808, 0.00062330596703692731, -0.0011040745206269548, -0.00011984162766937034, 0.0010637669119552828, -0.0010420507608512458, 0.0017040276645110264, 0.0010981618474447952, -0.00062242097985266975, -0.00066368017949731961, 0.0021785575369003829, 0.0020480962051333956, -0.0012422869985779517, 0.00040991784959186484, 0.00017592291783112557, -0.0001130614946157904, -7.8740173840130545e-05, -0.0010146322643189293, -0.00045022020006967034, -0.00070487452808452866, 0.0021854673720688583, -0.0002368005334615203, 0.002419863679293241, 0.001662796508566905, -0.0026249311550008841, -5.7768791417750487e-05, 0.0011466761703205486, 0.0015799538539903735, 0.0012566761644683122, 7.9598870055153093e-05, 0.0016560672047205155, -0.00045725623189048215, -0.00080153334753545191, 0.0011875708018584535, 0.0022753705967041432, -0.00036088486036987832, 0.00062367228787493789, -0.00052615652494029941, 0.00056830947542560462, 0.0024128101201596058, -0.001000814346713258, -0.00057409770468672128, 0.00036183820407413581, 0.00074741483218324078, -0.00059485700662392782, 0.0021238029222060278, -0.00018888915014690644, -0.0017581566962509287, 0.00082999632979870175, -0.00018195302400920987, -0.00089792049363758564, 0.0012013904721954044, -0.00023000988402023526, -0.0007599376234845856, -0.0011524906905508725, 0.00087813030998618036, 0.0009262222246228663, -0.001207194476038051, -0.00016795983327530517, 1.0872097402275793e-05, 0.0012360307900644435, 0.00083693596139897131, -0.0007118982907863558, -0.00069126869096403087, 0.00042358152684465744, 0.00091956828822162273, 0.0016144574588193988, 0.0022544167415945865, 0.0014767988439536306, 0.00058237628087337567, 0.00089223918098470245, -0.00098035125636275477, 0.00072673790861629839, -0.00082885369111594664, -0.00099417092669970564, -0.00019558164663636968, 0.0028946406867934038, -4.4031499451077649e-05, -0.00058778767290876277, -0.00018876821168842262, -0.0029145991326479243, -0.0018132513408140594, -0.001324570531875402, -0.00067753139899735804, 1.1203363614653572e-05, -0.0013725537771725888, 0.00039610694291132564, -0.0017305348828898642, -0.00016790199314296872, 0.00064409681813722142, 0.00044460373847424184, -0.0018061697379799235, -0.0013520819231656878, 0.00030670675215407894, -0.00025093569542930516, -0.00036097600239655414, -0.00028476975690844286, -0.0017029586405421376, 0.0010778810411476714, -0.00076688426600997339, 0.00091230440133410751, -0.00012697405971069664, -0.0024051625272346194, 0.00045127169672574963, 0.00073346721246267399, -0.0017719991520945416, 0.0025571980388717774, -0.00062916605828061689, -0.00036088486036987832, -0.0016892248540380239, -0.00020922954930764626, -0.00013358593056117529, 0.00052737453106820043, -0.00052596722996180179, -0.00095961999812604892, -0.00075325213792024059, -0.0014001808487275058, -0.00051224921803923185, -0.0012689115078393376, 0.0017450484927012816, -7.17882731208902e-05, 0.0013599678875450827, -0.0017168729583683373, -0.0010491937092802633, -0.0021982110075117745, 0.0010979287341842392, -3.7223322696983141e-05, 0.00030691707990795902, 0.0014698416850405238, -0.0026871179187858557, 0.00011394297633747497, 0.00049265358756016286, -0.0010487975920104448, -0.00047091465094944995, -0.0017718571808606753, 0.00021037919891551959, -0.0012142971116475831, -0.00093207705767270332, -0.0006085732658152182, 0.0010363641900045101, -0.0011175874629894833, -0.0014069995418692915, 0.00054750284974376673, -0.00029180053053540211, 0.00056843216661538187, -0.00014767201605303537, -0.00067755593723531349, -0.00086310840810287226, -0.00053966946730282794, -0.00015428038144094103, -0.0006223999470772873, 0.0028877536371316043, -0.0003540889527347546, 0.0014907745073746981, 0.00012087734974389197, 0.003011692487343523, -0.00086336956506392892, -0.002122926698678182, 6.6019323903876437e-05, 0.0012773495825726955, -0.00049852594792282323, 0.0012634019628521287, -0.00087707881333008719, -2.3536859937500765e-05, 0.0016216459782617543, 0.00040322885856496071, -0.00090457618277010876, -0.00056046908205953372, -0.00016119021660941646, -0.0024599890039115474, 0.00017607715818397651, -0.0011039938949879563, -0.00065662486763241878, -3.7449425032407002e-05, -0.0012626098704258543, -0.00094578805867014115, 0.0018965811125737364, -0.00089785564258013095, -0.0011938112357904179, 1.7762652526648326e-05, 0.0016831228858773806, -0.00067722116556037659, -0.00040873489808959662, 0.00031339399044968963, -0.00056046732932826804, 0.0007126115103049252, 0.0027640899657310203, -0.00060838572356800014, 0.0015182052730259993, 0.0011534633142992468, -0.001606699443823606, 0.00025171026054274237, -0.0011590342048813512, -0.00070489380812863156, 0.0013117813254191479, -0.0019920745078352425, -0.00084271016880980987, -0.00026453802708721608, 0.0010363712009296422, -0.0006636871904224656, -0.00082888173481644734, 0.00091939652055594845, -0.00047778767876098527, 0.0010709904860232988, 0.00045153635914939316, -0.00077382039214768383, -0.00028505194664490974, -0.00099418845401252898, 0.0016074179215360279, -0.0012211105465955302, -0.0010903197013474447, 0.0003686393699030982, 0.0029014488635474983, -0.0006915228369999693, 0.0017454042971516009, -0.00036762292787266559, -0.00091121785005238154, -0.0016137565084198002, 0.0020413879340623886, 0.0012154344921364857, 0.0010707170599432436, -3.7272399172894044e-05, 0.00058204326192971834, 0.00046517199270168508, 0.0006165205757895087, -0.00058118807117726878, 0.00258500739448006, 0.00034125242253386923, -0.0023016026362716324, -0.0022329372092136646, 0.00010711201407671844, -0.00063605310794241643, -0.0013243882478220365, 0.00080929136253123091, 0.0015665373118483594, 0.0026467962882639334, -0.00030560267355952964, -9.6015093359186343e-06, -0.0024393436295076787, -0.00042288232917635227, -0.0018473079991660896, -0.00042948894183296449, -0.00049165642557384703, 4.0148441722842598e-06, -0.00031948368949136219, -0.0010216087032761251, -0.00057416080301288253, -3.0343283960315715e-05, -0.00036777716822553042, -0.0003125721015916072, -0.00096664200809661038, -0.00084264005955851651, -0.00059449594397975591, 3.9552513086821284e-06, -0.00067718786366600947, 0.0008231899057758868, 0.00078140313401524331, 0.00095394219093573873, 0.00030678913052434309, -0.00019563598130611926, -0.00032633393179622161, -0.0016065995381405046, -0.00088368192052415417, -0.00025741260597100801, -5.1307655457563661e-05, -0.001007966058798701, 0.00025205554860537049, -0.0032790799344136062, -0.00035396626154499122, -0.00016813685913481813, 0.0021167072975216139, -0.00018194951854663688, -9.9355751812205129e-05, 0.0012776230086527507, -0.0012420959508681606, 0.001180680246734081, 0.0011876444165723199, 6.5994785665920985e-05, -0.00074621961156201566, 0.00030687851981975323, 0.00094680625343185332, 0.00011419361691085428, 0.00074042437137578077, -0.00064998144761886645, -0.00017504143610944101, 0.0006372623504138919, 0.00015530733985906486, -0.00038836996069091523, 0.00064413187276288197, 0.00034134005909798593, 0.00034825339972903435, 0.00038935134809570116, 6.5749403286408103e-05, -0.0014757105399406251, -0.00014751952843147786, -0.00066387473266966979, 0.00081601365545248827, 0.00043765709594884017, -0.00038142682362807268, -0.0020815500660376213, 0.001160490582463633, 0.0025093111937951051, -0.0015514645807578747, -9.9134955041796369e-06, 0.0011533686668099979, 0.001835055128482227, 0.001352942372111976, 0.0004926903949170891, 0.0013181548248152042, -0.0010699354839046604, -0.0014482482251262502, -0.0010146287588563563, -0.00029173392674668175, 0.00034128922989079546, -0.0014690338180327056, -9.8994689168033223e-05, 0.00049941619330091946, -0.0018958731512490196, 0.0003478450133402311, -0.00083573898804646662, -0.00011298963263320361, 0.0016282298054117184, 0.00067871610323087805, -0.0037813928714419826, 0.00047889000462425502, -0.00074617929874251643, -0.0009802741361863293, -0.00040884356742910966, 0.0012359624335444297, -0.0023842647595260918, -0.0025287946494721159, 0.00010045632494418144, -0.00074607939305942894, -0.00072537793125451722, -0.00098049673305919405, 0.0012086491008890671, 0.00034160121605905647, 0.0002171225246121733, 0.00016897101711187135, 0.0011464781116856393, 8.6422821390777504e-05, 0.0011605782190277636, 0.00057500547737762697, 0.00071277626704546737, -0.0015102474466640176, -0.0002505167926527968, 0.00080229914899247745, 0.0013666498676468547, -0.00040889790209885923, 0.00011374141224000656, -0.00087705778055470474, 5.2096242421278971e-05, -0.00039544104713737371, -0.0014827781209245106, 0.0016486911430309281, 3.8273066621768992e-05, 0.0016279633902567953, 0.0020618019479369809, -0.00061561455582986868, 0.0018964408940711497, 0.00053396887460584186, 8.6389519496410383e-05, -0.0017926199882604688, -0.00020934522957227752, -0.00036054658323236843, -5.7965097321366343e-05, -0.0012347409219539834, -3.7475716001628134e-05, -0.00020958885922052473, 0.00097439125943597771, -0.00036061844521495523, 0.0016007219195840056, -0.00011305974188451084, 0.0027845390342312454, 0.001270488823880131, -0.0002369372465015479, 0.00067141365625515703, -0.0007255006224442806, -0.00014752478662531654, -0.00082197540511055878, 0.0012703188089457362, -0.00051886985254612217, 0.00075425806356298197, 0.0012149349637210205, 0.00032053693887870716, 0.0015660588162082906, 0.0011465026499235947, 0.0019172930907663394, 0.00074719924623550815, 0.00044439866891420043, -0.00031272634194444426, 0.0010225830797557789, 0.00056173090646950696, -0.003341247418154461, -0.00042286830732610192, -0.00022302292867534823, -0.0010902338175146076, 0.0021995306720540425, 0.001752105557297462, 0.001807356194944737, -0.00057420987948877955, -0.00064287705927805472, -0.00094563381831729021, 0.0016695223069507215, -0.0006845166016109655, -0.0015169434486160399, -0.0010147829992092072, 0.00076790421350297899, -0.00058121260941522424, -5.7821373356220507e-05, -0.00060837170171774979, 0.00043090150113321568, 0.0003273275883199922, -0.00056739469180956681, -0.00029871387116643666, -0.00010613237940321207, -0.002776451505754382, 0.00034782398056484864, -0.00058090763417209534, 0.00052679437701373677, 0.00065755367309873469, 0.00032034238570637086, 0.001297951138694492, 0.0014838418866995606, -0.0017372676921988128, -0.000574237923189308, 0.00085743235364382775, -0.00043650043541583472, 0.00036178386940438623, 0.00095393868547317962, 0.00057510363032944878, 0.0011809484146202975, -0.000815021751660025, 0.00050641366503349772, 0.0029498913244406649, -0.0010834431680733503, 0.00098134140742395237, 0.0009883581592006474, 0.0021719106114242576, -0.00026455029620620074, 0.0012357380839402993, -0.00069796819837862623, -0.0007186994566153182, -0.00023700209755898871, -0.0016477413047892436, -0.0015449894229474376, -0.0022467498686254694, -0.0023361553175765687, 0.00067156088568287586, -0.00069125116365120753, 0.0013667760642991911, -0.0010147321700020168, 0.00011410247488417846, -0.0014688638030983248, 0.001545755224404477, 0.0025640991103838412, 0.0035829618048227735, -0.00038140929631524934, -0.001035296918766887, 0.00023109292983940211, -0.0017787407250599019, -0.00045736314849870174, 0.00010726274896698251, -0.0024736964994464261, 0.00073364423832218695, 8.6861004211374881e-05, 0.00060961599881487194, -0.00096643343307399598, -0.0011388515515360215, -0.00030565700822927921, -0.00040190919402267877, 0.00066484560368675061, -0.0015445617565145453, -0.00068435184487042333, 0.0021169106143503758, 0.0019517791682825414, 0.0017799587311878029, 0.00056877920740927568, -0.00050529381185741851, -0.0012003196954952222, 0.0011258642864448581, 0.0018279524928726948, 0.00010714706870235124, -8.5706096409648991e-05, 0.0022131838329191578, -0.001186745407537812, 0.00046510714164423039, 0.00088493322854642231, -0.0018682320578438522, -0.0012692077194260687, 0.001931072448283791, -0.0017785374082311678, 0.00012766274099132446, -0.0005397623620607972, -0.0011250529139744669, -0.0001818233218943005, -0.00018868583331815847, 0.00076831259989175449, -0.00064999897493168979, -0.0014484340146421748, 0.0011668833619038199, -0.00125555280582966, -3.0550106251622799e-05, 0.00029300100935047979, -0.00043657755559224631, -0.0022056343929459793, -0.0011246112256913104, -0.0010146129842748125, 0.0021307057464493712, -0.0016271695450992274, 0.00045811317537421126, 2.4388545227377323e-05, 0.0014355974844412894, 0.00096767247197727946, -0.0013174994454289574, 0.0012155939906831892, -0.0040706822591320274, 0.001139368465150975, 0.00023108767164554955, 2.4824975316695141e-05, -0.0010834168771041014, 0.0012081460670110289, 0.0022685221071305495, 0.00043070870069215894, -0.0013588673144131064, 0.0004583743323352818, 0.0036653855566228105, 0.0017657341799246357, -0.0020124780053221297, -5.0864214443127609e-05, 0.0014355782043972004, 0.00091237451058540087, 0.0028119627889574145, 0.00036178562213565191, -0.0011456316845895875, 0.00020342905092755881, 0.0011119429576935264, 0.0031628605391092607, 0.001710981317961574, -0.00066369420134759771, 0.0025504845096069179, -5.8003657409599896e-05, 0.00096765494466447, 0.001318614040411184, 0.0015179879343469871, -0.0028456445049283435, 0.00068562418566807393, 0.0025849933726297958, -0.00093179486793625033, 0.00010725223257930516, -0.0012072435525139619, 0.0024540693198042557, -0.00084248056101182689, 0.001394133215236612, 1.0635478679160704e-05, -0.0010008739395768601, -0.00053959760532025502, -0.00011321047677478879, 0.00045834804136604679, 0.0013255361446986441, 0.00036848863501280638, 0.0019655480094122879, -0.00082893957494876991, -0.00079446226108899343, 0.00036186449504337082, 0.00069948066336195103, -0.00076653897794735915, -0.0019506260132120951, -0.0015306071258688464, 0.00041696615053163355, 0.00057528240892024129, 0.0014974319492385146, -0.00043661786841174555, 0.00038247130935901985, -3.1035660188055703e-06, 1.7531291997385789e-05, -0.0012558437592225385, 0.00033432681278386389, 0.0014356535718423324, -0.0003812848523942064, 0.0021858564784135448, 0.00060315661558596467, -0.0012967489071481486, 0.0015869688530357889, -0.00081493060963334918, -2.3459739761075293e-05, -0.00046393996472353372, -0.0019437214362374722, -0.00022319995453486119, 0.00010698406469310251, -0.00017504143610944101, 0.0018414531661162525, -0.00011305974188451084, -0.001882172666639273, -0.0012485500759032292, -0.00096662448078378704, -0.00034024649689114173, -0.00082210685995673383, 0.00076074724322368337, -0.00058116528567060677, 0.0023922488768573086, -0.0018267204648945295, 0.00067160996215878677, 3.8697227592102146e-05, -0.0010560124024220491, -0.00060145135016158313, 0.0019657951445231081, 0.0021926523860486546, 0.00016918835579089742, 0.0015045117993413709, 0.0013458344783086051, 0.0017246590170646448, 0.0015938471390411768, -0.00029198632005132674, -0.00068446401967250936, 5.8830804461507125e-05, -0.00060874503348089248, -0.0006498009162967805, -0.00034705292091395668, -0.00093197890472088152, 0.0020756496619744463, -0.0024737525868474552, -0.0011178731581885093, -0.00017481358104273759, 0.0021033363263929655, -0.0011109457957072105, -0.001372567799022853, 0.0011051505555209756, -0.00057432555975341082, 1.7711823319457864e-05, -0.00069095845752704943, -0.00025047647983331145, 0.0014288559114759292, 0.00096750420977417817, -0.0005673876808844347, 0.00093995601112698002, -0.00035397327247012333, 0.0007677937914321864, 0.0019723141206156175, 0.00070618542897039893, 7.2860802552338066e-05, 0.0011532775247833082, -0.00023695827927693036, 0.00025186274816431375, -0.00077395359972513844, -0.00078077930379205629, 0.00025841853161374939, -0.003286079158877464, -0.0015790408231056013, -0.00085633178051185144, 0.00025169273322991903, 0.0016626773228397007, 0.0020549411892444164, 0.00027932331024740908, -0.00061535339886879814, -0.00084919058481411347, 0.0019791889011584324, 0.0017523965106903405, -0.00045039372046662418, -1.6774254196744165e-05, -0.0001885403566217192, -0.0018543089763612408, 0.00060965105344051862, 0.0018689943538383186, 0.0025780327082541299, -0.0019780112078500306, 0.00062327617060513318, 0.0025092165463058563, -0.0018749052742891986, -0.0017237126842855055, -9.9303169873721231e-05, 0.00013461113624800569, 0.00036193810975723717, 0.0014773316742634629, 0.0018417826795973369, 0.0021789834506019956, -0.00040914153174710644, 0.00014160159705546571, 0.0010361521095193504, -0.0023431510365778674, 0.0008301277846448768, 0.00063693809512666011, -0.0012279730580193743, 0.00021034589702116635, 0.00030674180677971175, 0.0018970753827953768, 0.00075431415096401111, 0.0011463378931830526, -0.00078738942191125538, 2.434823240787809e-05, 0.00072657139914446278, -0.00052604785560080025, -0.00068414677531038193, 0.00044452311283524337, -0.00048504806018594138, 0.001449422412972079, 0.0031835672591080111, -0.00082909732076419385, 0.0005752052887438297, -0.00080832925517056176, 0.0023026120673769329, 0.00080230440718634388, 0.00058213966215024671, -0.0016203929175082205, 0.00070569115874875854, -0.0030999991158939116, -9.7469860323440294e-06, 0.0033007697945484082, 0.0013803959232699392, 0.0010983143350663666, -0.0013381167761322976, -0.0012073452109283289, -0.0022811395459211431, 0.0015247382709687451, -0.0020540632129853048, 0.0013808113205838607, 0.0021376541417060524, 0.0010432442287411775, -7.8680580976528414e-05, -0.00014740209543555316, 0.00010730306178648175, 0.00048579633433015745, -0.00050521143348714048, 0.0013048627265942608, -0.0010422067539353763, 0.00047876380797191864, -0.00044346285252276629, 0.0011873271722102202, 0.0014904730375941283, 0.0013942997247084338, -0.0014141722867301171, 0.0013323285468711948, 0.00063006682004639047, -0.00099400441722788391, 0.0006994999434060678, 0.0013806272837992017, -0.00041590764295043603, -0.0016134480277140983, -0.00034701260809445744, -0.0018752680896646501, -0.00048459760824635933, 0.0017314549246997546, -0.00095970237649632695, 0.00079529466633476709, 0.0031354315261892529, -0.00037452049392217024, 0.0010777706190768788, 0.00026523196656169645, 0.0002655965346684136, -0.0017715153982606063, -0.00038811055646113812, 0.0018898237650268462, 2.4775898840784238e-05, -0.00071193159268070905, -0.0012144811484322282, 0.0030116066035106859, 0.00016905514821344281, 0.00067179925713728439, -0.00051245954579311193, 0.0018002412902162201, -0.001386128065129999, 0.00043044929646236796, 0.00054770791930380813, -0.00067055671277142792, 0.0015247435291625977, -0.002508326300927774, 0.00081625728510073547, -0.00093208757406039455, 0.0008091739295353062, -0.000154231304965044, 0.00032743801039077092, 1.7797707152295006e-05, 3.8588558252602989e-05, 0.00052719399974611447, 0.00064385143575770853, 0.0010296313806955476, 0.00062328493426154485, 0.00081616614307405966, -0.00016797560785683507, -0.00027110783238691594, 0.001696944308945611, 0.0012564535675954475, -0.0023289843254470227, -0.00071863986375172995, 0.00079562768527841055, 0.00095369856128749153, -0.00012698107063582875, -3.110576943923804e-06, 0.00112579768265611, -0.0019233687679577477, 0.0022201707882640725, 0.0012564377930139176, -0.00069797520930374446, -0.0019577058633149652, -0.00042947316725143458, -0.0014827378081050113, -0.00016100442709349183, -0.00038846811364273703, -0.0030725841248241681, -0.00045726674827817337, 0.0028947037851195651, 0.00080908804570246906, 0.0012843014832919497, -0.00019550627919123764, -0.00034040248997527223, -0.0025905362195113718, -0.0010077697528950713, 0.0015110220117774686, -0.00029198807278262018, 0.00061654861949002326, -0.0014898211636704406, 0.0005133287583958257, 5.8816782611256779e-05, 0.00104298657724268, -0.0011247531969251767, -0.00023696704293334203, -0.0015997668231484685, 0.00066501036042729278, -0.0011868102585952667, 0.0010499507470808911, 0.00080221501789093375, -0.00053961863809565136, 0.0033490597678200174, 0.00054759399177044255, 0.00078150479242961035, 0.0011948171614331454, -0.0011523487193170201, 0.00021036342433397581, 0.0022269877286745648, 0.0018692993290814613, -0.00038833665879656198, 0.00056861269793746783, 0.00071268512501879155, -0.0015515644864409761, 1.0596918590941029e-05, -0.00029206168749648653, -0.00023698281751488581, 0.001511062324596954, -0.00078078631471720228, 0.001421700693927927, -0.00010630064160632724, 0.00053383917249094637, 0.0010844000172401669, 0.0014217339958222941, 0.00022392894863498825, 0.0023921594875618984, 0.00054762554093353011, 0.00040309214552493311, 5.9237438119016939e-05, -0.0011662612844119125, -0.00011276002483523451, -0.0010491954620115429, 7.2948439116468644e-05, -6.4981849098075251e-05, 0.0022961001022095556, -0.00036785604113323545, -0.00035391718506908032, -3.7447672301127444e-05, 0.00095364422661774195, 0.00074025786190395904, 0.0011050716826132706, 0.0011878564970574934, 0.00034805183563156594, -0.00011997834070939795, 0.0014907657437183003, 0.0018901410093889459, 0.0028946371813308308, -0.0010973627440933886, -0.0012141989586957752, -0.0026527562851907105, -0.0023223724545965441, 0.001690104583028415, 0.00040308338186853532, 0.002536904963455669, 0.0022067998171354103, 8.6375497646160038e-05, -0.0017165066375303267, 0.0014219898945895121, 0.0010502031403855638, 0.00078835152927192453, -0.0020747068346578801, -4.4511747822453818e-05, -0.0012899792904822599, -0.002377691448763819, -0.00010604474283909537, -1.6960043712668793e-05, -0.00027142507674902949, -0.00084227549145178549, 0.00091950518989546148, -0.00095268036652579324, 0.0020137573570449124, -0.00089057598111108582, -0.00035393120691934454, 0.00076084189071293218, 0.0042301972436044333, 0.00010723119980390883, -0.00039497131515368877, 0.00029302905305100824, -0.00034735088523196733, -0.0021571708992774163, -0.0019505716785423455, 0.00021039497349706338, 0.0023167524875385564, -7.8843584985804904e-05, -0.0006636731685721875, 0.00045166255580171566, -0.0015996791865843379, 0.00086445611634565489, -0.0012555685804112038, 0.0026537043707011154, 0.0018693519110199175, 0.001208386191196717, 0.00098122222169674811, -0.00021622526830894495, 0.00030015447416720242, -0.00031294192789219077, 0.0006098911776262067, 0.0012429984653652276, -0.0014483481308093515, -0.0019850665197149453, 0.00052705903943736643, -0.0010422575831425529, -0.0006016353869462282, -0.001028444923730748, -0.00057426596688982257, -0.0023981720664271455, -0.00053959234712640247, 0.0012566078079482984, 0.0013873425657953409, 0.00052003527673555316, 0.0009397632106859094, 0.0018208358354128984, -0.0010215385940248317, -0.0016614891131436077, 0.00039635407802213196, -0.0011800581692422013, 0.0011875322417702477, 0.0008230829891676672, -0.0014347054863319136, 0.0017865495692628991, -0.0010490692653592065, 8.6529737998997103e-05, 0.00076111531679298738, 0.00032738017025844834, -0.001042155924728172, 9.3474627793119214e-05, -0.0015860330366443548, 0.0021789939669896868, -0.0001544451381814832, -0.00052590938982949309, -0.0021159502597209862, -0.0012832832885302375, 0.00058909156286950093, -0.00047793666091999754, 0.0010776864879753212, -0.00038130763790086841, -0.0025907535581903701, 0.0012842874614416855, -0.0010009317797091827, 0.00038935134809570116, -0.001076796242597225, -0.00033333666172266629, -0.0038365716471066708, -0.0014273416937613109, 0.00091912134174461368, -0.0012970959479420563, -0.0035751126478002909, -0.0011727767550418627, -0.00027137950573567771, -0.0013587095685976824, 0.00025849039359632231, 0.00089197802402363191, 0.0014148364297727895, 0.00025850967364043909, 0.0019656847224523294, 0.00040977587835798468, -0.000429701022318138, 0.00052709584679430654, -0.0023086737227180909, -0.0014827623463429668, -0.0010835746229195253, 0.0014286052709025499, 0.00052030870281558061, -0.00038143909274705734, -0.0010907245822736888, 0.00082970362367454364, -0.0011455107461311176, -0.00084279254718008789, -0.00039516937378859807, 0.00018993188314657405, -0.00084275223436060254, -0.0009664211639550252, 7.9279872961759978e-05, -0.0011456351900521605, 0.0021720333026140209, -8.5695580021943885e-05, -0.0020677496757447872, -0.00036767550981114949, -0.00080818553120540204, -0.00090468309937832836, -7.8673570051396302e-05, 0.0025507684520746643, 0.00069922125913216004, -0.00034709673919601503, 0.00094677119880619276, -0.00030596724166626066, 0.0010364290410619509, 8.6734807559038507e-05, 0.00096073108764573034, -0.0012072312833949911, 0.00012766799918517702, 0.0010913010887522306, 0.00054781133044946861, -0.0017577675899062423, 0.0011050909626573735, 0.0014083419919182355, 0.0014495661369372387, 0.0015868882273967905, 0.0020895008814744709, -0.00048456781181456521, -0.0014757105399406251, -0.00097370433088664332, -0.0014002807544106072, 0.0019380558981661189, -0.0017716994350452653, 0.00049974220131943081, 0.00082987363860892449, -0.001916297681511317, 0.0016557622294773866, -0.00036112147909299341, -0.0029900271654466626, 0.00067149603462543506, 0.00099528026348809362, 0.0014423741120323103, 0.0016557762513276369, 0.0015799415848713888, 4.2830120584869125e-06, -0.00056740871365981715, 0.00056141366210739341, -0.0011662910808437343, 0.0016422194906830501, -0.0005950287742896021, -0.0008081294438043729, 0.00010035466652980052, 0.0010775427640101615, -0.00084932028692900896, 0.0013185474366224637, -0.00047103558940793377, -0.00057379623490613763, -0.00034709323373345591, 0.001187598845558982, 0.00074029642199216483, -0.00046408018322612044, -0.0014278692658773046, -0.00036781923377629533, -0.0016203333246446183, -0.002356851521187614, -1.6555162786452415e-05, 0.0026189834271930779, 0.00068535601778187127, 0.00052016497885043478, -0.00023000813128896958, -0.0015443934943114301, -0.00090457968823268176, -0.00090459195735165254, -0.00098016196138427103, -0.00025065525842410397, 0.00061668182706747787, 0.00071954763644263564, 0.00010010753141898032, 0.00069227111114419926, -0.0016481006147021221, -0.0004915284761902311, -9.8276116713424955e-06, -0.00014716021851858552, -0.0015448194080130428, -0.0014414733502665228, -0.0012486850362119772, -0.0014414715975352294, 0.00054755543168222287, 0.0010293877510473143, 0.00077468785201911805, 0.0002170646844798646, -5.0978141976479319e-05, -0.00011299138536449704, -0.0033273015511651877, 0.00072002963754527749, -0.00024358943017151191, -1.6712908601862475e-05, -0.00067755593723531349, -0.0016409541608105316, -0.00069833101375406381, 0.00069900041499058874, 0.00053364461931859619, -0.0013515298128117387, -0.0015309524139314745, -0.0011800616747047604, 0.00071302690761884668, -0.00025096198639852629, 0.0015251799592519155, 0.00045839887057323725, 3.8851420573887685e-06, 0.0027984200501630779, -0.00036128273037097647, -0.00034688465871084151, -0.00039534289418556579, 5.9032368558989412e-05, -0.00012663052437936195, 0.0010987192159925829, 0.00058210636025587958, 0.0019517178226876597, 0.0012909501614993546, 0.0004721624535091451, -0.00067038669783704707, -0.0021435966113200061, 0.00093295503393181489, -0.00036778768461322164, 0.00050634530851349779, 0.00098814783144676732, -2.8581836392649329e-06, -0.001028700822497966, 3.8208215564328185e-05, 0.00056123663624788045, -0.00045021844733840466, 0.00032067365191874864, 0.00045824638295167974, 0.0014216849193463832, 0.00061644345561306935, 0.00036201172447107577, 0.00051314997980501931, 0.00077473342303245596, 0.00091942456425646302, -0.0018131479296684128, 0.00093981929808695241, -0.00041597950493300895, -0.0015721607843689339, 8.6310646588719231e-05, 0.00034097549099126878, 0.00058189603250199951, 0.0012220936867315957, -0.00078776450640567763, -1.7110778602960619e-05, -0.0015788655499773679, 0.00082303741815431541, -0.00062923616753191025, -0.00015432244699171982, -0.00069135983299072057, 0.0008232740368774305, -0.00046393470652968116, 0.00019690656937249029, -0.00071187024708582736, 7.3008031980056898e-05, -0.0030590326223734338, 0.00045830948127784099, -0.001069790007208235, 0.0019311635903104668, 0.00012794493072779134, -0.0012623960372094012, 7.9264098380216197e-05, -0.00086292962951206587, 0.00023127521389276762, -0.00046424669269794216, -0.0010559720896025637, 0.0011463887223902292, 0.00026543528339044442, -0.00071892030075690339, 0.0015595275709968104, 0.00048563333032090872, 0.0020273579359715715, -0.00049181417138924322, 0.00038929000250080559, -0.00023677248976100573, 0.0014629406135284739, 0.00014148591679083444, -0.0012969206748138229, -0.00036754054950240145, -0.0017717888243406615, 0.00025864463394917325, 0.0010295437441314448, -0.0018958854203680042, -0.0033549093426760018, 0.0010016362355713404, -0.0010835711174569523, 0.00226168763940722, 0.0015733507467963065, 0.00069187324114310111, -0.00018854386208427831, 0.00040984949307183716, 0.0015041770276664479, -0.00015433997430454316, -0.0015240899025076304, -0.0021709905696143672, 0.0010018150141621468, -3.7314464723658958e-05, -0.0005534786212520737, 0.0013665517146950329, -0.00029888563883211094, -0.00043653373731018796, 0.0007197246623021486, 0.00021746781267480142, 0.0010571059646288933, 0.00055484385680769355, 0.0009676163845762642, 0.00047881288444782955, -0.0014621485211021856, 0.00045838134326040003, 0.00093984734178746698, 0.0009676128791136912, -0.0024047786790837716, 0.00016225047692190742, 0.0012704450055980726, 0.00016233110256087813, -0.00042278417622454434, -0.0015581535717847789, -0.00050545681586668112, -0.0005329121197559239, 0.00048562281393320361, -0.0015650195886711959, -0.00092518474981705123, 0.00029980568064201518, 0.00052007734228631808, -0.00011294581435115914, 0.00019659808866680228, 0.00091948590985134471, 0.00022443198251302643, -0.0015926449074948196, -0.00018209499524306227, 0.0017730103359311217, -0.0014827360553737318, 0.0013253503551827056, -0.0015376799650465844, -9.2465196687832596e-05, -0.002040709769169452, -0.00057442020724265963, -0.0013931448169067079, 0.0027155931701680902, -8.5492263193182039e-05, -0.00073275399294410459, 0.00032738893391487389, 0.0014493593146459177, 0.001931147815728923, 0.00096759885726342698, 0.0018762284442940397, -0.00053309966200314196, -0.00086332399405059101, -0.0021156750809096653, -0.00047792789726357199, -0.00047098651293202287, -0.0001817882672686677, -0.0021711535736236298, -0.0014277518328813937, -0.0011319224363234293, 0.0027499583092258084, 0.00087799885513999143, -0.00058113373650751921, 0.00078172738930248897, -0.0018820166735551425, -0.0030452182102303216, -0.00081473956192355812, -0.00033315262493802122, -0.0010834834808928495, 0.00065123275564113459, 0.00065777101177774688, -9.8083316272257193e-06, 0.0010089527043973257, 0.00077520315501612702, 0.0010775848295609541, -0.00077364687175074387, -0.00054636371652357074, -0.0005809093869033749, 0.00081631512523305805, 0.0025300091501374578, 7.2881835327734401e-05, -0.0002164285851377068, 0.00083003839534946666, -0.0027560094481792613, 0.0030394299809692188, 0.00092612407167104449, -0.00034032186433627376, 0.00058864987458634443, 0.0017521844302051809, -0.001771603034824723, 0.00064410382906235353, 0.00131872621521327, 0.00116719885353464, -0.0010563278940528831, -0.00047093217826227329, 0.00067151882013211095, -0.00091138961771805582, 0.0018692923181563292, -0.0014274924286516028, -0.00058799449520008373, -0.00029882429323722925, -0.00030572711748057257, -0.00040214055455195519, 0.00030640002417965662, 0.00074733946473809487, 0.00021054220292478221, -0.0017580935979247675, -0.00025745467152180068, -0.00047110920412178625, -9.8591608344161807e-06, -0.00024363324845355638, 0.0022962333097870102, 0.00010699983927463241, 0.00021717861201321631, 0.0021236416709280448, -2.381379148010121e-05, 0.00050642593415248238, 0.00082302690176662419, 0.0008985776257551259, -0.0039742442838227032, 0.0016145275680706922, -0.000643048826943729, -0.00069798572569144957, -0.00066351892821935043, -0.00077379935937230138, 0.001291171005640912, 0.0014424179303143686, 0.0003618995496690175, -0.00016802643706403941, 9.3734032022910196e-05, 0.0009811573706393073, 0.00087095756512534095, -0.0021159152050953395, 0.0042987101830408575, -0.0011590745177008366, -0.00098019876874119727, 0.00033444599851105428, 0.0003134185286876312, 0.0013597505488660705, 0.0014562042987569523, 0.00023130851578713474, 0.00076791648262194978, -0.00010626558698066668, -0.0022603206511203205, -0.00054674405921184555, 6.6050873066964e-05, -0.002404904875736108, -0.00058786128762262913, -3.754757798421493e-05, 0.0018759813091832334, 0.0011396313748433251, 0.0015391521172104239, -0.0012418645903388981, -0.00040214055455195519, 0.00047884092814834411, -0.0031067862598726237, 0.00042362359239545011, 0.00078197277168200185, -0.002487561740796701, -0.00014739858997298017, -0.0015585093762350982, 0.00089873186610797684, 0.00050634355578220436, 0.00045821308105729874, -0.0010218575911182248, -0.0020058012834142103, -0.0026803307748071575, 0.0005338602052663427, -0.00072544804050581058, 0.00095381248882085712, -0.00072579508129971826, 0.0012016305963810786, 0.00040989155862261595, -0.00064301727778064144, 0.0014564409174800674, 3.8579794596191319e-05, 0.00049967735026199001, -0.00045705992598685241, 0.00043765359048628105, 0.001352863499204271, 0.0021721963066232836, -0.00060870121519883413, 0.00045131551500780798, -0.00050544104128513734, 0.0017454095553454396, 0.00078192194247482527, 7.2552321846650059e-05, 0.00011393070721850418, 0.00057517198684946258, -0.00044324200838119499, -0.0017923342930614289, -0.00097340636656864654, 0.00029997394284513035, 0.00079556984514610185, 0.0022891166523272138, -0.00087027238930728612, -0.0010422838741117879, 0.00063050500286698785, 2.4712800514609112e-05, -0.0020194579497418985, -0.00065694737018837102, -0.0013587656559987255, 0.00013463392175468158, -0.0016891126792359656, -8.5222342575713705e-05, 0.0012565920333667546, 0.00094667830404823738, 0.000189800428300399, 0.00063713790649284896, 0.0012980878517345334, 0.0015594118907321791, -0.0022121551217697683, -0.00048493763811514878, 4.5403745931815731e-05, -0.00054680715753800679, 0.00095377392873263744, -2.8914855336320544e-06, 0.0007817379056901802, -0.00072560578632123451, 0.0014769758698131435, -0.0022396174365841431, 4.52565165040969e-05, -0.0010354949774017963, -0.0019300051770461818, 0.00096752524254956063, 0.0014493382818705353, -0.00013399606968124422, -0.0023911483037253323, -0.0026254008869845552, 0.0010569552297386292, -0.00036103208979759716, 0.0012016446182313567, 1.0954475772553818e-05, 0.00023123840653584138, 0.00083670460086969489, 0.0010777268007948065, 0.0014974161746569709, 0.0015940101430504255, 0.0002789236875150175, -0.001661739753716987, -0.0012210544591944872, -0.00098039682737610656, -8.5734140110149681e-05, -0.00028532186726239195, 0.00072648200984905265, -0.00073924843079864466, 0.001256485116758535, 0.00082963351442325028, -0.0025837876356208656, 0.0015803517239914716, -0.0010284957529379246, 0.0015594592144767827, -9.7872988518432624e-06, -0.0018682951561700134, 0.00012791863975855633, -0.0010697829962831029, -0.0015307718826093886, 0.00043100491227887616, -0.00012023949767046849, 0.00033443723485465648, -3.040112409262441e-05, -0.00041600579590224396, -0.0029212039925732569, 0.00044450032732858136, -0.00049153723984664277, 0.0018004200688070265, 0.0020756479092431668, 0.00052014219334377276, 0.0015319933941998626, 0.00027939166676740901, -0.00022339450770721136, 6.5675788572541749e-05, 0.0010776917461691737, 0.0020827470393901398, -0.0017994421868648136, 0.0017176703089884504, 0.0028327308545510466, 0.0011259676975905186, -0.00013365603981246865, 0.00054777627582380806, -0.00089061629393057118, 7.285729708977895e-05, -0.00032652673223727835, 2.4628669413065407e-05, 0.00037580335110751206, -5.7970355515218897e-05, -0.00040185135389037008, -0.0012142392715152606, -0.0013588024633556656, -0.00020255107466844724, 0.00067171512603574068, 0.00012780295949391118, -0.0025428930040829467, -0.00037476237083913788, 0.00063746216178009463, -0.0025633595998960229, -0.00047092166187458206, 0.00023102282058810875, -0.0013793899976272117, 0.00078194122251894205, -0.00087010412710417095, 9.3453595017736757e-05, 0.0014425090723410444, 0.00020352019295423462, -0.00091838884218192751, -0.00032645837571727843, -0.0015998649761002764, 0.002061730085954408, 4.5261774697949453e-05, 0.00093982806174336408, -0.00027793704191640678, -0.0019922287481880796, 0.00043058075130854301, 1.7745125213824986e-05, 0.0010085846308280216, -0.0013313278794223199, -0.0015513646750747873, -0.0025427142254921542, 0.00043050363113211754, -0.0003332595415462547, -0.0034236150825534689, -0.00082199643788594123, -0.002494555707066734, -0.00027834893376775527, -0.00074614424411685587, -0.00034008875107571779, -0.0010355125047146335, 0.00045855836911994075, 0.0016973509426031208, 0.0020414072141064915, 0.0010157118046755093, -0.00036784727747682378, 0.0017934611571626541, -0.0013378889210655942, 0.00029985826258047132, 0.0010158397540591252, 0.0011463834641963905, 0.0013459396421855313, 0.00074031570203626773, 0.00030015797962976154, 0.00012790286517701255, -0.00045727551193458504, 0.0019035032168611965, 0.001201444806865154, 0.0024814404925919409, -0.0008013177615877054, -0.0007327837893759126, -0.0006361985846388557, -0.00064263167689851408, 0.00031379711864462645, -0.0012763103550356009, -0.0010352671223350929, 0.0027503193718699803, -0.00037493063304225305, 0.00080242359291353427, -0.00032659508875730603, 0.00059585416861024365, -2.3554387250324105e-05, 0.00029976887328508894, -4.4332969231647423e-05, -0.0002230316923317599, 0.00063018425304231518, 0.001573326208558351, -0.00089777326420986681, -0.00060173353989803613, 4.5181149058964865e-05, -0.00038125330323111883, 0.00030663313744021259, 0.0001694442545581154, 0.0015730843316413834, 0.00056850578132922047, 0.00040322885856496071, -0.00195781628538573, 0.0002035587530424543, 0.00049246078711910612, 0.00090555581744361513, -0.0014483341089590873, -0.00017486090478736893, -0.0022257732280092368, 0.0014837647665231352, 0.00048588221816299459, 6.5747650555114667e-05, 0.00092644482149571716, 0.00054785865419408608, -0.0011523487193170201, -8.5360808347006989e-05, 0.0012428214395057147, 4.0358769476667167e-06, 0.0013530072231694168, -8.5534328743974708e-05, 0.0017935154918324037, -0.0018200858085373889, 0.0011602679855907821, -0.00078763655702207558, -0.00083582487187930377, -0.00087023382921908032, -0.0028936522884634996, 0.00087129934772539608, 0.0011187651562978851, -0.00071185271977300402, -0.00035389264683112487, -0.00078092127502593645, 0.00067841638618160172, 0.0028392638524938063, 0.00060290597501258536, 0.00045138387152782178, 6.5968494696699853e-05, -5.8145628643452296e-05, 0.00034104560024256214, -0.0013724784097274567, 0.00074724481724884606, -0.00042983598262688605, -0.0019161767430528193, -0.0011110930251349294, 0.00079539983021170713, -0.0014689409232747364, 0.0012431404365991078, -0.0017442318620370378, -0.0002987997549992738, -0.00069817151520737419, 0.00084383002198590296, 0.0013462674029353361, -0.00085620908932208806, -0.00088368542598672717, 0.0019998815993069324, -0.0021570692408630354, 0.00081588044787503367, 0.0019585400212920184, 0.00067848123723904252, -0.00048453976811405064, -0.0011046143618619192, -0.0027835033121567238, -0.0008151777447441555, -0.0015380252531092126, -0.00053267024283895625, 0.0028189392279146103, -0.0024395486990677062, -0.0002851904124162169, -8.5800743898897802e-05, 0.0016073355431657499, 0.00063031395515721067, 0.00048572271961630498, -0.00089786265350527694, 0.00086411433374559976, -0.00028531310360599416, -0.0011796918484041768, -0.00028502390294439517, -0.00038828758232065108, -0.00010625156513041634, -0.00078753840407025377, -0.0011318435634157381, -0.000195576388442531, 0.00084365825432022867, 0.0020138239608336328, -0.00054659682978412671, 0.0026603162415515941, -0.0019505226020664346, -0.0010215596268002142, 0.0003000826121846295, 0.00059595933248719757, 0.00034119633513282621, -0.0011041691681161897, -0.0017234883346813612, 0.00058901444269307546, -0.0026736084818858863, -0.00030568329919851422, -0.00073269965827435501, 0.00091272856230444066, 0.00077489993250427769, -0.0023087858975201631, -0.00079443947558231753, -0.00018884708459612765, -0.00015438905078044018, -0.0020813116945832266, -0.00062939391334732031, 0.0014146979640014962, -0.0020057504542070198, -0.00029205818203391354, 0.0018830874502553246, 0.00087120820569872026, 0.0011672391663541393, 0.00015564386426526744, 0.0002585902992794098, 0.0018002710866480282, -0.0021157609647424885, 0.0011877005039733629, -0.0018199946665107131, -0.0015653158002579132, 0.00063035777343926902, -2.3415921479003066e-05, -0.00053957131435102001, 0.00047901444854529796, -2.3633260158029135e-05, -0.00093218572701221636, -0.00020255282739971292, -0.0010630168850797733, 0.00077474744488272018, 0.00063687499680049886, 0.001869229219830168, 0.0020209493819498409, 0.00056806234031478442, -0.0010077469673883954, 0.0011808379925495049, -0.0010698215563713087, 0.00059547557865326228, -0.00069104258862860701, -0.00095945348865424107, 0.0017109234778292376, -0.00086333275770700268, -0.0013313121048407761, -0.00056731757163314134, -0.001172971308214199, -0.00068446051420993637, -0.00027845409764470919, 0.00030680315237459344, -0.00060875730259987715, 0.00016900782446881146, -0.00044362585653204278, -0.0017236671132721676, 0.00041698543057573645, 0.0023924819901178646, 3.139653334767456e-05, -0.0014824871675316459, 0.00076774997315011417, 0.00034825339972903435, -0.0016548597149803196, 0.00048559301750140949, 0.00074042787683833988, -0.00060181241280575504, -0.00028492049179873469, -0.00096634930197245228, -0.00040224747116018866, 0.00047208007513888095, -0.00070499020834915993, 0.00042367091614006758, -0.0014069662399749383, 0.00027234687129019941, 0.00026567716030741206, 0.00090577315612262732, -0.00020283676986745935, -0.00066384493623786178, 0.00032049662605920792, 0.00082290070511428781, -0.00016153725740332414, -0.00093201220661524864, -0.00027819294068362477, -0.0030381699092905529, 0.0018072229873672685, 0.00038937238087108361, 0.00070586643187700582, 0.0013461534754019983, 0.001662766712135097, 0.00022439342242480675, 0.0011805593082756111, 0.00010009876776256865, 7.9847757897238969e-05, 0.00087815660095540149, 0.001972421037223851, -0.0014966083076491526, -0.0018816293199417355, 0.0011947575685695433, 0.0015869548311855386, -0.0011866139526916369, 0.00073355484902679069, 0.0012565517205472554, -0.00058804006621342164, -0.00071870296207787732, -0.00066367492130348094, -0.001744268669393978, 0.00082976496926942533, 0.00065102943881237274, -0.0009733888392558232, -0.00059486577028033949, 0.0016352342880694426, 0.00014875155640962923, 0.0019861004890581874, 0.001876088225791453, -0.0012347759765796162, -0.0011042690737992911, -0.0011037555235335478, -0.0028316933797452315, 0.0001416278880247146, -0.00072574775755510079, -0.00045038320407893295, 0.00092620820277261595, -0.00025760715914335819, 0.0038167674416050013, -0.00077370997007690512, 0.0023370543266110766, 6.5766930599231443e-05, -0.001131727883151093, 0.0019722878296463825, 0.0012633739191516141, 0.00043753089929651767, 0.00032748708686666794, 0.0021648763323347392, 0.00086431765057436161, -0.00042280871446249979, -0.0013037691643874166, -0.0003609619805463038, 0.0024747707816091535, 0.001497396894612868, 0.00039599827357181261, 0.0023027873405051663, -0.00016832615411331575, 0.0014630755738372081, -0.0015514663334891682, -0.0018614028483143613, -0.0004365898247112171, -0.0011523417083918741, -0.002308575569766283, -0.00078759098600872379, -0.0018819675970792316, -0.00046391016829172571, -0.00040899254958810805, 0.001187730300405157, 0.0012082792745884835, -4.4441638571160458e-05, -0.00025758612636797573, -0.0030862775985087826, -0.0021156645645219602, 0.00055448454689481508, -0.0004432490193063271, -0.0023638279601448237, 0.00085058386407024789, -0.00029195126542569394, 0.00021732233597837602, -9.9159445908575394e-05, 0.0017177561928212876, 0.00052020704440122745, 0.0005753086998894763, 0.0005821589421943496, 0.00078833750742167419, -0.00062249284183525655, -0.0009733888392558232, 0.00074718522438524393, 0.0015935947457365179, 0.0019587310690017817, -0.00042960812756018263, 0.00032744326858462347, 0.00052027540092122737, -0.001269822928106179, -0.0015859418946176651, 0.00078894044698279986, 0.00058201346549791033, -7.8684086439101408e-05, 0.00022413051273245665, -3.7579127147302493e-05, -0.00059493587953163285, 0.0015320214379003771, 0.00058906527190025204, -0.0013241691564117447, 0.00082987539134021793, -0.0008149463842148652, -0.00083579858091005488, 0.00029285202719146752, 0.0014425704179359261, 0.00025148240547603895, -5.7882718951102197e-05, -0.00052615827767157897, -0.00047777015144816193, -0.0018957399436715511, -0.0011314229079079641, -0.0010904406398059424, -0.0011730624502408887, 0.00093281832089178729, 0.00021710675003062951, -0.00063599877327265297, -0.00073274522928769292, 0.001270022597359019, -0.00011307025827220207, 0.00027217335089325945, 0.00045122612571239784, 0.00054050888347374759, 0.00038963879602600671, -0.0014619609788549676, -0.0027971231711274719, -0.00044305797159653604, 0.00095376691780751921, -0.0001682823358312574, 0.0010915902894138296, 0.00095372835771929954, -0.00019569907963229438, 0.00020367268057580601, 0.00019666644518680221, 0.001146483369879478, 0.0023165035996964567, 0.00047880412079141788, 0.00060964930070923906, 0.00018301678978424607, 0.00065139400691910376, -0.0005328542796236152, 0.0022271472272212683, -0.0010904827053567212, 0.0015937665134021922, 0.00014855875596857249, -0.00075322234148844647, -0.0004708708326673916, -0.00047770354765944156, -0.00078749283305691586, -0.00018214056625641406, 0.00076797958094811103, -0.00017500462875251477, 0.0019170739993560476, -0.00046423617631025094, 0.0025369102216495076, 0.00098791822364878434, -0.0021712026500995407, -0.00077353469694865784, -0.00055366616349929176, 0.00047186448919113444, -0.0010147917628656189, 0.0018211881344006586, -6.4804823238548415e-05, -0.0011453354730028703, -0.00084936936340491986, 0.0003272101553240675, -0.00064286128469651094, 0.0013667690533740451, 0.0011398224225531023, -0.00017494153042633964, 0.00034822009783465335, -0.00048481144146281241, -0.0010697058761066636, 0.00033434609282795291, -0.00058098475434852082, 0.00030668571937868261, -0.0004571545734761151, -0.00032635145910905883, -0.00069139313488508769, -0.0021435545457692273, -0.0012142164860085847, 0.0013870533651337558, 0.0003066103519335367, -0.00037467473427502118, 0.00083665727712507743, -0.00066381864526864065, -0.00017516588003049782, 0.0011394771344904742, -0.000491577552666142, 0.00068529467218698958, -0.0012211000302078251, 0.00044408142455210076, 0.00070588746465238827, 0.0012912621476676156, -0.00022316665264050795, -0.00016129713321763606, -0.00057419059944467665, -0.00011993802788989871, -0.0015307561080278448, -0.0003677701573003983, -3.7233839084674369e-05, 0.00036182768768644458, 5.8755437016375089e-05, 0.0025709265671820247, -0.0016824920447290753, 0.0014560167565097343, -0.00054670900458619887, -0.00022342255140773981, 0.00094009622962956674, 0.0035971390323413233, 5.9058659528224422e-05, 0.0011260413123043711, -0.00029216685137341269, -0.00047077092698429024, 0.0018208866646200889, -0.00038150219107323247, 0.0023989536424657287, -0.00028544631118343489, 0.00017577393567212718, -0.0017442371202308904, 0.001462993195466944, 8.0070354770103713e-05, 0.0032184406902376061, -0.0015584900961909953, 0.0012562607671543907, 0.0036792946162551576, -0.00064985174550397096, 0.0002930273003197148, 0.00010045632494418144, -0.00055330334812385418, -0.00093226985811376006, 0.00099492621176905383, 0.0014905799542023479, 0.00011407968937750257, -0.00069826265723405001, -0.00045025350196403746, -0.001179856605144719, -0.0014484760801929675, -0.0013246774484836216, 0.0009882021661165169, -0.00042953801830887539, -0.0027490032127902575, 0.0014906255252156858, -7.8550878861632922e-05, -0.0021983179241200079, 0.0014491367177730669, -0.002108900206049924, -0.00051197754469047008, 0.00023097549684349128, 0.00075436848563376069, -0.00071861532551377449, -0.0010422137648604946, -0.00073239468303122612, -0.0011593987729880684, 0.00018271356727239674, 0.0011464640898353751, 0.00022419886925247046, 0.0011259729557843573, 0.00031370772934921631, 0.00063033323520131357, -0.00070461862931731067, -0.00087695086394648514, 0.0014906553216475077, -0.0010630274014674645, 0.00078854608244427471, -0.00091139487591190838, 0.00018300627339655484, -0.000436642406649701, -0.0013380308922994744, 3.9377239958587884e-06, -0.00069120734536913531, 0.00086444735268924322, 0.00056123838897916001, 0.00034826041065415259, -0.00060209810800476715, 0.0019929437204379286, -0.0008907214578075251, 0.00032739068664615345, 0.00059595582702462457, -0.00051918008598308973, -0.00022982584723560406, -0.00038821747306935772, 0.00060270791637768995, -0.0003744153300452302, 0.00025867793584354037, -0.00056713704031105538, -0.0027083171562749531, -0.00078752438222000343, -0.00039545506898762406, -0.0007532328578761377, 0.00032065963006847054, -0.0012696476549779456, 0.00067825513490361866, -0.00091840461676347129, 0.0011740701286149097, 0.00053404950024482645, 0.0010429322425729165, -0.001895736438208992, -8.5404626629079217e-05, -0.0005948342211172658, -0.00068416780808577826, 0.00044435309790086253, -0.0022328968963941653, -0.00048479391414998907, -0.0006363738577670891, 0.0010225445196675592, 0.00023809916522840591, 0.00049964930656146156, 0.001153240717426382, 0.00060301464435211227, 0.0014010675886430429, 0.0015113988490031705, 0.00060960548242718071, -0.0014070468656139229, -0.0011455037352059855, 0.00013476011840700408, 0.00070609954513756179, 0.0026471696200270761, -0.0011661946806231921, -0.0013863313819587608, 0.0036447927641574118, -0.00049863812272489538, 6.5868589013598489e-05, 0.0013802925121242787, 0.00087764655615224507, 0.0010777390699137912, -0.00094589497527837463, -0.002907230081883469, 0.00012815525848167142, -0.0011319539854865168, -0.0015585251508166281, -0.00020253530008690346, -0.0022814760703273596, -0.00040200208878064803, 0.0010365306994763318, -0.0035270032058507816, -0.0020399736220308717, 0.0017588471302628361, 0.00098801462386929884, 0.0020482784891867473, -0.0005741660612067212, -0.001654854456786467, 0.00096058736368057063, 0.0012705589331314243, 0.00054768338106585268, 0.00019686625655299106, -0.0019506119913618308, 0.0011739719756630879, -0.0018682040141433237, 0.00067146799092492049, 0.00012109994661675672, 0.0005200615677047743, 0.00060282885483615989, -0.00093883791068216649, -0.00023715633791185353, 0.00060956166414512236, -0.0016479972035564616, 0.00023793966668170241, -0.0008153687924539188, -0.0010764895146228165, 0.00027934434302280542, 0.00042387072750625643, -0.00016123578762275437, 2.4605883906389514e-05, -0.00076715243389618992, 0.00071966156397600123, -0.00094592827717272787, -0.0020746858018824976, -0.00047757034008197308, 0.0012773110224844897, -0.0003746396796493745, 0.0006098456066128688, 0.00056135582197508471, 0.0004856158030080715, 0.0010706960271678473, 0.0018001641700398086, -0.001393437523030866, -1.681456701622952e-05, 0.00052695037009786727, -0.00045017988725018498, 0.00048591727278864127, 0.00045802028061625588, -0.0021985335100677267, 0.000561494287746378, 6.5861578088466377e-05, 0.00031355348899637925, -0.0017234182254300678, -0.0010767331442710637, 4.5466844257976979e-05, -0.0020610589319866035, 7.3102679469305709e-05, 0.00090570655233389308, -0.00022342079867644637, 5.2117275196675306e-05, 0.00022437764784326297, 0.00049243800161244411, 0.0012221848287582715, -7.1704142019332617e-05, -0.0024463708976720649, -0.00010627259790579879, -0.00067045154889450176, -0.0012210351791503843, -0.0018749438343774183, -0.001021631488782801, 0.00094003488403468505, -0.00080135106348207252, -0.00051887861620253384, -0.00032637073915314785, 0.0011326163757979096, -0.0013590057801844135, -0.00146891989049934, 0.0012291051803144382, 0.00093307947785287171, 0.00074047695331425079, -0.0015511683691711575, 0.0018690013647634507, -0.00014743364459864072, 0.0014559589163774256, 0.0004787988625975792, -0.00022308252153895036, -0.00080105134643278231, 0.00094015056429931632, -0.0018267344867447938, -0.00024366830307921694, 0.00065738190543306041, 0.0014354152003879239, -0.0014342042051851689, -0.0013038305099822983, -0.00095275748670221871, 0.0014631947595644124, 0.00016225748784702565, 0.00092633264669365889, -0.00035410648004757794, -0.00078072496912230671, -4.4438133108587463e-05, 0.0011876198783343644, 0.0012911552310593821, -0.0012280273926891239, 0.00064431590954752704, 0.0012289719727369697, 0.002653585184973925, 0.0008092265114737901, 0.0011397084950197506, 0.0011738773281738391, -0.0010627311898807473, 0.0018069828631815943, 0.00015525475792058097, 0.00017590013232444968, 0.00029294842741200977, 0.0014010062430481474, -0.001620443746715397, 0.0013119688676663521, -0.001888930014186177, -0.0014002176560844459, -0.00030570257924261712, -0.0018405103387996863, -0.0018543142345550934, 9.3549995238279005e-05, -0.0025495048749334254, 0.00063683468398099963, 0.0006718553445383274, 0.00096755153351880951, -0.0025081650496497909, -0.00030578846307545426, -0.00016806324442096565, -0.0004779647046205121, -0.001613637322692596, -0.0036919400987462797, -0.00083557072584335146, 0.002254592014722806, 3.8585052790029994e-05, -0.00025762994465003408, -0.00025066928027438207, 0.00025175232609353504, -0.00018190394753329897, -0.00088388348462162258, -0.00046388563005377026, -0.00039494677691573332, 0.0012081916380243668, 0.00016216985128290895, 0.0011396085893366492, 0.00056142242576380508, 0.0015179669015715769, -0.00046386635000966736, 0.0010364851284629939, -0.0027079911482564278, -0.0016131868707530278, 0.00041719225286705741, -0.00082897813503698958, -0.00035408544727218161, -0.00080099350630047361, 0.00025877083060149575, -7.1826833209095997e-05, -0.00067061981109760305, -0.00065666518045190414, -0.00082196488872285367, -0.00034709849192729458, -0.0020885457850389338, -0.00056718786951823197, -0.00065655125291855243, -0.0007395656751607721, 0.0014215534645002081, -0.00086322233563622397, -0.0010078275930273939, -0.00056724921511311366, 0.0012015464652795349, 0.0013252837513939714, 7.9572579085904205e-05, -0.0019779656368366927, -0.002177917932095666, -0.0011796445246595594, 0.0010842860897068152, -0.0016545827834376914, -0.00084948854913211025, -0.00032637073915314785, 0.0011877180312861724, -0.00078737014186715248, 0.0024956930875556504, -0.0011659300181995624, -0.0014414242737906119, 0.00080235173093096135, -0.00065695788657606224, -0.002707994653718987, -0.00067056898189041259, 0.00093971238147873282, -5.7880966219822638e-05, -0.002054227969725847, -0.00037455905401037604, 0.00041022633029755284, 0.0014561271785805269, -0.0022121744018138711, 0.0030045320116016683, -0.00067054093818989802, 0.0015802605819647819, 0.00068545942892753176, -0.001936904495826966, -0.00082170723722434225, -5.7910762651616765e-05, -0.0015378061616989208, 0.0015457166643162712, 0.0003752161861279163, -0.00043662137387430466, 0.00065804619058906777, 0.00036870246822927333, -0.00089752437636776705, 0.0021032521952914079, -0.0022539331298740001, 0.0012425935844390112, 3.8315132172547783e-05, 0.0016074792671309096, 0.0021235627980203536, 0.0003964785219431749, -0.0024941963971538555, 0.00014847813032957402, 0.00017609118003424074, -0.00039504668259884856, -0.00064976936713369293, 0.0019311408048038048, -0.0018132197916509718, 0.00038237666186977104, 0.00057513693222380202, 0.0014906816126167288, -0.0023016657345978075, 0.0041887329743997559, 0.0016765004986392107, -0.00049160033817280402, -0.0010903722832859286, 0.00019676810360118313, 0.00041705729255832324, -0.00059471328265878198, -0.00011302643999014372, 0.0014149082917553762, -0.00085628971496108652, -0.001558390190507894, -0.0010626663388233065, 0.00083018562477718549, 0.00079523156800859196, 0.00012805535279857005, -0.0008495814438900795, -0.00070509537222609997, 0.00079542962664351513, -0.0031071858826050014, -0.00024373140140537819, 0.0010914938891932874, -0.0012831711137281654, 0.00116714627159617, -0.0015446143384530014, -0.00087711036249317476, 0.00033446177309259806, -0.00037436800630061273, 0.00021054220292478221, 0.0015112498668441721, -0.00034709673919601503, 0.00022438115330583597, -0.0014619907752867617, 0.0018758849089626911, 0.00045825689933935709, 0.00049951609898400695, -0.0005192116351461773, 0.00031365690014203973, -0.00025076918595746955, 1.7722339707149093e-05, 0.00087107149265869266, -0.0010213878591345538, -0.0022811500623088343, 0.00019657530316012639, -0.0013657543640749198, -3.0341531229022278e-05, 0.0011948925288782913, 0.001717987553350564, -0.001379453095953373, -0.00016102721260016772, 0.00025189955552123999, 0.0021927102261809633, -0.0016065206652327996, -0.00040894347311221102, -0.00078072496912230671, -0.0011728451115618765, -0.00038166168961992208, 0.0004378726818965728, -0.00076030569705387574, -0.0027762972654015311, -0.0013865469679064935, -0.0001132595532506997, -0.00037451698845961112, 0.00049970889942507757, -0.0012209773390180617, 0.0022891815033846685, -0.00020249498726740423, 3.1806672467729613e-05, 0.0014080229948248424, -0.00013357541417348406, -0.00087680012905619331, -0.0019164782128333752, 1.0570627621719897e-05, 0.00077461949549910425, 0.0027638182923822446, 0.0015937402224329572, 0.0023028539442939006, -0.00022318943814718384, -0.0014688865886049868, 0.00032038445125714965, 0.0014493137436325798, -0.00064977462532754549, 3.8448292378895355e-06, 0.00091939652055594845, 0.0007057910644318599, 0.0014011114069251013, -0.0013377784989948016, -0.00087002700692774548, 0.00074745514500272614, -0.00029875768944849501, -0.00089772944592780846, -0.002969441383906396, 0.0011808712944438721, -5.0999174751861776e-05, -0.00072574425209254168, 0.0022066298022010156, 0.0017040977737623336, -0.00064973781797061925, -0.0020885510432327864, -0.0018890036289000434, -0.0011731939050870638, 0.0024265404012011604, -0.0015378114198927595, 0.0016007604796722114, -5.1198986118064505e-05, 0.0014424319521646189, 0.0012911692529096463, 0.0012563974801944183, 0.00074735173385707954, 0.001697023181853316, -0.00053285953781745388, -0.00024384007074489122, -0.0003676825207362816, -0.00049834015840688473, 0.0016144083823434879, -0.00043661436294917255, -0.0023429547306742515, -0.00019593745108668903, 0.0022410492759284834, 0.0012085246569680241, 0.0019448763440391981, -0.0016410593246874716, -0.00069124064726351631, -0.0013863752002408192, -0.00011297035258911459, 0.00023818154359867005, 0.00091252875093825181, 0.0018688541353357319, 0.0011465306936241093, 0.00029277665974633549, 0.0014285579471579185, 0.00046515797085142085, 0.00082995075878534996, -0.00049835768571972194, -0.0017303543515677783, -0.0017372168629916224, -0.0021091788903238179, -0.00076691406244179527, -0.00046407667776354744, -0.00010614990671603541, 0.0021721857902355923, -3.0423909599286425e-05, 0.00018992487222144194, -0.0017441039126534358, -0.0012900476470022737, -3.0385349511080628e-05, 0.0010019727599775569, -0.00066367842676605393, 0.0020481715725785277, 0.00046532623305452214, 0.0035828724155273634, 0.0018763371136335388, -7.8561395249338029e-05, -0.0010627942882069086, 5.2164598941292772e-05, 0.0013804607743273939, 0.001400860766351722, -0.00085638962064417401, -0.00074602505838966549, 0.0022684257069100211, -0.0012208949606477837, 0.00047871297876474206, 0.0012910973909270734, 0.0012501501774506846, -0.00044348213256688307, -0.0014551142420126673, 0.0010225304978173089, 0.00068540684698906174, -0.00069789458366475987, 5.8730898778419638e-05, 0.00056826039894970759, 0.0023991341737878147, 0.0013256062539499375, 0.0003069328544895028, 0.00020315211938494449, 9.361659902699937e-05, -2.7582779561635684e-06, 6.5991280203375746e-05, -0.0029212583272430204, 0.00051327267099478269, 0.00065809701979625823, -0.00091114423533852906, 0.0014285123761445806, 0.00098129934187317358, 3.7379126296560594e-06, 0.0019449394423653593, 0.001311570997665254, -0.00025765273015670997, -0.0015443479232980784, 0.00082997529702330541, -0.00085618279835285305, -0.0010696690687497373, 0.0012977530800595966, -0.002225937984749779, -7.2128302989665771e-05, -0.00053984123496850223, 0.00048567189040911452, 0.00031363937282921639, 0.0019862967949618171, -0.00050531484463281484, 0.00029992486636921944, -0.0014760365479591364, 0.00080935095539483304, -0.0022123934932241768, -0.00027805798037487672, 0.0012291577622529082, -0.0012072628325580648, 0.0013253082896319268, 0.00019675408175093279, 0.0012293417990375533, 0.00014158056428008325, 0.00087145534080952658, -0.00057422214860776422, -1.6616508381334105e-05, 0.00065062105242358337, -0.0020265991454396504, 0.00025207132318691428, 0.0019518282447584523, -0.00014069031890198702, -3.0465975150079094e-05, -0.0027489786745523159, -0.0010765473547551391, -0.00074584978526143209, -0.0023705730385727569, 0.0001758265176105972, -0.00099422876683202821, 0.0016833998174199949, -0.00046380675714606523, -0.00019550627919123764, -0.00067080735334482111, -0.00043663189026200977, 0.001759309851321389, 0.0016628070249545962, -0.001365659716585671, 0.00036897063611547598, 0.00088513829810644984, 0.0018624701195519705, 0.002309655110122863, 0.0016970319455097277, -0.0013520416103461885, -0.0023361027356380987, 0.0009950331283772873, 0.00010026001904055171, -0.00080118280127895736, 0.00015543003104882824, -3.7274151904159725e-05, 0.00023125768657994428, -0.0018066447281574333, 0.00065801639415725977, -0.00027120773807000342, -0.0018130462712540318, 0.00045140840976577723, -0.00057407316644876583, 0.00060974044273592876, -0.0028935909428686041, 0.0016420897885681546, 0.00088514881449414107, 0.0010567203637467937, -0.00023027279371261311, -0.00036745641840085774, -9.9276878904500099e-05, -0.0015651054725040192, -0.00068425193918733584, 0.00058200470184149866, 0.0016422545453086967, -0.0012348618604124534, 0.0001414035384205703, 0.00016246431013834661, 0.0010776321533055716, 0.00045823411383269508, -3.0281938365420147e-05, 0.00036202749905261955, -0.00055354873050336706, 0.00028608065779431313, 0.001105220664772269, 0.00098129057821676191, -0.0022398628189636699, 0.0021443536491206477, 0.00032749935598565261, -0.00042955028742786006, -0.00083591776663725914, 0.0012289877473185135, 0.0015870004021988765, -0.00084265232867750117, -0.00096660520073967027, 0.0017591030290300541, -0.0013104669190707047, -0.00020921728018866159, 0.0018761337968047909, 0.00062350052020927749, -0.00034705642637651579, -0.0018612521134240695, -0.00087021279644368399, 0.00067167130775366846, -0.00051230530544027486, -0.00055364337799262975, -0.0004643518565748822, -0.00062220889936752399, -0.0015655979899943662, 0.00075386194629316339, 0.00042367091614006758, -0.0011386149328129064, -0.0015720941805801997, -0.0005122159161448786, -0.0017994194013581377, -0.00080114599392203112, -0.001523937414886059, 0.00034133129544157426, -0.00052574638582023048, -0.00017520268738742406, -0.00018868933878071759, 0.00087092776869354682, -0.00021600267143609408, -0.0015861066513582073, -0.0013863594256592893, -0.00029199333097645885, 0.00052024209902686025, -0.0011593654710937012, 0.00038256069865442999, -3.7251366397497709e-05, -0.0023430458727009412, 0.00073348298704421777, 0.0012494771286382517, 0.00028610694876354814, 0.0019174911494012487, 0.0028671152736528677, 0.00040307987640596232, 0.00071967383309497202, 0.0012015622398610787, 0.00025861483751736525, 0.00048562631939577661, -0.0016750265937440917, -0.0003472194303857784, -0.0019439212476036472, 0.00085056107856357199, -0.00054632866189793794, -0.00062934483687140941, 0.0010776374114994103, 0.00046500373049858379, 0.001731689790691604, -0.0002648675405683143, 0.00032053168068486848, -0.00030555710254619173, -0.00031257911251672543, 0.00045129097676985253, -0.00062916430554932345, 0.00067171687876700636, -0.0022743120891229457, 0.00062346897104618992, 0.001029445591179623, 0.0003893460899018486, -3.0224098233111452e-05, -0.00068406614967141122, -0.0014141284684480726, -0.001097278612991831, -0.00030567103007952956, -0.0005465249678015538, -0.0010903232068100177, -0.0017787004122404165, -0.00086358164554910244, -0.00021634270130486966, 0.0023921191747423992, 0.00041010363910778946, 0.00063026838414387276, -0.0021504521118187181, -5.8140370449613621e-05, -0.00070493236821683736, 0.0001966401542175672, 0.0019378560867999439, -0.0013933148318410887, -0.0017510926207296162, 0.0020344185060303249, 0.00061656439407156705, -0.00049176334218206663, -0.0014621309937893623, 0.0003205544661915305, -0.0020061640987896617, 0.0017315618413079742, -0.00091843967138911797, -0.00023661299121430224, 0.00074756907253609173, -0.00049160384363536314, 0.0014218374069679546, 0.0016765285423397253, -0.00069126343277017832, -0.00016114464559607855, 0.00045822184471372429, 0.00062340587272002868, -5.8059744810615155e-05, -0.0014141302211793522, 0.00079559263065276387, 0.00057481793513040891, 0.00030661736285866881, -0.0025011167487100222, 0.00060293051325054081, -0.0010698829019661904, -0.00020244941625406632, 0.0016556412910188889, 0.00035492486344310126, -0.00034006246010649666, 0.00026560354559355959, -0.0014344881476529014, 0.0010156732445872896, -0.00091847998420861721, -0.00013385059298481883, 0.0010295016785806521, 0.00088505767246746525, -0.0015102754903645321, -0.0007529997446155956, 0.0017245275622184697, 0.0013048627265942608, 3.1648926652319553e-05, 0.0001824138502231204, -0.0016959751906598097, -0.0007186994566153182, -0.0007461389859230172, -0.0004501343162368332, -0.0027147782922351399, -0.0015444706144878556, -0.00038832438967757732, 0.0015044259155085477, -0.001496546962054271, -0.00047775612959791158, -5.8294610802450686e-05, 0.002688218491917832, 0.00055446701958199174, 0.0011395910620238398, 0.0011740999250467038, 0.00049258523104014906, 0.0022751742908005135, 0.001415127383165668, 0.0014424144248517956, 0.00040978113655182336, -9.216547963854238e-05, 0.00059596634341232968, 0.00073373012215502409, -0.00058111796192597542, -0.0012829870769435203, -0.0006636573939906576, 0.0002589355873420518, -0.00067735437313784508, 0.00098146059315114276, -0.0012072330361262568, -0.0013108472617589934, -0.0018062345890373643, -0.0010146708244071351, 0.001132453371788647, 0.00048568240679680574, 0.0016078683734755961, -0.0010904616725813249, -4.4178728878782603e-05, 0.00063041736630287115, 0.00038259400054879711, -0.0036299776845654386, 0.00034127871350310424, 0.0012429125815324044, -0.001269353196122508, -0.00029882955143108181, -0.00087019351639958109, -0.00028534290003778828, 0.0017728771283536671, 0.00093292874296257988, -0.0003952815485906841, 0.0012975900760503339, 0.00081618191765558956, 0.00030681016329972555, 0.00016930578878682212, -8.5583405219885611e-05, 0.00049987716162817886, 0.0017728560955782846, -5.1251568056534524e-05, -0.0015237078070880761, 0.0021100340810762674, 0.00076108201489862026, -0.0028730191831786017, -0.0010560562207041213, 0.00043068065699164437, -0.00095952710336809355, 5.2243471848997802e-05, -0.00040916256452248889, -0.00022323676189180131, -0.001083323982346146, -0.00023008349873410161, 0.0017796151958564543, -0.00089788719174321852, -0.0021847927126384808, -0.0018611434440845703, 0.0012429020651447131, 0.00033430227454590844, -0.0022948207504867729, -0.0002507446477195141, -0.00057437113076676261, -0.0018061925234865855, -0.0012141446240260256, -0.0014066016718681934, -0.0005607127117077948, -0.00014056061678709153, 0.0013390946580745106, 0.00047205027870707295, 7.2967719160571543e-05, 0.0025509069178459715, 0.0012839614534231603, -0.00065002176043836568, 0.00085754277571462034, 0.0015800222105103873, 0.0013324617544486494, -0.00034039372631886056, 0.00079564170712867477, 0.00049926195294806852, 0.00076103293842270936, 0.0015523846225677651, 0.0025231168422818057, 0.0029358192607990552, -0.00020242838347866998, 0.0022063458597332691, -0.0023364340018504626, -0.0012210334264191047, 2.4583098399727499e-05, 0.0016417953297127169, -0.001282890676722992, -0.00075319780325049102, 0.0003001211722728353, -0.00032632867360238293, 0.0024059283286916588, 0.00062314822122151725, -0.00075990607432149804, -8.5511543237298815e-05, 0.00078162923635068104, 0.00043061405320291013, -0.000168077266271216, 0.0017245696277692346, 0.002729176221781926, -0.00033325077788984303, -0.00082879935644618319, -0.00097339760291223487, 0.00052681015159526667, 0.0010639421850835162, -0.0026045013665447481, -0.0029003868505037278, -0.0014275625379028961, 0.0012772899897090934, 0.00056847773762871978, 0.00057544891839206302, 0.00036850791505692315, 0.0015320091687814064, -0.00048455028450174187, 0.0010228898077302012, 0.0015802465601145177, -0.00058769828361336651, -0.002081509753218122, 0.00089172913618154603, 0.00038959848320650747, 7.2715325855912671e-05, -0.0015652772401696935, -0.0029487188893261157, -0.0012900055814514949, 0.00047888649916168202, -0.00046399780485585629, -0.00034707220095805957, -0.0012759598087791341, 0.0012497067364362485, 0.0015799661231093443, -0.0016274307020602979, 0.00047186799465370743, -0.00011314387298606843, 0.00034099652376665124, -0.0021777163679981976, 0.0019173106180791627, 0.00047202223500655838, -0.0007393185400499519, 0.00078160469811272559, -0.00080831523332029753, 1.0759922600203642e-05, 0.0004995791973101682, 0.00089871609152643306, 0.00076787616980245055, 0.0023372997089906034, 0.0021170403164652574, 0.0020961425487567437, 0.0011532021573381762, 0.00074721502081703806, -0.00033335243630421008, 0.0025436132345266621, -0.001895273717150453, -8.5571136100900946e-05, -0.0012213541762437774, -0.00086301376061362345, 0.00056834628278254473, -0.0025355660188692702, 0.00059571395010765693, -0.00056724921511311366, -0.00075323461060743113, 0.0008917957399702664, -0.0025220916365949614, 0.0012495822925151917, -0.00090476547774860638, -0.0007877084190046485, 0.00068517723919107876, 0.0027639287144530233, 0.0013050222251409505, 0.0019516617352866167, 0.0024199302830819752, 0.00027933207390382075, -0.0021018045813655239, -0.0012421082199871453, -0.00094597910637991833, 0.00094010499328597841, 0.00068523332659210789, 0.00085701695632992014, 8.6464886941570174e-05, -0.00057429926878418969, -0.00056040598373337247, -0.0014621204774016711, -0.0016961592274444409, 0.0009125410200572226, -0.0016271905778746237, -0.0015516275847671374, 0.00013488105686550178, -0.0013243304076897278, -0.0014414120046716411, 0.00071960898203751733, 0.00074691355103648216, 0.0026674697063683167, -0.0018610838512209682, 0.0010982319566960885, 0.00086428084321743537, -0.001785456007056041, -0.00098709282932811504, 0.0012085246569680241, -0.0011317103558382835, -0.00042944161808834702, 0.00093983682539977575, 0.00025870247408149583, 0.00019007911257427901, -0.00033317891590725623, -0.0011451812326500332, -0.00066362058663373136, -0.0024256554140169168, 0.00079524033166501751, -8.5288946364447948e-05, -5.1312913651416214e-05, -0.00038832263694628388, -0.0017853788868796155, -0.0019437179307748992, 0.00071310402779527216, 0.001538869927473957, -0.00033328232705291672, 0.0010637826865368266, -0.0022329512310639149, 0.00040324463314650449, -0.0023704626165019643, 0.00061628395706637973, 0.00070597510121650497, -0.0027768791721872743, 0.0012152189061887669, -0.0012075134731314302, -0.0018266976793878675, 0.00080936848270765638, -0.00060194386765193009, 7.9739088557739812e-05, -0.0012899232030812169, 0.0023921822730685743, -0.0003194714203723914, 0.0011394929090720179, 0.00029986877896817643, 0.00029984599346150054, 0.00036886196677596295, -0.00036059565970827934, 0.0022061846084552861, 0.0013322952449768277, 0.00036904074536676934, -0.00029878047495518478, -0.00041589362110017181, -0.00016141982440739944, 0.00044451434917884558, 0.0017384804401328613, -0.000401923215872943, 0.00020357628035527764, 0.0006510154169621224, -0.00071207181118330964, 0.0018828806279639898, 0.0010158713032222128, -0.0011386797838703472, -0.00034028680971064096, -0.0010212090805437474, -0.0015308157008914608, 0.00076101015291603347, 0.0016764198730002261, -0.00093889224535192994, 0.00031359204908458505, 0.0012496208526034114, 0.00084359340326278787, 0.00034141016834927929, 0.0016834208501953773, 0.00082982631486430702, 0.00082992446781611495, -0.0013656123928410396, 8.6752334871875725e-05, 0.0021653460643184103, 0.002371896208577598, -0.0001406184569194141, -0.00018204241330459225, 0.0021379819024558572, 0.0015182035202947058, 0.00083668356809431244, -0.00031943110755289217, 0.0029565382499167903, -6.4962569053972352e-05, 0.0010432477342037366, -0.0014072414187862592, 0.00019673480170681601, -0.00056017988139794861, -0.00071883091146149325, 0.00091937548778055211, -0.0030107216163264283, 0.00017611571827219619, 1.7689037812781971e-05, -0.0013794688705349167, 0.0015660640744021292, -0.00028510102312082064, 0.0008089110198429561, -0.00016124805674172515, 0.0013117778199565749, 1.7745125213824986e-05, 0.00010736265465008388, -0.0022741262996070072, 3.8292346665885768e-05, 0.002282087631431548, -0.001998826597188294, -0.00092504277858318495, -0.00051925545342824952, -0.00063608465710549011, 1.1085930618728868e-05, -0.0023015360324829121, -0.00025062546199230984, -0.00112471814229953, -0.0012351107482545531, 0.00085728862967868191, 0.002522822383426368, 0.00042374277812265437, 0.00085721150950225644, -0.0012693917562107138, 0.0021859809223345877, -0.00084237890259745984, 0.0010019201780390868, 0.00078172388383991598, 0.00022403235978064873, 0.0023234993186977693, 0.00086429486506768571, -0.00031939430019596593, -0.0003468390876975036, -0.0014414382956408761, -0.00071868718749633353, 0.00016225573511574609, -0.00053959059439512291, 0.0009814395603757603, -0.00014057288590606232, -0.00031962566072522847, -0.00023688992275693044, -0.0015582937902873656, -0.00024395049281568382, -0.0010283450180476328, 0.0010845647739807091, -0.0016822045967987698, 0.00026558426554944281, 0.00035487578696719035, -0.00049871524290132085, 0.0012702942707077808, 0.0011807801524171962, -0.00019563948676869225, -0.00028496080461823392, 0.00010735389099368609, 4.5482618839520761e-05, -0.0019781023498767203, 0.0025159335810332889, -0.00041597950493300895, -0.0014344916531154744, -0.0016888883296318075, -0.00095957793257528401, -0.0005329611962318348, -0.00066348562632498331, 0.0017932999058846572, -0.00076021806048975904, -0.00098032496539353364, 0.00015525826338315396, 0.0021858687475325156, 0.0005547124019615185, -0.00057403285362926659, 0.00091916340729539248, 0.0015662060456360094, 0.0002861770580148415, -0.0015309594248566066, 0.000616429433762819, 0.0015733209503645124, -0.0013381027542820473, -0.0005949218576813825, 0.0027982763261979182, -0.0013035816221401986, 0.00040309214552493311, 0.00013474784928803329, 0.000926309861186983, -0.00053967998369053305, 0.00079520702977063651, 0.00058204326192971834, 0.001050206645848123, 0.00028613148700150359, -0.00066359429566448247, -0.0026458149008591475, -0.0029693239509104852, -0.0013103670133876172, 0.00065772018257054254, 0.00017587909954906722, -0.0011728345951741853, -0.00048458533912738855, -0.0020884826867127726, 0.0031489882868338398, -0.00089089848366703805, 0.0013324687653737954, -0.00078747705847537208, 0.0022544167415945865, 0.002048110226983646, 0.0011396156002617813, -0.00095272944300170415, -0.00097359916700970328, -0.00046403285948148909, 0.00053381638698427047, -0.00025064474203642662, -0.00087667568513515037, -0.00043673179594509726, 0.002598744686446719, -3.0544848057784124e-05, 0.0012081548306674406, 0.00022397101418575316, 0.001091190666681438, -0.0011110965305975024, -0.0013243707205092131, -0.0018478355712820693, 0.00042391980398216733, 0.00096046817795338024, 0.0017109392524107814, -0.0015171082053565682, -0.0022125880463965131, -0.002184701570611805, -0.00078771718266106017, -0.00046410997965791456, 0.0023717805283129528, -0.00043655301735429086, 6.5863330819745936e-05, -0.00091841863861373552, -0.0012004774413106323, -0.00022346812242107772, -0.00049159858544152446, 0.00038249409486568187, -0.0014963383870316566, -0.0014483481308093515, -0.0023913866751797269, -0.00016834543415743253, -0.0014139251516193108, 0.00085730265152893226, 0.00027932856844126164, -0.00022989420375560399, 0.001456100887611278, -0.0015032604913191167, -0.00031280521485214929, -0.00026437852854054034, -0.00063603207516702009, -0.0017167625362975447, 0.0010088370241326944, -0.00091833976570603049, 0.00013460412532287358, -0.00071184220338532667, -0.0003610496171104205, -0.00031301203714348413, -0.0012004125902531776, 0.0012224319638690778, -0.0021571866738589601, 0.0020553408119767941, 3.8460608868973178e-05, 0.0011397838624648965, -0.0014206684773159645, -0.00053986927866903067, 0.000465240349221685, -8.5628976233223519e-05, 0.0017176632980633183, 0.0011808660362500195, 0.0021579945408667922, -0.00049821921994841478, 0.0021790518071220094, 0.00071983683710422075, -0.0010766788096013141, -0.0007736538826758621, -0.0012212612814858081, 0.0025301756596092656, 0.00060254666509972077, 9.3202954444357444e-05, -0.0010561017917174592, -0.0014550897037747118, 0.00010719439244698259, -0.0015791459869825414, -0.00046405389225687155, -0.00082867491252514025, 0.00076799185006708182, 0.001648920750828925, 0.00051303955773424059, -0.00087005505062827393, -0.0010148846576235881, -0.0015929726682446244, 0.0025090377677150638, 0.0019517721573574093, 0.0010155803498293342, 0.00035494940168105671, 0.0020137573570449124, -0.0018337862931471494, 0.0012292716897862599, -0.00071860305639478983, -0.00042980969165765104, 0.0016005361300680671, -0.00051909770761282559, -0.0011384939943544087, 0.00065097510414262316, 0.00032731531920100754, -0.00011311582928553998, -0.0016961311837439402, -3.0399371361330974e-05, 0.00019668572523090511, 0.0013322952449768277, -0.0023638963166648375, -0.00015436977073635116, 0.0019518808266969223, -0.00039518339563886229, 0.00019673480170681601, 0.0011191419935235869, 0.00082302164357277163, -5.1135887791889378e-05, -0.0005601868923230946, 0.00041017550109036238, -0.0013726028536484997, -0.0010145621550676359, 0.00030010890315385064, -0.00025785604698545794, -0.0001338786366853334, 0.0023924942592368353, 0.0026814734134898988, -0.0026943572674354155, -0.0016755208639657182, -0.0009456566038239661, -0.00048505682384235305, -0.00049201047729287295, 0.0012907363282829015, -0.00062940267700373198, -0.00025057288005383982, 0.0006716011985023751, 5.9023604902577742e-05, -0.0015377938925799362, -0.00091150705071398053, -0.0014964470563711696, -0.001565485815192294, 0.00098815659510317899, -0.00036778768461322164, -0.0002438944054146408, 0.00075418795431168861, 0.00095389311445982783, 0.0006095791914579457, 0.0016077141331227451, 0.00069234647858933129, 0.0018345853964985559, -0.00052606538291362359, -0.0003608515584755112, -0.0010836307103205545, -0.0020745052705604117, 0.0012568146302396194, -0.0015720573732232734, -0.0012416279716157691, -0.0013933849410923821, -0.0012830308952255787, 0.00027911824068736768, 0.00010000236754205416, -0.00034026051874139207, -0.00078088972586284888, -0.0024189383792894981, -0.0019303154104831632, -0.00018202488599176891, 0.0015387577526718987, -0.00029913627940549026, -0.0011657722723841385, -0.0002986437619151433, -0.00044321747014323953, 0.0011396909677069272, 0.00055465280909793024, 0.00041030345047397832, -1.6577948293114431e-05, -0.0012487393708817268, -0.0016825411212049862, 8.6613869100568563e-05, 0.001993024346076927, -0.0014211452202247538, -0.00020250900911766845, -0.00047118106610437305, 0.00073346370700011487, 0.00040323411675879939, -0.0024809673972590596, 0.0037408503967784751, 0.00052689428269682426, -0.0017510926207296162, 0.00012793266160880667, -0.0015722116135761244, 0.00039629623788980939, -0.0018408486159371684, -0.00069825915177149089, 0.00014163840441239195, 0.00059585066314768453, 0.0013804695379838056, -0.002116044907210235, 0.00069219924916161246, -0.0004432490193063271, 0.00085696787985400924, -0.00045713529343199832, -0.0009938221331745184, 0.00032727500638152218, -0.00032632166267725082, -0.0020471218286537418, -0.00095956040526246067, -0.0012348057730114242, 0.00059587344865436043, 0.00032761328351900432, 9.3073252329461953e-05, -0.00067741747146400633, -0.0014345512459790627, 0.0020824035040587913, -0.0015034988627735252, -9.9257598860383323e-05, -0.00067083013885148313, 9.3209965369489556e-05, 0.00060276926197257163, 0.00039622963410108902, -0.0009250568004334353, 0.0016627421738971415, 0.0013116901833924582, -0.0019025674004697485, -0.00024372614321153951, -5.8084283048570606e-05, -0.00012008350458633799, -0.0015653052838702081, 0.00030694337087718015, 0.00023799400135146587, 0.00077481404867144055, -0.00087023207648778689, 0.00014842730112238356, 0.00051327792918864912, 0.0027362578246160618, -0.00056733685167724424, -4.4311936456251089e-05, -0.00061555321023498699, 0.00031385671150822858, 0.00036861833712771575, -0.00057418008305698542, 0.00091224656120178493, -0.0012486850362119772, 0.0022682907466012869, 0.0001486691780393512, 0.00024481444722453116, 0.00043058951496495468, -0.0016547738311474824, 0.0004787462806590953, 0.00099492270630649471, -0.0019369956378536418, 0.0010708993439966091, -0.0019300595117159314, 0.00040317101843263814, -0.0006153060751241668, 0.001573171968205514, 0.00075425806356298197, -0.0011180992605239332, 0.0010777408226450846, 0.00021039847895963637, 0.00051312193610451862, 0.0011121620491038181, 0.0011463221186015088, -0.0014482271923508538, 0.00012810793473705395, 0.00031371999846820098, -0.001282815309277846, 0.00079532446276656121, 0.0012425970899015842, -0.0011935658534108773, -0.0015789304010348226, 0.00027224170741325937, -0.0017232692432710695, -0.00062921864021908691, 0.00031352369256458512, 0.0018624666140894114, 0.0014081526969397518, 0.0006440775380931324, -0.00041573412255346831, -0.00014056587498094408, -2.3598205532382455e-05, 0.00045130850408267587, -0.001393118525937459, 0.00021081387627355785, -0.00049164766191743536, 0.0015454923147121269, -0.00024387161990797879, 0.0012843032360232293, 3.8781311322427792e-06, -7.1870651491154347e-05, -0.002783536614051077, -0.0020405695506668653, -0.00077362408624406798, 0.00087144832988440835, -9.2179501488806603e-05, -0.00082889926212928455, -7.8631504500631388e-05, -0.00070500247746813072, 0.00042383742561190318, 0.0011464220242845963, -0.0010010141580794468, -0.00067054794911501625, 0.00092627831202390931, 0.00053397413279969441, -0.00058105486359981418, -0.0013588287543248867, -0.0017992178372606693, -0.00089080208344650968, 0.00078858990072631918, 4.5324873024110701e-05, 0.0013390508397924522, -0.00012715283830150304, 0.0028878272518454567, -0.0023291858895444911, -0.0017098982721424211, 0.0025227592851002067, 0.00014838874103417776, -0.0012554125873270733, -0.0001270283943804601, -0.0019095087848013254, -0.00031268427639367935, 0.00084358989780021487, 0.00012769604288567771, 0.0013942261099945674, 0.00172438383825331, -0.00019562721764970759, -2.9580893223524196e-06, 0.00092658503999830388, -0.0018200595175681678, 0.00074011413793879932, -0.0019164571800579927, -0.00097327666445373717, 0.001036229229695762, -0.0021434353600420369, -0.0018405892117073913, -0.0012350686827037743, 0.00032055972438538305, -0.0017509699295398529, 8.615465350458873e-05, -5.0757297834894133e-05, 0.00200679844540054, -7.1768993076773424e-05, -0.0010765683875305215, -0.00075996391445380673, 3.9762840840645852e-06, -0.00012669537543681664, -0.00064313471077656614, -0.0016272431598130938, -0.0011110702396282535, 0.0011809308873074603, -0.00053976411479207675, -0.0019438844402467209, -0.00085632126412416021, 0.00026568942942639673, -0.0016618554339816183, -0.0013588655616818129, -0.00034704941545138368, 0.00064438251333626129, -0.0013034098544745243, 0.00091238853243566509, -0.0012692077194260687, 0.00092635367946904135, 0.00078864774085864175, -0.0010837761870169937, 0.00091934744408003755, 0.001869074979477317, 0.00062342340003285202, -0.0006293185459021744, 0.00063015270387922762, 0.0021512477097075655, 0.00023125418111738516, 0.0016006623267204034, -0.0014965154128911834, -0.00098059138054845674, -0.0017923518203742522, -0.0010972225255908019, 0.00012804834187343794, -0.00090464453929012256, 0.0015113585361836851, 0.00028609818510713647, 0.0010913256269901722, -0.0024737140267592495, 0.0015666968103950629, -0.0013585413063945811, -0.00040902409875119561, -0.0010626733497484386, -0.00082190354312797198, 0.00018993363587785361, -0.00038847161910529615, -0.0013658069460133759, -0.00028512906682133521, -0.0024739839473767317, 0.00031378134406308267, -0.0014761977992371195, -0.00012656041512806859, 0.0018553639784798792, -0.0017444386843283588, 0.0012980843462719605, 0.0027089199537227437, 0.00065103820246878441, -0.00035403461806500502, 0.00078199555718869163, -0.0012898916539181432, 0.00044442320715215589, -0.0019370710052987739, 0.0016902430487997361, -0.0020264063449985936, -0.00038131990701985308, -2.3459739761075293e-05, -0.0010076751054058364, -0.00027804746398719937, 0.0018211127669555127, 0.00052723080710304071, -0.00022995379661922, 0.00069234823132062473, 0.0012632792716623653, -0.00045735789030486307, -0.00027840677390007784, 0.00027915855350685304, 0.0014906868708105814, 0.00080936322451380383, 0.000334304027277188, 0.00064411785091261775, -0.00083560402773771858, -0.000195576388442531, 0.00011417608959803094, -0.00080113898299691289, -0.00098734522263278779, -0.00078750685490716621, -0.00091828192557370791, 0.00063039107533363614, 0.00092620645004132252, 0.00027229604208302283, 0.0013182722578111289, 5.2220686342335787e-05, 0.00077487364153504268, 0.0016902132523679281, 0.00054779205040535184, -0.0015999140525761874, -0.00095281182137196829, 0.00040998270064929176, -9.736469644652801e-06, 0.0011671147224330825, 0.0013801943591724708, 0.0012222812289787999, -0.0016821993386049172, 0.00029986702623689687, -0.0018199017717527438, -0.0010354914719392372, 0.00056848474855383802, 0.0016351746952058266, 0.0023990325153734476, 0.0010296156061140177, -0.0011387288603462581, -0.00023689518095076911, -1.7126553184504401e-05, 0.00058217646950717294, 0.0018966634909440144, 0.00036177335301668112, 0.0017796327231692916, 0.0016558042950281515, 0.0011051733410276515, -0.0011522418027087866, 0.00024487053462557418, 0.00045811317537421126, 0.00043772194700628098, -0.0016684532829818327, 0.0013873530821830321, -0.0030864195697426627, 0.00038256770957954822, -0.00039521143933939074, -0.00028515185232799722, 0.0011670726568823037, -0.00063630725397835486, -0.00053297697081337858, -0.00036779820100091287, 0.0011463957333153613, -0.0030038503412461726, 0.0012290543511072477, -0.0020402943718555444, 0.00066479302174828059, -0.0010767156169582404, 0.00043759575035395848, -0.00031941182750877539, -0.00097348699220763113, -0.0016414940020455099, -0.00061560754490475045, -0.0023636351597037669, 0.00093282182635436028, -0.0022883017743942774, 0.0008230304072291833, -0.00045722292999611502, -0.00066335942967266082, 3.8385241423841143e-05, -0.00054671251004875798, -0.00026434522664615934, -0.0019369658414218477, -0.00086310314990903358, -0.00077365037721330299, 0.00066488591650624984, 1.7625939486620723e-05, 0.0029016364057947025, -0.00011999586802220741, 0.0016834716794025817, -0.00041607415242225776, 0.00038938114452749528, 0.00083004715900587833, 0.0013390648616427164, 0.00077466857197501515, -0.0025494680675764991, 0.0005408664406553465, 0.00068532972681265014, 0.0020825612498742013, 0.0012498154057757477, -0.00060868193515471736, 0.00051325689641325278, -0.0017100963307773165, -0.0010216087032761251, -0.00014067980251428192, 8.6771614915964745e-05, 0.00034112447315025329, -0.0008903481260443824, -0.00080817676754899037, 0.00010034765560466841, 0.0004376483322924285, 0.00023814824170430293, -0.001957684830539555, 0.00032077531033311568, -0.0010490815344781912, -0.00063627921027784029, 8.622651548714777e-05, -0.00060846985466955772, 0.00054802516366590781, -0.0016273185272582258, -0.00014049576572965072, -0.00078074950736026216, 0.0025091429315920039, -0.0003329826100036265, -0.0014278447276393491]\n"
     ]
    }
   ],
   "source": [
    "print(p_diffs)"
   ]
  },
  {
   "cell_type": "markdown",
   "metadata": {},
   "source": [
    "i. Plot a histogram of the **p_diffs**.  Does this plot look like what you expected?  Use the matching problem in the classroom to assure you fully understand what was computed here."
   ]
  },
  {
   "cell_type": "code",
   "execution_count": 27,
   "metadata": {},
   "outputs": [
    {
     "data": {
      "image/png": "[encoded data removed]",
      "text/plain": [
       "<matplotlib.figure.Figure at 0x7fa7ae35a6a0>"
      ]
     },
     "metadata": {
      "needs_background": "light"
     },
     "output_type": "display_data"
    }
   ],
   "source": [
    "plt.hist(p_diffs);\n"
   ]
  },
  {
   "cell_type": "markdown",
   "metadata": {},
   "source": [
    "j. What proportion of the **p_diffs** are greater than the actual difference observed in **ab_data.csv**?"
   ]
  },
  {
   "cell_type": "code",
   "execution_count": 28,
   "metadata": {},
   "outputs": [
    {
     "name": "stdout",
     "output_type": "stream",
     "text": [
      "0.8999\n"
     ]
    }
   ],
   "source": [
    "actual_diff = df2.query('landing_page == \"new_page\"').converted.mean() - df2.query('landing_page == \"old_page\"').converted.mean()\n",
    "p_diffs = np.array(p_diffs)\n",
    "result = (p_diffs > actual_diff).mean()\n",
    "print(result)"
   ]
  },
  {
   "cell_type": "markdown",
   "metadata": {},
   "source": [
    "k. Please explain using the vocabulary you've learned in this course what you just computed in part **j.**  What is this value called in scientific studies?  What does this value mean in terms of whether or not there is a difference between the new and old pages?"
   ]
  },
  {
   "cell_type": "markdown",
   "metadata": {},
   "source": [
    "in this course we have learend about the p-value, which is a really useful statistical tool. from the p-value we can see that rejecting the null hypothisis is not possiable as at is bigger than 5% (0.05). and there is no diffrence between old and new pages"
   ]
  },
  {
   "cell_type": "markdown",
   "metadata": {},
   "source": [
    "l. We could also use a built-in to achieve similar results.  Though using the built-in might be easier to code, the above portions are a walkthrough of the ideas that are critical to correctly thinking about statistical significance. Fill in the below to calculate the number of conversions for each page, as well as the number of individuals who received each page. Let `n_old` and `n_new` refer the the number of rows associated with the old page and new pages, respectively."
   ]
  },
  {
   "cell_type": "code",
   "execution_count": 29,
   "metadata": {},
   "outputs": [
    {
     "name": "stderr",
     "output_type": "stream",
     "text": [
      "/opt/conda/lib/python3.6/site-packages/statsmodels/compat/pandas.py:56: FutureWarning: The pandas.core.datetools module is deprecated and will be removed in a future version. Please use the pandas.tseries module instead.\n",
      "  from pandas.core import datetools\n"
     ]
    }
   ],
   "source": [
    "import statsmodels.api as sm\n",
    "\n",
    "\n",
    "convert_old = df2.query('group == \"control\" & converted == 1')['user_id'].nunique() \n",
    "convert_new = df2.query('group == \"treatment\" & converted == 1')['user_id'].nunique()\n",
    "n_old = df2.query('landing_page == \"old_page\"')['user_id'].nunique() \n",
    "n_new = df2.query('landing_page == \"new_page\"')['user_id'].nunique()"
   ]
  },
  {
   "cell_type": "markdown",
   "metadata": {},
   "source": [
    "m. Now use `stats.proportions_ztest` to compute your test statistic and p-value.  [Here](https://docs.w3cub.com/statsmodels/generated/statsmodels.stats.proportion.proportions_ztest/) is a helpful link on using the built in."
   ]
  },
  {
   "cell_type": "code",
   "execution_count": 30,
   "metadata": {},
   "outputs": [
    {
     "name": "stdout",
     "output_type": "stream",
     "text": [
      "-1.31092419842 0.905058312759\n"
     ]
    }
   ],
   "source": [
    "z_score, p_value = sm.stats.proportions_ztest([convert_new, convert_old], [n_new, n_old], alternative = 'larger')\n",
    "print(z_score, p_value)"
   ]
  },
  {
   "cell_type": "markdown",
   "metadata": {},
   "source": [
    "n. What do the z-score and p-value you computed in the previous question mean for the conversion rates of the old and new pages?  Do they agree with the findings in parts **j.** and **k.**?"
   ]
  },
  {
   "cell_type": "markdown",
   "metadata": {},
   "source": [
    "**z-score = -1.3 sd is less than the mean\n",
    "  p_value = 0.9 \n",
    "  yes they do and the result is the same rejection is not possibale\n",
    "  **"
   ]
  },
  {
   "cell_type": "markdown",
   "metadata": {},
   "source": [
    "<a id='regression'></a>\n",
    "### Part III - A regression approach\n",
    "\n",
    "`1.` In this final part, you will see that the result you achieved in the A/B test in Part II above can also be achieved by performing regression.<br><br> \n",
    "\n",
    "a. Since each row is either a conversion or no conversion, what type of regression should you be performing in this case?"
   ]
  },
  {
   "cell_type": "markdown",
   "metadata": {},
   "source": [
    "**becuse its either conversion or no conversion 0 or 1 we call it binary variants and it's best suited with logistic regression **"
   ]
  },
  {
   "cell_type": "markdown",
   "metadata": {},
   "source": [
    "b. The goal is to use **statsmodels** to fit the regression model you specified in part **a.** to see if there is a significant difference in conversion based on which page a customer receives. However, you first need to create in df2 a column for the intercept, and create a dummy variable column for which page each user received.  Add an **intercept** column, as well as an **ab_page** column, which is 1 when an individual receives the **treatment** and 0 if **control**."
   ]
  },
  {
   "cell_type": "code",
   "execution_count": 31,
   "metadata": {},
   "outputs": [],
   "source": [
    "df2['intercept'] = 1\n",
    "\n",
    "df2[['ab_page', 'old_page']] = pd.get_dummies(df2['landing_page'])\n",
    "\n"
   ]
  },
  {
   "cell_type": "markdown",
   "metadata": {},
   "source": [
    "c. Use **statsmodels** to instantiate your regression model on the two columns you created in part b., then fit the model using the two columns you created in part **b.** to predict whether or not an individual converts. "
   ]
  },
  {
   "cell_type": "code",
   "execution_count": 32,
   "metadata": {},
   "outputs": [
    {
     "name": "stdout",
     "output_type": "stream",
     "text": [
      "Optimization terminated successfully.\n",
      "         Current function value: 0.366118\n",
      "         Iterations 6\n"
     ]
    }
   ],
   "source": [
    "#Creating regression model \n",
    "logit_model = sm.Logit(df2['converted'], df2[['intercept', 'ab_page']])\n",
    "#method to find fit to prevent repititve code\n",
    "def fitter(x):\n",
    "    return x.fit()\n",
    "#fiting\n",
    "fit_lm = fitter(logit_model)"
   ]
  },
  {
   "cell_type": "markdown",
   "metadata": {},
   "source": [
    "d. Provide the summary of your model below, and use it as necessary to answer the following questions."
   ]
  },
  {
   "cell_type": "code",
   "execution_count": 33,
   "metadata": {},
   "outputs": [
    {
     "data": {
      "text/html": [
       "<table class=\"simpletable\">\n",
       "<tr>\n",
       "        <td>Model:</td>              <td>Logit</td>       <td>No. Iterations:</td>    <td>6.0000</td>   \n",
       "</tr>\n",
       "<tr>\n",
       "  <td>Dependent Variable:</td>     <td>converted</td>    <td>Pseudo R-squared:</td>    <td>0.000</td>   \n",
       "</tr>\n",
       "<tr>\n",
       "         <td>Date:</td>        <td>2021-07-29 16:57</td>       <td>AIC:</td>        <td>212780.6032</td>\n",
       "</tr>\n",
       "<tr>\n",
       "   <td>No. Observations:</td>       <td>290585</td>            <td>BIC:</td>        <td>212801.7625</td>\n",
       "</tr>\n",
       "<tr>\n",
       "       <td>Df Model:</td>              <td>1</td>         <td>Log-Likelihood:</td>  <td>-1.0639e+05</td>\n",
       "</tr>\n",
       "<tr>\n",
       "     <td>Df Residuals:</td>         <td>290583</td>          <td>LL-Null:</td>      <td>-1.0639e+05</td>\n",
       "</tr>\n",
       "<tr>\n",
       "      <td>Converged:</td>           <td>1.0000</td>           <td>Scale:</td>         <td>1.0000</td>   \n",
       "</tr>\n",
       "</table>\n",
       "<table class=\"simpletable\">\n",
       "<tr>\n",
       "      <td></td>       <th>Coef.</th>  <th>Std.Err.</th>     <th>z</th>      <th>P>|z|</th> <th>[0.025</th>  <th>0.975]</th> \n",
       "</tr>\n",
       "<tr>\n",
       "  <th>intercept</th> <td>-1.9888</td>  <td>0.0081</td>  <td>-246.6690</td> <td>0.0000</td> <td>-2.0046</td> <td>-1.9730</td>\n",
       "</tr>\n",
       "<tr>\n",
       "  <th>ab_page</th>   <td>-0.0150</td>  <td>0.0114</td>   <td>-1.3116</td>  <td>0.1897</td> <td>-0.0374</td> <td>0.0074</td> \n",
       "</tr>\n",
       "</table>"
      ],
      "text/plain": [
       "<class 'statsmodels.iolib.summary2.Summary'>\n",
       "\"\"\"\n",
       "                          Results: Logit\n",
       "==================================================================\n",
       "Model:              Logit            No. Iterations:   6.0000     \n",
       "Dependent Variable: converted        Pseudo R-squared: 0.000      \n",
       "Date:               2021-07-29 16:57 AIC:              212780.6032\n",
       "No. Observations:   290585           BIC:              212801.7625\n",
       "Df Model:           1                Log-Likelihood:   -1.0639e+05\n",
       "Df Residuals:       290583           LL-Null:          -1.0639e+05\n",
       "Converged:          1.0000           Scale:            1.0000     \n",
       "-------------------------------------------------------------------\n",
       "              Coef.   Std.Err.      z      P>|z|    [0.025   0.975]\n",
       "-------------------------------------------------------------------\n",
       "intercept    -1.9888    0.0081  -246.6690  0.0000  -2.0046  -1.9730\n",
       "ab_page      -0.0150    0.0114    -1.3116  0.1897  -0.0374   0.0074\n",
       "==================================================================\n",
       "\n",
       "\"\"\""
      ]
     },
     "execution_count": 33,
     "metadata": {},
     "output_type": "execute_result"
    }
   ],
   "source": [
    "#finiding summary\n",
    "fit_lm.summary2()"
   ]
  },
  {
   "cell_type": "markdown",
   "metadata": {},
   "source": [
    "e. What is the p-value associated with **ab_page**? Why does it differ from the value you found in **Part II**?<br><br>  **Hint**: What are the null and alternative hypotheses associated with your regression model, and how do they compare to the null and alternative hypotheses in **Part II**?"
   ]
  },
  {
   "cell_type": "markdown",
   "metadata": {},
   "source": [
    "**The p-value 0.19 i assume it differs becuase of the test type as it two tailed, but still rejectition of the null hypothesis is not possabile for the same reason as part II.**"
   ]
  },
  {
   "cell_type": "markdown",
   "metadata": {},
   "source": [
    "f. Now, you are considering other things that might influence whether or not an individual converts.  Discuss why it is a good idea to consider other factors to add into your regression model.  Are there any disadvantages to adding additional terms into your regression model?"
   ]
  },
  {
   "cell_type": "markdown",
   "metadata": {},
   "source": [
    "**demographics such as age,gender and geolocation such as tech savvy areas, and loctions with high concentrations of a certain demoghrapic like old people, might be useful and it could help in gaining insights however it will make the anlysis harder as it is more complex to do **"
   ]
  },
  {
   "cell_type": "markdown",
   "metadata": {},
   "source": [
    "g. Now along with testing if the conversion rate changes for different pages, also add an effect based on which country a user lives in. You will need to read in the **countries.csv** dataset and merge together your datasets on the appropriate rows.  [Here](https://pandas.pydata.org/pandas-docs/stable/generated/pandas.DataFrame.join.html) are the docs for joining tables. \n",
    "\n"
   ]
  },
  {
   "cell_type": "code",
   "execution_count": 34,
   "metadata": {},
   "outputs": [
    {
     "name": "stdout",
     "output_type": "stream",
     "text": [
      "<class 'pandas.core.frame.DataFrame'>\n",
      "RangeIndex: 290584 entries, 0 to 290583\n",
      "Data columns (total 2 columns):\n",
      "user_id    290584 non-null int64\n",
      "country    290584 non-null object\n",
      "dtypes: int64(1), object(1)\n",
      "memory usage: 4.4+ MB\n"
     ]
    },
    {
     "data": {
      "text/html": [
       "<div>\n",
       "<style scoped>\n",
       "    .dataframe tbody tr th:only-of-type {\n",
       "        vertical-align: middle;\n",
       "    }\n",
       "\n",
       "    .dataframe tbody tr th {\n",
       "        vertical-align: top;\n",
       "    }\n",
       "\n",
       "    .dataframe thead th {\n",
       "        text-align: right;\n",
       "    }\n",
       "</style>\n",
       "<table border=\"1\" class=\"dataframe\">\n",
       "  <thead>\n",
       "    <tr style=\"text-align: right;\">\n",
       "      <th></th>\n",
       "      <th>country</th>\n",
       "      <th>timestamp</th>\n",
       "      <th>group</th>\n",
       "      <th>landing_page</th>\n",
       "      <th>converted</th>\n",
       "      <th>intercept</th>\n",
       "      <th>ab_page</th>\n",
       "      <th>old_page</th>\n",
       "    </tr>\n",
       "    <tr>\n",
       "      <th>user_id</th>\n",
       "      <th></th>\n",
       "      <th></th>\n",
       "      <th></th>\n",
       "      <th></th>\n",
       "      <th></th>\n",
       "      <th></th>\n",
       "      <th></th>\n",
       "      <th></th>\n",
       "    </tr>\n",
       "  </thead>\n",
       "  <tbody>\n",
       "    <tr>\n",
       "      <th>945994</th>\n",
       "      <td>UK</td>\n",
       "      <td>2017-01-03 14:41:21.565258</td>\n",
       "      <td>control</td>\n",
       "      <td>old_page</td>\n",
       "      <td>0</td>\n",
       "      <td>1</td>\n",
       "      <td>0</td>\n",
       "      <td>1</td>\n",
       "    </tr>\n",
       "    <tr>\n",
       "      <th>945996</th>\n",
       "      <td>US</td>\n",
       "      <td>2017-01-09 18:58:19.952277</td>\n",
       "      <td>treatment</td>\n",
       "      <td>new_page</td>\n",
       "      <td>0</td>\n",
       "      <td>1</td>\n",
       "      <td>1</td>\n",
       "      <td>0</td>\n",
       "    </tr>\n",
       "    <tr>\n",
       "      <th>945997</th>\n",
       "      <td>US</td>\n",
       "      <td>2017-01-04 06:56:24.658147</td>\n",
       "      <td>control</td>\n",
       "      <td>old_page</td>\n",
       "      <td>0</td>\n",
       "      <td>1</td>\n",
       "      <td>0</td>\n",
       "      <td>1</td>\n",
       "    </tr>\n",
       "    <tr>\n",
       "      <th>945998</th>\n",
       "      <td>CA</td>\n",
       "      <td>2017-01-16 07:08:02.207969</td>\n",
       "      <td>control</td>\n",
       "      <td>old_page</td>\n",
       "      <td>0</td>\n",
       "      <td>1</td>\n",
       "      <td>0</td>\n",
       "      <td>1</td>\n",
       "    </tr>\n",
       "    <tr>\n",
       "      <th>945999</th>\n",
       "      <td>US</td>\n",
       "      <td>2017-01-16 04:56:21.132067</td>\n",
       "      <td>treatment</td>\n",
       "      <td>new_page</td>\n",
       "      <td>0</td>\n",
       "      <td>1</td>\n",
       "      <td>1</td>\n",
       "      <td>0</td>\n",
       "    </tr>\n",
       "  </tbody>\n",
       "</table>\n",
       "</div>"
      ],
      "text/plain": [
       "        country                   timestamp      group landing_page  \\\n",
       "user_id                                                               \n",
       "945994       UK  2017-01-03 14:41:21.565258    control     old_page   \n",
       "945996       US  2017-01-09 18:58:19.952277  treatment     new_page   \n",
       "945997       US  2017-01-04 06:56:24.658147    control     old_page   \n",
       "945998       CA  2017-01-16 07:08:02.207969    control     old_page   \n",
       "945999       US  2017-01-16 04:56:21.132067  treatment     new_page   \n",
       "\n",
       "         converted  intercept  ab_page  old_page  \n",
       "user_id                                           \n",
       "945994           0          1        0         1  \n",
       "945996           0          1        1         0  \n",
       "945997           0          1        0         1  \n",
       "945998           0          1        0         1  \n",
       "945999           0          1        1         0  "
      ]
     },
     "execution_count": 34,
     "metadata": {},
     "output_type": "execute_result"
    }
   ],
   "source": [
    "df3 = pd.read_csv('countries.csv')\n",
    "df3.info()\n",
    "#getting all the data we need\n",
    "df3 = df3.set_index('user_id').join(df2.set_index('user_id'), how='inner')\n",
    "\n",
    "df3.tail()"
   ]
  },
  {
   "cell_type": "code",
   "execution_count": 35,
   "metadata": {},
   "outputs": [
    {
     "data": {
      "text/plain": [
       "array(['US', 'UK', 'CA'], dtype=object)"
      ]
     },
     "execution_count": 35,
     "metadata": {},
     "output_type": "execute_result"
    }
   ],
   "source": [
    "df3.country.unique()\n"
   ]
  },
  {
   "cell_type": "code",
   "execution_count": 36,
   "metadata": {},
   "outputs": [
    {
     "data": {
      "text/html": [
       "<div>\n",
       "<style scoped>\n",
       "    .dataframe tbody tr th:only-of-type {\n",
       "        vertical-align: middle;\n",
       "    }\n",
       "\n",
       "    .dataframe tbody tr th {\n",
       "        vertical-align: top;\n",
       "    }\n",
       "\n",
       "    .dataframe thead th {\n",
       "        text-align: right;\n",
       "    }\n",
       "</style>\n",
       "<table border=\"1\" class=\"dataframe\">\n",
       "  <thead>\n",
       "    <tr style=\"text-align: right;\">\n",
       "      <th></th>\n",
       "      <th>country</th>\n",
       "      <th>timestamp</th>\n",
       "      <th>group</th>\n",
       "      <th>landing_page</th>\n",
       "      <th>converted</th>\n",
       "      <th>intercept</th>\n",
       "      <th>ab_page</th>\n",
       "      <th>old_page</th>\n",
       "      <th>UK</th>\n",
       "      <th>US</th>\n",
       "      <th>CA</th>\n",
       "    </tr>\n",
       "    <tr>\n",
       "      <th>user_id</th>\n",
       "      <th></th>\n",
       "      <th></th>\n",
       "      <th></th>\n",
       "      <th></th>\n",
       "      <th></th>\n",
       "      <th></th>\n",
       "      <th></th>\n",
       "      <th></th>\n",
       "      <th></th>\n",
       "      <th></th>\n",
       "      <th></th>\n",
       "    </tr>\n",
       "  </thead>\n",
       "  <tbody>\n",
       "    <tr>\n",
       "      <th>945994</th>\n",
       "      <td>UK</td>\n",
       "      <td>2017-01-03 14:41:21.565258</td>\n",
       "      <td>control</td>\n",
       "      <td>old_page</td>\n",
       "      <td>0</td>\n",
       "      <td>1</td>\n",
       "      <td>0</td>\n",
       "      <td>1</td>\n",
       "      <td>0</td>\n",
       "      <td>1</td>\n",
       "      <td>0</td>\n",
       "    </tr>\n",
       "    <tr>\n",
       "      <th>945996</th>\n",
       "      <td>US</td>\n",
       "      <td>2017-01-09 18:58:19.952277</td>\n",
       "      <td>treatment</td>\n",
       "      <td>new_page</td>\n",
       "      <td>0</td>\n",
       "      <td>1</td>\n",
       "      <td>1</td>\n",
       "      <td>0</td>\n",
       "      <td>0</td>\n",
       "      <td>0</td>\n",
       "      <td>1</td>\n",
       "    </tr>\n",
       "    <tr>\n",
       "      <th>945997</th>\n",
       "      <td>US</td>\n",
       "      <td>2017-01-04 06:56:24.658147</td>\n",
       "      <td>control</td>\n",
       "      <td>old_page</td>\n",
       "      <td>0</td>\n",
       "      <td>1</td>\n",
       "      <td>0</td>\n",
       "      <td>1</td>\n",
       "      <td>0</td>\n",
       "      <td>0</td>\n",
       "      <td>1</td>\n",
       "    </tr>\n",
       "    <tr>\n",
       "      <th>945998</th>\n",
       "      <td>CA</td>\n",
       "      <td>2017-01-16 07:08:02.207969</td>\n",
       "      <td>control</td>\n",
       "      <td>old_page</td>\n",
       "      <td>0</td>\n",
       "      <td>1</td>\n",
       "      <td>0</td>\n",
       "      <td>1</td>\n",
       "      <td>1</td>\n",
       "      <td>0</td>\n",
       "      <td>0</td>\n",
       "    </tr>\n",
       "    <tr>\n",
       "      <th>945999</th>\n",
       "      <td>US</td>\n",
       "      <td>2017-01-16 04:56:21.132067</td>\n",
       "      <td>treatment</td>\n",
       "      <td>new_page</td>\n",
       "      <td>0</td>\n",
       "      <td>1</td>\n",
       "      <td>1</td>\n",
       "      <td>0</td>\n",
       "      <td>0</td>\n",
       "      <td>0</td>\n",
       "      <td>1</td>\n",
       "    </tr>\n",
       "  </tbody>\n",
       "</table>\n",
       "</div>"
      ],
      "text/plain": [
       "        country                   timestamp      group landing_page  \\\n",
       "user_id                                                               \n",
       "945994       UK  2017-01-03 14:41:21.565258    control     old_page   \n",
       "945996       US  2017-01-09 18:58:19.952277  treatment     new_page   \n",
       "945997       US  2017-01-04 06:56:24.658147    control     old_page   \n",
       "945998       CA  2017-01-16 07:08:02.207969    control     old_page   \n",
       "945999       US  2017-01-16 04:56:21.132067  treatment     new_page   \n",
       "\n",
       "         converted  intercept  ab_page  old_page  UK  US  CA  \n",
       "user_id                                                       \n",
       "945994           0          1        0         1   0   1   0  \n",
       "945996           0          1        1         0   0   0   1  \n",
       "945997           0          1        0         1   0   0   1  \n",
       "945998           0          1        0         1   1   0   0  \n",
       "945999           0          1        1         0   0   0   1  "
      ]
     },
     "execution_count": 36,
     "metadata": {},
     "output_type": "execute_result"
    }
   ],
   "source": [
    "df3[['UK','US', 'CA']] = pd.get_dummies(df3['country'])\n",
    "df3.head()\n",
    "df3.tail()"
   ]
  },
  {
   "cell_type": "code",
   "execution_count": 37,
   "metadata": {},
   "outputs": [
    {
     "data": {
      "text/html": [
       "<div>\n",
       "<style scoped>\n",
       "    .dataframe tbody tr th:only-of-type {\n",
       "        vertical-align: middle;\n",
       "    }\n",
       "\n",
       "    .dataframe tbody tr th {\n",
       "        vertical-align: top;\n",
       "    }\n",
       "\n",
       "    .dataframe thead th {\n",
       "        text-align: right;\n",
       "    }\n",
       "</style>\n",
       "<table border=\"1\" class=\"dataframe\">\n",
       "  <thead>\n",
       "    <tr style=\"text-align: right;\">\n",
       "      <th></th>\n",
       "      <th>country</th>\n",
       "      <th>timestamp</th>\n",
       "      <th>group</th>\n",
       "      <th>landing_page</th>\n",
       "      <th>converted</th>\n",
       "      <th>intercept</th>\n",
       "      <th>ab_page</th>\n",
       "      <th>old_page</th>\n",
       "      <th>UK</th>\n",
       "      <th>US</th>\n",
       "      <th>CA</th>\n",
       "    </tr>\n",
       "    <tr>\n",
       "      <th>user_id</th>\n",
       "      <th></th>\n",
       "      <th></th>\n",
       "      <th></th>\n",
       "      <th></th>\n",
       "      <th></th>\n",
       "      <th></th>\n",
       "      <th></th>\n",
       "      <th></th>\n",
       "      <th></th>\n",
       "      <th></th>\n",
       "      <th></th>\n",
       "    </tr>\n",
       "  </thead>\n",
       "  <tbody>\n",
       "    <tr>\n",
       "      <th>630000</th>\n",
       "      <td>US</td>\n",
       "      <td>2017-01-19 06:26:06.548941</td>\n",
       "      <td>treatment</td>\n",
       "      <td>new_page</td>\n",
       "      <td>0</td>\n",
       "      <td>1</td>\n",
       "      <td>1</td>\n",
       "      <td>0</td>\n",
       "      <td>0</td>\n",
       "      <td>0</td>\n",
       "      <td>1</td>\n",
       "    </tr>\n",
       "    <tr>\n",
       "      <th>630001</th>\n",
       "      <td>US</td>\n",
       "      <td>2017-01-16 03:16:42.560309</td>\n",
       "      <td>treatment</td>\n",
       "      <td>new_page</td>\n",
       "      <td>1</td>\n",
       "      <td>1</td>\n",
       "      <td>1</td>\n",
       "      <td>0</td>\n",
       "      <td>0</td>\n",
       "      <td>0</td>\n",
       "      <td>1</td>\n",
       "    </tr>\n",
       "    <tr>\n",
       "      <th>630002</th>\n",
       "      <td>US</td>\n",
       "      <td>2017-01-19 19:20:56.438330</td>\n",
       "      <td>control</td>\n",
       "      <td>old_page</td>\n",
       "      <td>0</td>\n",
       "      <td>1</td>\n",
       "      <td>0</td>\n",
       "      <td>1</td>\n",
       "      <td>0</td>\n",
       "      <td>0</td>\n",
       "      <td>1</td>\n",
       "    </tr>\n",
       "    <tr>\n",
       "      <th>630003</th>\n",
       "      <td>US</td>\n",
       "      <td>2017-01-12 10:09:31.510471</td>\n",
       "      <td>treatment</td>\n",
       "      <td>new_page</td>\n",
       "      <td>0</td>\n",
       "      <td>1</td>\n",
       "      <td>1</td>\n",
       "      <td>0</td>\n",
       "      <td>0</td>\n",
       "      <td>0</td>\n",
       "      <td>1</td>\n",
       "    </tr>\n",
       "    <tr>\n",
       "      <th>630004</th>\n",
       "      <td>US</td>\n",
       "      <td>2017-01-18 20:23:58.824994</td>\n",
       "      <td>treatment</td>\n",
       "      <td>new_page</td>\n",
       "      <td>0</td>\n",
       "      <td>1</td>\n",
       "      <td>1</td>\n",
       "      <td>0</td>\n",
       "      <td>0</td>\n",
       "      <td>0</td>\n",
       "      <td>1</td>\n",
       "    </tr>\n",
       "  </tbody>\n",
       "</table>\n",
       "</div>"
      ],
      "text/plain": [
       "        country                   timestamp      group landing_page  \\\n",
       "user_id                                                               \n",
       "630000       US  2017-01-19 06:26:06.548941  treatment     new_page   \n",
       "630001       US  2017-01-16 03:16:42.560309  treatment     new_page   \n",
       "630002       US  2017-01-19 19:20:56.438330    control     old_page   \n",
       "630003       US  2017-01-12 10:09:31.510471  treatment     new_page   \n",
       "630004       US  2017-01-18 20:23:58.824994  treatment     new_page   \n",
       "\n",
       "         converted  intercept  ab_page  old_page  UK  US  CA  \n",
       "user_id                                                       \n",
       "630000           0          1        1         0   0   0   1  \n",
       "630001           1          1        1         0   0   0   1  \n",
       "630002           0          1        0         1   0   0   1  \n",
       "630003           0          1        1         0   0   0   1  \n",
       "630004           0          1        1         0   0   0   1  "
      ]
     },
     "execution_count": 37,
     "metadata": {},
     "output_type": "execute_result"
    }
   ],
   "source": [
    "df3.head()"
   ]
  },
  {
   "cell_type": "code",
   "execution_count": 38,
   "metadata": {},
   "outputs": [
    {
     "name": "stdout",
     "output_type": "stream",
     "text": [
      "Optimization terminated successfully.\n",
      "         Current function value: 0.366112\n",
      "         Iterations 6\n"
     ]
    }
   ],
   "source": [
    "#Creating regression model \n",
    "\n",
    "log_model = sm.Logit(df3['converted'], df3[['intercept','ab_page','US','UK']])\n",
    "#fitiing \n",
    "fit = fitter(log_model)\n"
   ]
  },
  {
   "cell_type": "code",
   "execution_count": 39,
   "metadata": {
    "scrolled": true
   },
   "outputs": [
    {
     "data": {
      "text/html": [
       "<table class=\"simpletable\">\n",
       "<tr>\n",
       "        <td>Model:</td>              <td>Logit</td>       <td>No. Iterations:</td>    <td>6.0000</td>   \n",
       "</tr>\n",
       "<tr>\n",
       "  <td>Dependent Variable:</td>     <td>converted</td>    <td>Pseudo R-squared:</td>    <td>0.000</td>   \n",
       "</tr>\n",
       "<tr>\n",
       "         <td>Date:</td>        <td>2021-07-29 16:57</td>       <td>AIC:</td>        <td>212781.3782</td>\n",
       "</tr>\n",
       "<tr>\n",
       "   <td>No. Observations:</td>       <td>290585</td>            <td>BIC:</td>        <td>212823.6968</td>\n",
       "</tr>\n",
       "<tr>\n",
       "       <td>Df Model:</td>              <td>3</td>         <td>Log-Likelihood:</td>  <td>-1.0639e+05</td>\n",
       "</tr>\n",
       "<tr>\n",
       "     <td>Df Residuals:</td>         <td>290581</td>          <td>LL-Null:</td>      <td>-1.0639e+05</td>\n",
       "</tr>\n",
       "<tr>\n",
       "      <td>Converged:</td>           <td>1.0000</td>           <td>Scale:</td>         <td>1.0000</td>   \n",
       "</tr>\n",
       "</table>\n",
       "<table class=\"simpletable\">\n",
       "<tr>\n",
       "      <td></td>       <th>Coef.</th>  <th>Std.Err.</th>     <th>z</th>      <th>P>|z|</th> <th>[0.025</th>  <th>0.975]</th> \n",
       "</tr>\n",
       "<tr>\n",
       "  <th>intercept</th> <td>-1.9893</td>  <td>0.0089</td>  <td>-223.7629</td> <td>0.0000</td> <td>-2.0067</td> <td>-1.9718</td>\n",
       "</tr>\n",
       "<tr>\n",
       "  <th>ab_page</th>   <td>-0.0150</td>  <td>0.0114</td>   <td>-1.3076</td>  <td>0.1910</td> <td>-0.0374</td> <td>0.0075</td> \n",
       "</tr>\n",
       "<tr>\n",
       "  <th>US</th>        <td>0.0099</td>   <td>0.0133</td>   <td>0.7437</td>   <td>0.4570</td> <td>-0.0162</td> <td>0.0359</td> \n",
       "</tr>\n",
       "<tr>\n",
       "  <th>UK</th>        <td>-0.0408</td>  <td>0.0269</td>   <td>-1.5159</td>  <td>0.1296</td> <td>-0.0934</td> <td>0.0119</td> \n",
       "</tr>\n",
       "</table>"
      ],
      "text/plain": [
       "<class 'statsmodels.iolib.summary2.Summary'>\n",
       "\"\"\"\n",
       "                          Results: Logit\n",
       "==================================================================\n",
       "Model:              Logit            No. Iterations:   6.0000     \n",
       "Dependent Variable: converted        Pseudo R-squared: 0.000      \n",
       "Date:               2021-07-29 16:57 AIC:              212781.3782\n",
       "No. Observations:   290585           BIC:              212823.6968\n",
       "Df Model:           3                Log-Likelihood:   -1.0639e+05\n",
       "Df Residuals:       290581           LL-Null:          -1.0639e+05\n",
       "Converged:          1.0000           Scale:            1.0000     \n",
       "-------------------------------------------------------------------\n",
       "              Coef.   Std.Err.      z      P>|z|    [0.025   0.975]\n",
       "-------------------------------------------------------------------\n",
       "intercept    -1.9893    0.0089  -223.7629  0.0000  -2.0067  -1.9718\n",
       "ab_page      -0.0150    0.0114    -1.3076  0.1910  -0.0374   0.0075\n",
       "US            0.0099    0.0133     0.7437  0.4570  -0.0162   0.0359\n",
       "UK           -0.0408    0.0269    -1.5159  0.1296  -0.0934   0.0119\n",
       "==================================================================\n",
       "\n",
       "\"\"\""
      ]
     },
     "execution_count": 39,
     "metadata": {},
     "output_type": "execute_result"
    }
   ],
   "source": [
    "#printing summary\n",
    "fit.summary2()"
   ]
  },
  {
   "cell_type": "markdown",
   "metadata": {},
   "source": [
    "countries  P-value is bigger than 5% so countries do not effect the conversion rate"
   ]
  },
  {
   "cell_type": "markdown",
   "metadata": {},
   "source": [
    "h. Though you have now looked at the individual factors of country and page on conversion, we would now like to look at an interaction between page and country to see if there significant effects on conversion.  Create the necessary additional columns, and fit the new model.  \n",
    "\n",
    "Provide the summary results, and your conclusions based on the results."
   ]
  },
  {
   "cell_type": "code",
   "execution_count": 40,
   "metadata": {},
   "outputs": [
    {
     "data": {
      "text/html": [
       "<div>\n",
       "<style scoped>\n",
       "    .dataframe tbody tr th:only-of-type {\n",
       "        vertical-align: middle;\n",
       "    }\n",
       "\n",
       "    .dataframe tbody tr th {\n",
       "        vertical-align: top;\n",
       "    }\n",
       "\n",
       "    .dataframe thead th {\n",
       "        text-align: right;\n",
       "    }\n",
       "</style>\n",
       "<table border=\"1\" class=\"dataframe\">\n",
       "  <thead>\n",
       "    <tr style=\"text-align: right;\">\n",
       "      <th></th>\n",
       "      <th>country</th>\n",
       "      <th>timestamp</th>\n",
       "      <th>group</th>\n",
       "      <th>landing_page</th>\n",
       "      <th>converted</th>\n",
       "      <th>intercept</th>\n",
       "      <th>ab_page</th>\n",
       "      <th>old_page</th>\n",
       "      <th>UK</th>\n",
       "      <th>US</th>\n",
       "      <th>CA</th>\n",
       "      <th>ab_us</th>\n",
       "      <th>ab_uk</th>\n",
       "    </tr>\n",
       "    <tr>\n",
       "      <th>user_id</th>\n",
       "      <th></th>\n",
       "      <th></th>\n",
       "      <th></th>\n",
       "      <th></th>\n",
       "      <th></th>\n",
       "      <th></th>\n",
       "      <th></th>\n",
       "      <th></th>\n",
       "      <th></th>\n",
       "      <th></th>\n",
       "      <th></th>\n",
       "      <th></th>\n",
       "      <th></th>\n",
       "    </tr>\n",
       "  </thead>\n",
       "  <tbody>\n",
       "    <tr>\n",
       "      <th>630000</th>\n",
       "      <td>US</td>\n",
       "      <td>2017-01-19 06:26:06.548941</td>\n",
       "      <td>treatment</td>\n",
       "      <td>new_page</td>\n",
       "      <td>0</td>\n",
       "      <td>1</td>\n",
       "      <td>1</td>\n",
       "      <td>0</td>\n",
       "      <td>0</td>\n",
       "      <td>0</td>\n",
       "      <td>1</td>\n",
       "      <td>0</td>\n",
       "      <td>0</td>\n",
       "    </tr>\n",
       "    <tr>\n",
       "      <th>630001</th>\n",
       "      <td>US</td>\n",
       "      <td>2017-01-16 03:16:42.560309</td>\n",
       "      <td>treatment</td>\n",
       "      <td>new_page</td>\n",
       "      <td>1</td>\n",
       "      <td>1</td>\n",
       "      <td>1</td>\n",
       "      <td>0</td>\n",
       "      <td>0</td>\n",
       "      <td>0</td>\n",
       "      <td>1</td>\n",
       "      <td>0</td>\n",
       "      <td>0</td>\n",
       "    </tr>\n",
       "    <tr>\n",
       "      <th>630002</th>\n",
       "      <td>US</td>\n",
       "      <td>2017-01-19 19:20:56.438330</td>\n",
       "      <td>control</td>\n",
       "      <td>old_page</td>\n",
       "      <td>0</td>\n",
       "      <td>1</td>\n",
       "      <td>0</td>\n",
       "      <td>1</td>\n",
       "      <td>0</td>\n",
       "      <td>0</td>\n",
       "      <td>1</td>\n",
       "      <td>0</td>\n",
       "      <td>0</td>\n",
       "    </tr>\n",
       "    <tr>\n",
       "      <th>630003</th>\n",
       "      <td>US</td>\n",
       "      <td>2017-01-12 10:09:31.510471</td>\n",
       "      <td>treatment</td>\n",
       "      <td>new_page</td>\n",
       "      <td>0</td>\n",
       "      <td>1</td>\n",
       "      <td>1</td>\n",
       "      <td>0</td>\n",
       "      <td>0</td>\n",
       "      <td>0</td>\n",
       "      <td>1</td>\n",
       "      <td>0</td>\n",
       "      <td>0</td>\n",
       "    </tr>\n",
       "    <tr>\n",
       "      <th>630004</th>\n",
       "      <td>US</td>\n",
       "      <td>2017-01-18 20:23:58.824994</td>\n",
       "      <td>treatment</td>\n",
       "      <td>new_page</td>\n",
       "      <td>0</td>\n",
       "      <td>1</td>\n",
       "      <td>1</td>\n",
       "      <td>0</td>\n",
       "      <td>0</td>\n",
       "      <td>0</td>\n",
       "      <td>1</td>\n",
       "      <td>0</td>\n",
       "      <td>0</td>\n",
       "    </tr>\n",
       "  </tbody>\n",
       "</table>\n",
       "</div>"
      ],
      "text/plain": [
       "        country                   timestamp      group landing_page  \\\n",
       "user_id                                                               \n",
       "630000       US  2017-01-19 06:26:06.548941  treatment     new_page   \n",
       "630001       US  2017-01-16 03:16:42.560309  treatment     new_page   \n",
       "630002       US  2017-01-19 19:20:56.438330    control     old_page   \n",
       "630003       US  2017-01-12 10:09:31.510471  treatment     new_page   \n",
       "630004       US  2017-01-18 20:23:58.824994  treatment     new_page   \n",
       "\n",
       "         converted  intercept  ab_page  old_page  UK  US  CA  ab_us  ab_uk  \n",
       "user_id                                                                     \n",
       "630000           0          1        1         0   0   0   1      0      0  \n",
       "630001           1          1        1         0   0   0   1      0      0  \n",
       "630002           0          1        0         1   0   0   1      0      0  \n",
       "630003           0          1        1         0   0   0   1      0      0  \n",
       "630004           0          1        1         0   0   0   1      0      0  "
      ]
     },
     "execution_count": 40,
     "metadata": {},
     "output_type": "execute_result"
    }
   ],
   "source": [
    "df3['ab_us'] = df3['US'] * df3['ab_page']\n",
    "df3['ab_uk'] = df3['UK'] * df3['ab_page']\n",
    "df3.head()"
   ]
  },
  {
   "cell_type": "code",
   "execution_count": 41,
   "metadata": {},
   "outputs": [
    {
     "name": "stdout",
     "output_type": "stream",
     "text": [
      "Optimization terminated successfully.\n",
      "         Current function value: 0.366108\n",
      "         Iterations 6\n"
     ]
    },
    {
     "data": {
      "text/html": [
       "<table class=\"simpletable\">\n",
       "<tr>\n",
       "        <td>Model:</td>              <td>Logit</td>       <td>No. Iterations:</td>    <td>6.0000</td>   \n",
       "</tr>\n",
       "<tr>\n",
       "  <td>Dependent Variable:</td>     <td>converted</td>    <td>Pseudo R-squared:</td>    <td>0.000</td>   \n",
       "</tr>\n",
       "<tr>\n",
       "         <td>Date:</td>        <td>2021-07-29 16:57</td>       <td>AIC:</td>        <td>212782.9124</td>\n",
       "</tr>\n",
       "<tr>\n",
       "   <td>No. Observations:</td>       <td>290585</td>            <td>BIC:</td>        <td>212846.3903</td>\n",
       "</tr>\n",
       "<tr>\n",
       "       <td>Df Model:</td>              <td>5</td>         <td>Log-Likelihood:</td>  <td>-1.0639e+05</td>\n",
       "</tr>\n",
       "<tr>\n",
       "     <td>Df Residuals:</td>         <td>290579</td>          <td>LL-Null:</td>      <td>-1.0639e+05</td>\n",
       "</tr>\n",
       "<tr>\n",
       "      <td>Converged:</td>           <td>1.0000</td>           <td>Scale:</td>         <td>1.0000</td>   \n",
       "</tr>\n",
       "</table>\n",
       "<table class=\"simpletable\">\n",
       "<tr>\n",
       "      <td></td>       <th>Coef.</th>  <th>Std.Err.</th>     <th>z</th>      <th>P>|z|</th> <th>[0.025</th>  <th>0.975]</th> \n",
       "</tr>\n",
       "<tr>\n",
       "  <th>intercept</th> <td>-1.9865</td>  <td>0.0096</td>  <td>-206.3440</td> <td>0.0000</td> <td>-2.0053</td> <td>-1.9676</td>\n",
       "</tr>\n",
       "<tr>\n",
       "  <th>ab_page</th>   <td>-0.0206</td>  <td>0.0137</td>   <td>-1.5060</td>  <td>0.1321</td> <td>-0.0474</td> <td>0.0062</td> \n",
       "</tr>\n",
       "<tr>\n",
       "  <th>US</th>        <td>-0.0057</td>  <td>0.0188</td>   <td>-0.3057</td>  <td>0.7598</td> <td>-0.0426</td> <td>0.0311</td> \n",
       "</tr>\n",
       "<tr>\n",
       "  <th>UK</th>        <td>-0.0175</td>  <td>0.0377</td>   <td>-0.4652</td>  <td>0.6418</td> <td>-0.0914</td> <td>0.0563</td> \n",
       "</tr>\n",
       "<tr>\n",
       "  <th>ab_us</th>     <td>0.0314</td>   <td>0.0266</td>   <td>1.1811</td>   <td>0.2375</td> <td>-0.0207</td> <td>0.0835</td> \n",
       "</tr>\n",
       "<tr>\n",
       "  <th>ab_uk</th>     <td>-0.0469</td>  <td>0.0538</td>   <td>-0.8716</td>  <td>0.3834</td> <td>-0.1523</td> <td>0.0585</td> \n",
       "</tr>\n",
       "</table>"
      ],
      "text/plain": [
       "<class 'statsmodels.iolib.summary2.Summary'>\n",
       "\"\"\"\n",
       "                          Results: Logit\n",
       "==================================================================\n",
       "Model:              Logit            No. Iterations:   6.0000     \n",
       "Dependent Variable: converted        Pseudo R-squared: 0.000      \n",
       "Date:               2021-07-29 16:57 AIC:              212782.9124\n",
       "No. Observations:   290585           BIC:              212846.3903\n",
       "Df Model:           5                Log-Likelihood:   -1.0639e+05\n",
       "Df Residuals:       290579           LL-Null:          -1.0639e+05\n",
       "Converged:          1.0000           Scale:            1.0000     \n",
       "-------------------------------------------------------------------\n",
       "              Coef.   Std.Err.      z      P>|z|    [0.025   0.975]\n",
       "-------------------------------------------------------------------\n",
       "intercept    -1.9865    0.0096  -206.3440  0.0000  -2.0053  -1.9676\n",
       "ab_page      -0.0206    0.0137    -1.5060  0.1321  -0.0474   0.0062\n",
       "US           -0.0057    0.0188    -0.3057  0.7598  -0.0426   0.0311\n",
       "UK           -0.0175    0.0377    -0.4652  0.6418  -0.0914   0.0563\n",
       "ab_us         0.0314    0.0266     1.1811  0.2375  -0.0207   0.0835\n",
       "ab_uk        -0.0469    0.0538    -0.8716  0.3834  -0.1523   0.0585\n",
       "==================================================================\n",
       "\n",
       "\"\"\""
      ]
     },
     "execution_count": 41,
     "metadata": {},
     "output_type": "execute_result"
    }
   ],
   "source": [
    "log_model3 = sm.Logit(df3['converted'], df3[['intercept', 'ab_page', 'US', 'UK', 'ab_us', 'ab_uk']])\n",
    "fit = fitter(log_model3)\n",
    "fit.summary2()"
   ]
  },
  {
   "cell_type": "markdown",
   "metadata": {},
   "source": [
    "page and country have no significant effects on conversion for the sam reason as G"
   ]
  },
  {
   "cell_type": "markdown",
   "metadata": {},
   "source": [
    "#### summary\n",
    "we preformed two tests : null test and z-score test and we can find that conversion rate has no relation to the landing page\n",
    "also we preformed logistic regresion  model and the results matched the previous tests\n",
    "\n",
    "to make sure we don't go to any paradoxical situation we did include an additional factor which was the country of the user but  the results pointed to the same conclusion landing page and the country is not related to the conversion rate\n",
    "\n",
    "which lead us to conclude that landing pages and conversion rate relation cannot be proven statistically\n",
    "\n",
    "based on this evedance i would suggest dropping this new page and directing resources elsewhere as the new page did not get the wanted results"
   ]
  },
  {
   "cell_type": "code",
   "execution_count": 42,
   "metadata": {},
   "outputs": [
    {
     "data": {
      "text/plain": [
       "0"
      ]
     },
     "execution_count": 42,
     "metadata": {},
     "output_type": "execute_result"
    }
   ],
   "source": [
    "from subprocess import call\n",
    "call(['python', '-m', 'nbconvert', 'Analyze_ab_test_results_notebook.ipynb'])"
   ]
  },
  {
   "cell_type": "markdown",
   "metadata": {},
   "source": [
    "## refrences\n",
    "for summary code https://stackoverflow.com/a/49838010 \n",
    "\n",
    "DAND telegram group for the log_model code https://t.me/joinchat/GxJp-1jY448SpkJ_IeGRYw"
   ]
  }
 ],
 "metadata": {
  "kernelspec": {
   "display_name": "Python 3",
   "language": "python",
   "name": "python3"
  },
  "language_info": {
   "codemirror_mode": {
    "name": "ipython",
    "version": 3
   },
   "file_extension": ".py",
   "mimetype": "text/x-python",
   "name": "python",
   "nbconvert_exporter": "python",
   "pygments_lexer": "ipython3",
   "version": "3.6.3"
  }
 },
 "nbformat": 4,
 "nbformat_minor": 2
}
